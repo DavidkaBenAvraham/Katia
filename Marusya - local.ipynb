{
 "cells": [
  {
   "cell_type": "code",
   "execution_count": null,
   "id": "54b4b7b9",
   "metadata": {},
   "outputs": [],
   "source": [
    "import ipywidgets as widgets\n",
    "from IPython.display import display\n",
    "import main\n",
    "main()\n"
   ]
  },
  {
   "cell_type": "code",
   "execution_count": 8,
   "id": "e728fb12",
   "metadata": {},
   "outputs": [],
   "source": []
  },
  {
   "cell_type": "code",
   "execution_count": 5,
   "id": "8ff3c84f",
   "metadata": {},
   "outputs": [
    {
     "name": "stdout",
     "output_type": "stream",
     "text": [
      " Volume in drive G is Google Drive\n",
      " Volume Serial Number is 1983-1116\n",
      "\n",
      " Directory of G:\\??? ????\\Colab\n",
      "\n",
      "05/02/2022  10:11 AM    <DIR>          .\n",
      "05/01/2022  08:38 PM    <DIR>          ..\n",
      "09/25/2021  01:34 AM               987 telega_bot\n",
      "10/10/2021  11:41 PM            49,311 bot.ipynb\n",
      "05/04/2022  03:14 PM    <DIR>          Aluf\n",
      "05/02/2022  10:11 AM    <DIR>          e-cat-trainig\n",
      "               2 File(s)         50,298 bytes\n",
      "               4 Dir(s)  13,967,802,368 bytes free\n"
     ]
    }
   ],
   "source": []
  },
  {
   "cell_type": "code",
   "execution_count": null,
   "id": "b14bd749",
   "metadata": {},
   "outputs": [],
   "source": []
  }
 ],
 "metadata": {
  "kernelspec": {
   "display_name": "Python 3",
   "language": "python",
   "name": "python3"
  },
  "language_info": {
   "codemirror_mode": {
    "name": "ipython",
    "version": 3
   },
   "file_extension": ".py",
   "mimetype": "text/x-python",
   "name": "python",
   "nbconvert_exporter": "python",
   "pygments_lexer": "ipython3",
   "version": "3.9.7"
  }
 },
 "nbformat": 4,
 "nbformat_minor": 5
}
