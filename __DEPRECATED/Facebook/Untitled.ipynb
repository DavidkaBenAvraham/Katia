{
 "cells": [
  {
   "cell_type": "code",
   "execution_count": null,
   "metadata": {},
   "outputs": [],
   "source": [
    "def renderWidget(chart, width=None, height=None):\n",
    "    \"\"\" Render a pygal chart into a Jupyter Notebook \"\"\"\n",
    "    from ipywidgets import HTML\n",
    "\n",
    "    b64 = base64.b64encode(chart.render()).decode('utf-8')\n",
    "\n",
    "    src = 'data:image/svg+xml;charset=utf-8;base64,'+b64\n",
    "\n",
    "    if width and not height:\n",
    "        html = '<embed src={} width={}></embed>'.format(src, width)\n",
    "    elif height and not width:\n",
    "        html = '<embed src={} height={}></embed>'.format(src, height)\n",
    "    elif width and height:\n",
    "        html = '<embed src={} height={} width={}></embed>'.format(src,\n",
    "                                                                  height,\n",
    "                                                                  width)\n",
    "    else:\n",
    "        html = '<embed src={}>'.format(src)\n",
    "\n",
    "    return HTML(html) "
   ]
  }
 ],
 "metadata": {
  "kernelspec": {
   "display_name": "Python 3",
   "language": "python",
   "name": "python3"
  },
  "language_info": {
   "codemirror_mode": {
    "name": "ipython",
    "version": 3
   },
   "file_extension": ".py",
   "mimetype": "text/x-python",
   "name": "python",
   "nbconvert_exporter": "python",
   "pygments_lexer": "ipython3",
   "version": "3.7.6"
  }
 },
 "nbformat": 4,
 "nbformat_minor": 2
}
