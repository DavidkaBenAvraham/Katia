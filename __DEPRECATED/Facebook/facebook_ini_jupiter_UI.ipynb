{
 "cells": [
  {
   "cell_type": "code",
   "execution_count": 1,
   "metadata": {},
   "outputs": [
    {
     "ename": "ModuleNotFoundError",
     "evalue": "No module named 'Facebook'",
     "output_type": "error",
     "traceback": [
      "\u001b[1;31m---------------------------------------------------------------------------\u001b[0m",
      "\u001b[1;31mModuleNotFoundError\u001b[0m                       Traceback (most recent call last)",
      "\u001b[1;32m<ipython-input-1-cdf489be2e7c>\u001b[0m in \u001b[0;36m<module>\u001b[1;34m\u001b[0m\n\u001b[1;32m----> 1\u001b[1;33m \u001b[1;32mfrom\u001b[0m \u001b[0mFacebook\u001b[0m\u001b[1;33m.\u001b[0m\u001b[0mini\u001b[0m \u001b[1;32mimport\u001b[0m \u001b[0mIni\u001b[0m\u001b[1;33m\u001b[0m\u001b[1;33m\u001b[0m\u001b[0m\n\u001b[0m\u001b[0;32m      2\u001b[0m \u001b[1;32mimport\u001b[0m \u001b[0mipywidgets\u001b[0m \u001b[1;32mas\u001b[0m \u001b[0mwidgets\u001b[0m\u001b[1;33m\u001b[0m\u001b[1;33m\u001b[0m\u001b[0m\n\u001b[0;32m      3\u001b[0m \u001b[1;32mfrom\u001b[0m \u001b[0mIPython\u001b[0m\u001b[1;33m.\u001b[0m\u001b[0mdisplay\u001b[0m \u001b[1;32mimport\u001b[0m \u001b[0mdisplay\u001b[0m\u001b[1;33m\u001b[0m\u001b[1;33m\u001b[0m\u001b[0m\n\u001b[0;32m      4\u001b[0m \u001b[1;33m\u001b[0m\u001b[0m\n\u001b[0;32m      5\u001b[0m \u001b[1;32mclass\u001b[0m \u001b[0mRender\u001b[0m\u001b[1;33m(\u001b[0m\u001b[0mIni\u001b[0m\u001b[1;33m)\u001b[0m\u001b[1;33m:\u001b[0m\u001b[1;33m\u001b[0m\u001b[1;33m\u001b[0m\u001b[0m\n",
      "\u001b[1;31mModuleNotFoundError\u001b[0m: No module named 'Facebook'"
     ]
    }
   ],
   "source": [
    "from Facebook.ini import Ini\n",
    "import ipywidgets as widgets\n",
    "from IPython.display import display\n",
    "\n",
    "class Render(Ini):\n",
    "    \n",
    "    ###########################  текствые поля для существующих ключей \n",
    "    \n",
    "    def build_txt_inputs4_existing_values(self):\n",
    "        '''\n",
    "        существующие поля ini\n",
    "        '''\n",
    "    if len(initdata) == 0: return 0 #пустой файл нечего читать\n",
    "    for ini in initdata:\n",
    "        self.txt_ini[ini.key] = widgets.Text(\n",
    "            value=ini[ini.key],\n",
    "            placeholder=ini[ini.key],\n",
    "            description=ini.key,\n",
    "            disabled=False   \n",
    "        )\n",
    "    \n",
    "    display(txt_ini)\n",
    "    \n",
    "    ######################################################   текствые поля для новых ключей \n",
    "    \n",
    "    def build_txt_inputs4_new_values(self):\n",
    "        '''\n",
    "        новые поля ini\n",
    "        '''\n",
    "    self.txt_new_ini_string_key =  widgets.Text(\n",
    "            value='',\n",
    "            placeholder='',\n",
    "            description='key' ,\n",
    "            disabled=False   \n",
    "        )\n",
    "\n",
    "    self.txt_new_ini_string_value =  widgets.Text(\n",
    "            value='',\n",
    "            placeholder='',\n",
    "            description='value' ,\n",
    "            disabled=False   \n",
    "        )\n",
    "    display(self.txt_new_ini_string_key)\n",
    "    display(self.txt_new_ini_string_value)\n",
    "    \n",
    "    ########################################################\n",
    "    \n",
    "    self.button_save = widgets.Button(description=\"Save\")\n",
    "\n",
    "    def on_button_save_clicked(b): # Описываем обработчик события\n",
    "        if self.txt_new_ini_string_key.value != '' and self.txt_new_ini_string_value.value != '':\n",
    "            facebook_init_data.add_key(txt_new_ini_string_key.value , txt_new_ini_string_value.value)\n",
    "\n",
    "    self.button_save.on_click(self.on_button_save_clicked) # Назначаем этот обработчик на событие \"on_click\"\n",
    "    \n",
    "    \n",
    "    def run(self):\n",
    "        self.build_txt_inputs4_existing_value()\n",
    "        self.build_txt_inputs4_new_values()\n",
    "        display(self.button_save)"
   ]
  },
  {
   "cell_type": "code",
   "execution_count": null,
   "metadata": {},
   "outputs": [],
   "source": []
  }
 ],
 "metadata": {
  "kernelspec": {
   "display_name": "Python 3",
   "language": "python",
   "name": "python3"
  },
  "language_info": {
   "codemirror_mode": {
    "name": "ipython",
    "version": 3
   },
   "file_extension": ".py",
   "mimetype": "text/x-python",
   "name": "python",
   "nbconvert_exporter": "python",
   "pygments_lexer": "ipython3",
   "version": "3.7.6"
  }
 },
 "nbformat": 4,
 "nbformat_minor": 4
}
