{
 "cells": [
  {
   "cell_type": "code",
   "execution_count": null,
   "metadata": {},
   "outputs": [],
   "source": [
    "from selenium import webdriver\n",
    "import login_scenario \n",
    "import send_messages\n",
    "import csv_executor as csv_executor\n",
    "from class_main import Facebook"
   ]
  },
  {
   "cell_type": "markdown",
   "metadata": {},
   "source": [
    "файл facebook.ini хранит словарь настроек"
   ]
  },
  {
   "cell_type": "code",
   "execution_count": null,
   "metadata": {},
   "outputs": [],
   "source": []
  },
  {
   "cell_type": "markdown",
   "metadata": {},
   "source": [
    "класс фейсбук\n",
    "Параметры:\n",
    "\n",
    "Драйверы Я размещаю в папке в Windows system32\n",
    "driver - webdriver.Firefox()\n",
    "        webdriver.Chrome()\n",
    "        webdriver.Opera()\n",
    "        webdriver.Edge()\n",
    "        \n",
    "при каждом действии с DOM деревом я вставляю ожидания\n",
    "wait"
   ]
  },
  {
   "cell_type": "code",
   "execution_count": null,
   "metadata": {},
   "outputs": [],
   "source": [
    "facebook = Facebook(driver = 'firefox' , wait = 10)"
   ]
  },
  {
   "cell_type": "code",
   "execution_count": null,
   "metadata": {},
   "outputs": [],
   "source": [
    "import pandas as pd\n",
    "import ipywidgets as widgets\n",
    "from IPython.display import display\n",
    "\n",
    "\n",
    "msg = widgets.Textarea(\n",
    "    value='Hello World',\n",
    "    placeholder='Type something',\n",
    "    description='String:',\n",
    "    disabled=False\n",
    ")\n",
    "\n",
    "button_save_msg = widgets.Button(description=\"Save\")\n",
    "\n",
    "def on_button_save_msg_clicked(b): # Описываем обработчик события\n",
    "    with open (r'data/message.txt' , 'w', encoding=\"utf-8\")as f:  \n",
    "        f.write(msg.value)\n",
    "        \n",
    "button_save_msg.on_click(on_button_save_msg_clicked) # Назначаем этот обработчик на событие \"on_click\"\n",
    "\n",
    "display(msg)\n",
    "display(button_save_msg)\n"
   ]
  },
  {
   "cell_type": "code",
   "execution_count": null,
   "metadata": {},
   "outputs": [],
   "source": [
    "facebook.go(email = 'one.last.bit@gmail.com', password = '@o533368048' , loginbutton = 'loginbutton' )"
   ]
  }
 ],
 "metadata": {
  "kernelspec": {
   "display_name": "Python 3",
   "language": "python",
   "name": "python3"
  },
  "language_info": {
   "codemirror_mode": {
    "name": "ipython",
    "version": 3
   },
   "file_extension": ".py",
   "mimetype": "text/x-python",
   "name": "python",
   "nbconvert_exporter": "python",
   "pygments_lexer": "ipython3",
   "version": "3.7.6"
  }
 },
 "nbformat": 4,
 "nbformat_minor": 2
}
