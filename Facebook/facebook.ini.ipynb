{
 "cells": [
  {
   "cell_type": "code",
   "execution_count": 1,
   "metadata": {},
   "outputs": [],
   "source": [
    "from facebook_ini_class import Ini\n",
    "import ipywidgets as widgets\n",
    "from IPython.display import display\n",
    "\n",
    "class Render(Ini):\n",
    "    \n",
    "    ###########################  текствые поля для существующих ключей \n",
    "    \n",
    "    def render_textboxes_inputs_existing_values(self):\n",
    "        '''\n",
    "        существующие поля ini\n",
    "        '''\n",
    "\n",
    "        if len(self.get_ini_dict()) == 0: return 0 #пустой файл нечего читать\n",
    "\n",
    "\n",
    "        for ini in self.ini_dict:\n",
    "            self.textboxes_ini = widgets.Text(\n",
    "                value=self.ini_dict.get(ini),\n",
    "                placeholder=self.ini_dict.get(ini),\n",
    "                description=ini,\n",
    "                disabled=False   \n",
    "            )\n",
    "            display(self.textboxes_ini)\n",
    "    \n",
    "    ######################################################   текствые поля для новых ключей \n",
    "    \n",
    "    def render_textboxes_input_new_values(self):\n",
    "        '''\n",
    "        новые поля ini\n",
    "        '''\n",
    "        self.textbox_new_ini_key =  widgets.Text(\n",
    "                value='',\n",
    "                placeholder='',\n",
    "                description='new key' ,\n",
    "                disabled=False   \n",
    "            )\n",
    "\n",
    "        self.textbox_new_ini_value =  widgets.Text(\n",
    "                value='',\n",
    "                placeholder='',\n",
    "                description='new value' ,\n",
    "                disabled=False   \n",
    "            )\n",
    "        display(self.textbox_new_ini_key)\n",
    "        display(self.textbox_new_ini_value)\n",
    "    \n",
    "    ########################################################\n",
    "    \n",
    "    \n",
    "\n",
    "    def on_button_save_clicked(self, b): # Описываем обработчик события\n",
    "        if self.textbox_new_ini_key.value != '' and self.textbox_new_ini_value.value != '':\n",
    "            if self.add_ini_key(self.textbox_new_ini_key.value , self.textbox_new_ini_value.value):\n",
    "                self.run()\n",
    "\n",
    "        \n",
    "    def render_button_save(self):  \n",
    "        self.button_save = widgets.Button(description=\"Save\")\n",
    "        self.button_save.on_click(self.on_button_save_clicked) # Назначаем этот обработчик на событие \"on_click\"\n",
    "        display(self.button_save)\n",
    "\n",
    "\n",
    "    def run(self):\n",
    "        self.render_textboxes_inputs_existing_values()\n",
    "        self.render_textboxes_input_new_values()\n",
    "        self.render_button_save()\n",
    "\n",
    "#render =Render()\n",
    "#render.run()"
   ]
  },
  {
   "cell_type": "code",
   "execution_count": 2,
   "metadata": {},
   "outputs": [
    {
     "data": {
      "application/vnd.jupyter.widget-view+json": {
       "model_id": "8330f066d4784f52a2fff9be33fe1bb8",
       "version_major": 2,
       "version_minor": 0
      },
      "text/plain": [
       "Text(value='b', description='a', placeholder='b')"
      ]
     },
     "metadata": {},
     "output_type": "display_data"
    },
    {
     "data": {
      "application/vnd.jupyter.widget-view+json": {
       "model_id": "6d31a28fe9a546b594d4e8090fddbe4e",
       "version_major": 2,
       "version_minor": 0
      },
      "text/plain": [
       "Text(value='one.last.bit@gmail.com', description='username', placeholder='one.last.bit@gmail.com')"
      ]
     },
     "metadata": {},
     "output_type": "display_data"
    },
    {
     "data": {
      "application/vnd.jupyter.widget-view+json": {
       "model_id": "e2f42bc770da477c93e2f9da0eb97ccd",
       "version_major": 2,
       "version_minor": 0
      },
      "text/plain": [
       "Text(value='', description='new key', placeholder='')"
      ]
     },
     "metadata": {},
     "output_type": "display_data"
    },
    {
     "data": {
      "application/vnd.jupyter.widget-view+json": {
       "model_id": "8e36f5f3fd4e41d4b95643d280c56462",
       "version_major": 2,
       "version_minor": 0
      },
      "text/plain": [
       "Text(value='', description='new value', placeholder='')"
      ]
     },
     "metadata": {},
     "output_type": "display_data"
    },
    {
     "data": {
      "application/vnd.jupyter.widget-view+json": {
       "model_id": "48560037913f46e7bb843dd6c894f0e6",
       "version_major": 2,
       "version_minor": 0
      },
      "text/plain": [
       "Button(description='Save', style=ButtonStyle())"
      ]
     },
     "metadata": {},
     "output_type": "display_data"
    }
   ],
   "source": [
    "#from facebook_ini_jupiter_UI import Render\n",
    "render = Render()\n",
    "render.run()"
   ]
  },
  {
   "cell_type": "code",
   "execution_count": null,
   "metadata": {},
   "outputs": [],
   "source": []
  }
 ],
 "metadata": {
  "kernelspec": {
   "display_name": "Python 3",
   "language": "python",
   "name": "python3"
  },
  "language_info": {
   "codemirror_mode": {
    "name": "ipython",
    "version": 3
   },
   "file_extension": ".py",
   "mimetype": "text/x-python",
   "name": "python",
   "nbconvert_exporter": "python",
   "pygments_lexer": "ipython3",
   "version": "3.7.6"
  }
 },
 "nbformat": 4,
 "nbformat_minor": 4
}
