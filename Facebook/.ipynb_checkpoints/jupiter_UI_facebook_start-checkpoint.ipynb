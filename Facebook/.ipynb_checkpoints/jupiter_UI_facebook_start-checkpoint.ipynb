{
 "cells": [
  {
   "cell_type": "code",
   "execution_count": null,
   "metadata": {},
   "outputs": [],
   "source": [
    "from selenium import webdriver\n",
    "import login_scenario \n",
    "import send_messages\n",
    "import csv_executor as csv_executor\n",
    "from class_main import Facebook"
   ]
  },
  {
   "cell_type": "markdown",
   "metadata": {},
   "source": [
    "класс фейсбук\n",
    "Параметры:\n",
    "\n",
    "Драйверы Я размещаю в папке в Windows system32\n",
    "driver - webdriver.Firefox()\n",
    "        webdriver.Chrome()\n",
    "        webdriver.Opera()\n",
    "        webdriver.Edge()\n",
    "при каждом действии с DOM деревом я\n",
    "wait"
   ]
  },
  {
   "cell_type": "code",
   "execution_count": null,
   "metadata": {},
   "outputs": [],
   "source": [
    "facebook = Facebook(driver = 'firefox' , wait = 10)"
   ]
  },
  {
   "cell_type": "code",
   "execution_count": null,
   "metadata": {},
   "outputs": [],
   "source": [
    "facebook.go(email = 'one.last.bit@gmail.com', password = '@o533368048' , loginbutton = 'loginbutton' )"
   ]
  }
 ],
 "metadata": {
  "kernelspec": {
   "display_name": "Python 3",
   "language": "python",
   "name": "python3"
  },
  "language_info": {
   "codemirror_mode": {
    "name": "ipython",
    "version": 3
   },
   "file_extension": ".py",
   "mimetype": "text/x-python",
   "name": "python",
   "nbconvert_exporter": "python",
   "pygments_lexer": "ipython3",
   "version": "3.7.1"
  }
 },
 "nbformat": 4,
 "nbformat_minor": 2
}
