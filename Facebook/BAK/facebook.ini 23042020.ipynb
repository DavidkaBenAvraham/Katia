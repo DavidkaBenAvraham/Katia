{
 "cells": [
  {
   "cell_type": "code",
   "execution_count": 1,
   "metadata": {},
   "outputs": [
    {
     "name": "stdout",
     "output_type": "stream",
     "text": [
      "<ini.Ini object at 0x000001E0FFCA5808>\n"
     ]
    }
   ],
   "source": [
    "from ini_files import Ini\n",
    "facebook_init_data = Ini()\n",
    "print(facebook_init_data)"
   ]
  },
  {
   "cell_type": "code",
   "execution_count": 2,
   "metadata": {},
   "outputs": [],
   "source": [
    "import ipywidgets as widgets\n",
    "from IPython.display import display\n",
    "\n",
    "class Render(Ini):\n",
    "    \n",
    "    ###########################  текствые поля для существующих ключей \n",
    "    \n",
    "    def build_txt_inputs4_existing_values(self):\n",
    "        '''\n",
    "        существующие поля ini\n",
    "        '''\n",
    "    if len(initdata) == 0: return 0 #пустой файл нечего читать\n",
    "    for ini in initdata:\n",
    "        self.txt_ini[ini.key] = widgets.Text(\n",
    "            value=ini[ini.key],\n",
    "            placeholder=ini[ini.key],\n",
    "            description=ini.key,\n",
    "            disabled=False   \n",
    "        )\n",
    "    \n",
    "    display(txt_ini)\n",
    "    \n",
    "    ######################################################   текствые поля для новых ключей \n",
    "    \n",
    "    def build_txt_inputs4_new_values(self):\n",
    "        '''\n",
    "        новые поля ini\n",
    "        '''\n",
    "    self.txt_new_ini_string_key =  widgets.Text(\n",
    "            value='',\n",
    "            placeholder='',\n",
    "            description='key' ,\n",
    "            disabled=False   \n",
    "        )\n",
    "\n",
    "    self.txt_new_ini_string_value =  widgets.Text(\n",
    "            value='',\n",
    "            placeholder='',\n",
    "            description='value' ,\n",
    "            disabled=False   \n",
    "        )\n",
    "    display(self.txt_new_ini_string_key)\n",
    "    display(self.txt_new_ini_string_value)\n",
    "    \n",
    "    ########################################################\n",
    "    \n",
    "    self.button_save = widgets.Button(description=\"Save\")\n",
    "\n",
    "    def on_button_save_clicked(b): # Описываем обработчик события\n",
    "        if self.txt_new_ini_string_key.value != '' and self.txt_new_ini_string_value.value != '':\n",
    "            facebook_init_data.add_key(txt_new_ini_string_key.value , txt_new_ini_string_value.value)\n",
    "\n",
    "    self.button_save.on_click(self.on_button_save_clicked) # Назначаем этот обработчик на событие \"on_click\"\n"
   ]
  },
  {
   "cell_type": "markdown",
   "metadata": {},
   "source": [
    "существующие поля ini"
   ]
  },
  {
   "cell_type": "code",
   "execution_count": 3,
   "metadata": {},
   "outputs": [],
   "source": [
    "def build_txt_inputs4_existing_values():\n",
    "if len(facebook_init_data.get()) == 0: return 0 #пустой файл нечего читать\n",
    "for ini in facebook_init_data.get():\n",
    "    txt_ini[ini.key] = widgets.Text(\n",
    "        value=ini[ini.key],\n",
    "        placeholder=ini[ini.key],\n",
    "        description=ini.key,\n",
    "        disabled=False   \n",
    "    )\n",
    "\n",
    "display(txt_ini)"
   ]
  },
  {
   "cell_type": "markdown",
   "metadata": {},
   "source": [
    "новые значения ini"
   ]
  },
  {
   "cell_type": "code",
   "execution_count": 4,
   "metadata": {},
   "outputs": [],
   "source": [
    "def build_txt_inputs4_new_values():\n",
    "    txt_new_ini_string_key =  widgets.Text(\n",
    "            value='',\n",
    "            placeholder='',\n",
    "            description='key' ,\n",
    "            disabled=False   \n",
    "        )\n",
    "\n",
    "    txt_new_ini_string_value =  widgets.Text(\n",
    "            value='',\n",
    "            placeholder='',\n",
    "            description='value' ,\n",
    "            disabled=False   \n",
    "        )\n",
    "    display(txt_new_ini_string_key)\n",
    "    display(txt_new_ini_string_value)\n"
   ]
  },
  {
   "cell_type": "markdown",
   "metadata": {},
   "source": [
    "кнопка Save"
   ]
  },
  {
   "cell_type": "code",
   "execution_count": 5,
   "metadata": {},
   "outputs": [
    {
     "data": {
      "application/vnd.jupyter.widget-view+json": {
       "model_id": "63bee23498fa494fb10083e69c8947b4",
       "version_major": 2,
       "version_minor": 0
      },
      "text/plain": [
       "Text(value='', description='key', placeholder='')"
      ]
     },
     "metadata": {},
     "output_type": "display_data"
    },
    {
     "data": {
      "application/vnd.jupyter.widget-view+json": {
       "model_id": "d6252dd742704d07a5c0157e05814ed2",
       "version_major": 2,
       "version_minor": 0
      },
      "text/plain": [
       "Text(value='', description='value', placeholder='')"
      ]
     },
     "metadata": {},
     "output_type": "display_data"
    },
    {
     "data": {
      "application/vnd.jupyter.widget-view+json": {
       "model_id": "2007475a9d2740dfa49f09505fa56790",
       "version_major": 2,
       "version_minor": 0
      },
      "text/plain": [
       "Button(description='Save', style=ButtonStyle())"
      ]
     },
     "metadata": {},
     "output_type": "display_data"
    },
    {
     "ename": "NameError",
     "evalue": "name 'txt_new_ini_string_key' is not defined",
     "output_type": "error",
     "traceback": [
      "\u001b[1;31m---------------------------------------------------------------------------\u001b[0m",
      "\u001b[1;31mNameError\u001b[0m                                 Traceback (most recent call last)",
      "\u001b[1;32m<ipython-input-5-2f246d21b3a1>\u001b[0m in \u001b[0;36mon_button_save_clicked\u001b[1;34m(b)\u001b[0m\n\u001b[0;32m      2\u001b[0m \u001b[1;33m\u001b[0m\u001b[0m\n\u001b[0;32m      3\u001b[0m \u001b[1;32mdef\u001b[0m \u001b[0mon_button_save_clicked\u001b[0m\u001b[1;33m(\u001b[0m\u001b[0mb\u001b[0m\u001b[1;33m)\u001b[0m\u001b[1;33m:\u001b[0m \u001b[1;31m# Описываем обработчик события\u001b[0m\u001b[1;33m\u001b[0m\u001b[1;33m\u001b[0m\u001b[0m\n\u001b[1;32m----> 4\u001b[1;33m     \u001b[1;32mif\u001b[0m \u001b[0mtxt_new_ini_string_key\u001b[0m\u001b[1;33m.\u001b[0m\u001b[0mvalue\u001b[0m \u001b[1;33m!=\u001b[0m \u001b[1;34m''\u001b[0m \u001b[1;32mand\u001b[0m \u001b[0mtxt_new_ini_string_value\u001b[0m\u001b[1;33m.\u001b[0m\u001b[0mvalue\u001b[0m \u001b[1;33m!=\u001b[0m \u001b[1;34m''\u001b[0m\u001b[1;33m:\u001b[0m\u001b[1;33m\u001b[0m\u001b[1;33m\u001b[0m\u001b[0m\n\u001b[0m\u001b[0;32m      5\u001b[0m         \u001b[0mfacebook_init_data\u001b[0m\u001b[1;33m.\u001b[0m\u001b[0madd_key\u001b[0m\u001b[1;33m(\u001b[0m\u001b[0mtxt_new_ini_string_key\u001b[0m\u001b[1;33m.\u001b[0m\u001b[0mvalue\u001b[0m \u001b[1;33m,\u001b[0m \u001b[0mtxt_new_ini_string_value\u001b[0m\u001b[1;33m.\u001b[0m\u001b[0mvalue\u001b[0m\u001b[1;33m)\u001b[0m\u001b[1;33m\u001b[0m\u001b[1;33m\u001b[0m\u001b[0m\n\u001b[0;32m      6\u001b[0m \u001b[1;33m\u001b[0m\u001b[0m\n",
      "\u001b[1;31mNameError\u001b[0m: name 'txt_new_ini_string_key' is not defined"
     ]
    }
   ],
   "source": [
    "button_save = widgets.Button(description=\"Save\")\n",
    "\n",
    "def on_button_save_clicked(b): # Описываем обработчик события\n",
    "    if txt_new_ini_string_key.value != '' and txt_new_ini_string_value.value != '':\n",
    "        facebook_init_data.add_key(txt_new_ini_string_key.value , txt_new_ini_string_value.value)\n",
    "        \n",
    "button_save.on_click(on_button_save_clicked) # Назначаем этот обработчик на событие \"on_click\"\n",
    "\n",
    "\n",
    "#HTML += str(f'<tr><td>{txt_ini[ini.key].description}</td><td>{txt_ini[ini.key].value}</td></tr>')\n",
    "build_txt_inputs4_existing_values()\n",
    "build_txt_inputs4_new_values()\n",
    "display(button_save)"
   ]
  },
  {
   "cell_type": "code",
   "execution_count": null,
   "metadata": {},
   "outputs": [],
   "source": []
  }
 ],
 "metadata": {
  "kernelspec": {
   "display_name": "Python 3",
   "language": "python",
   "name": "python3"
  },
  "language_info": {
   "codemirror_mode": {
    "name": "ipython",
    "version": 3
   },
   "file_extension": ".py",
   "mimetype": "text/x-python",
   "name": "python",
   "nbconvert_exporter": "python",
   "pygments_lexer": "ipython3",
   "version": "3.7.6"
  }
 },
 "nbformat": 4,
 "nbformat_minor": 2
}
