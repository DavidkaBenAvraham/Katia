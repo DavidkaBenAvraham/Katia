{
 "cells": [
  {
   "cell_type": "code",
   "execution_count": 1,
   "id": "c4a44fe4",
   "metadata": {},
   "outputs": [
    {
     "ename": "IndentationError",
     "evalue": "unexpected indent (__init__.py, line 204)",
     "output_type": "error",
     "traceback": [
      "Traceback \u001b[1;36m(most recent call last)\u001b[0m:\n",
      "  File \u001b[0;32m\"C:\\ProgramData\\Anaconda3\\lib\\site-packages\\IPython\\core\\interactiveshell.py\"\u001b[0m, line \u001b[0;32m3444\u001b[0m, in \u001b[0;35mrun_code\u001b[0m\n    exec(code_obj, self.user_global_ns, self.user_ns)\n",
      "  File \u001b[0;32m\"C:\\Users\\user\\AppData\\Local\\Temp/ipykernel_2548/1495681738.py\"\u001b[0m, line \u001b[0;32m8\u001b[0m, in \u001b[0;35m<module>\u001b[0m\n    import main\n",
      "  File \u001b[0;32m\"C:\\Users\\user\\OneDrive\\REPOS\\Aluf\\Aluf\\main.py\"\u001b[0m, line \u001b[0;32m21\u001b[0m, in \u001b[0;35m<module>\u001b[0m\n    import suppliers\n",
      "\u001b[1;36m  File \u001b[1;32m\"C:\\Users\\user\\OneDrive\\REPOS\\Aluf\\Aluf\\suppliers\\__init__.py\"\u001b[1;36m, line \u001b[1;32m149\u001b[1;36m, in \u001b[1;35m<module>\u001b[1;36m\u001b[0m\n\u001b[1;33m    from logger import Log\u001b[0m\n",
      "\u001b[1;36m  File \u001b[1;32m\"C:\\Users\\user\\OneDrive\\REPOS\\Aluf\\Aluf\\logger\\__init__.py\"\u001b[1;36m, line \u001b[1;32m204\u001b[0m\n\u001b[1;33m    try:\u001b[0m\n\u001b[1;37m    ^\u001b[0m\n\u001b[1;31mIndentationError\u001b[0m\u001b[1;31m:\u001b[0m unexpected indent\n"
     ]
    }
   ],
   "source": [
    "'''\n",
    "!pip install google.colab\n",
    "from google.colab import drive\n",
    "drive_mount_point = drive.mount('/content/drive')\n",
    "!cd '/content/drive/MyDrive/Colab_Notebooks/Aluf'\n",
    "!python /content/drive/MyDrive/Colab_Notebooks/Aluf/main.py\n",
    "'''\n",
    "import main\n",
    "main.run()\n"
   ]
  },
  {
   "cell_type": "code",
   "execution_count": null,
   "id": "d5fd957b",
   "metadata": {},
   "outputs": [],
   "source": []
  },
  {
   "cell_type": "code",
   "execution_count": null,
   "id": "fb2f3eab",
   "metadata": {},
   "outputs": [],
   "source": []
  }
 ],
 "metadata": {
  "kernelspec": {
   "display_name": "Python 3 (ipykernel)",
   "language": "python",
   "name": "python3"
  },
  "language_info": {
   "codemirror_mode": {
    "name": "ipython",
    "version": 3
   },
   "file_extension": ".py",
   "mimetype": "text/x-python",
   "name": "python",
   "nbconvert_exporter": "python",
   "pygments_lexer": "ipython3",
   "version": "3.9.7"
  }
 },
 "nbformat": 4,
 "nbformat_minor": 5
}
