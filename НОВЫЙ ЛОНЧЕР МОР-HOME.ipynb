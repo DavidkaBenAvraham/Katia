{
 "cells": [
  {
   "cell_type": "code",
   "execution_count": 1,
   "metadata": {},
   "outputs": [
    {
     "name": "stdout",
     "output_type": "stream",
     "text": [
      "2021-02-05 11:27:04.523253 (delta = 0:00:00.001461) \t : \t __init__->__init__->write: \n",
      "        LOG STR:  запустился класс Driver()  \n",
      "2021-02-05 11:27:22.677667 (delta = 0:00:18.154414) \t : \t run->get_url->write: \n",
      "        LOG STR:        Успешный переход по адресу: https://www.morlevi.co.il/\n",
      "            Title : מור לוי    \n",
      "2021-02-05 11:27:27.133074 (delta = 0:00:04.455407) \t : \t run->logged_in->write: \n",
      "        LOG STR:  Mor logged in \n"
     ]
    },
    {
     "ename": "TypeError",
     "evalue": "string indices must be integers",
     "output_type": "error",
     "traceback": [
      "\u001b[1;31m---------------------------------------------------------------------------\u001b[0m",
      "\u001b[1;31mTypeError\u001b[0m                                 Traceback (most recent call last)",
      "\u001b[1;32m<ipython-input-1-8f8b4d89bfb0>\u001b[0m in \u001b[0;36m<module>\u001b[1;34m\u001b[0m\n\u001b[0;32m     58\u001b[0m \u001b[1;32mfor\u001b[0m \u001b[0mscenario\u001b[0m \u001b[1;32min\u001b[0m \u001b[0mscenaries\u001b[0m\u001b[1;33m:\u001b[0m\u001b[1;33m\u001b[0m\u001b[1;33m\u001b[0m\u001b[0m\n\u001b[0;32m     59\u001b[0m     \u001b[0msupplier\u001b[0m \u001b[1;33m=\u001b[0m \u001b[0mmain\u001b[0m\u001b[1;33m.\u001b[0m\u001b[0mrun_supplier\u001b[0m\u001b[1;33m(\u001b[0m\u001b[1;34m'mor'\u001b[0m\u001b[1;33m)\u001b[0m\u001b[1;33m\u001b[0m\u001b[1;33m\u001b[0m\u001b[0m\n\u001b[1;32m---> 60\u001b[1;33m     \u001b[0mmain\u001b[0m\u001b[1;33m.\u001b[0m\u001b[0mrun_scenario\u001b[0m\u001b[1;33m(\u001b[0m\u001b[0msupplier\u001b[0m \u001b[1;33m,\u001b[0m \u001b[0mscenario\u001b[0m\u001b[1;33m)\u001b[0m\u001b[1;33m\u001b[0m\u001b[1;33m\u001b[0m\u001b[0m\n\u001b[0m",
      "\u001b[1;32m~\\OneDrive\\REPOS\\Aluf\\Aluf\\main.py\u001b[0m in \u001b[0;36mrun_scenario\u001b[1;34m(supplier, scenario_files)\u001b[0m\n\u001b[0;32m     72\u001b[0m             \u001b[0msupplier\u001b[0m\u001b[1;33m.\u001b[0m\u001b[0mexport_products_by_scenaries\u001b[0m\u001b[1;33m(\u001b[0m\u001b[0mscenario\u001b[0m\u001b[1;33m)\u001b[0m\u001b[1;33m\u001b[0m\u001b[1;33m\u001b[0m\u001b[0m\n\u001b[0;32m     73\u001b[0m \u001b[1;33m\u001b[0m\u001b[0m\n\u001b[1;32m---> 74\u001b[1;33m     \u001b[1;32melse\u001b[0m\u001b[1;33m:\u001b[0m \u001b[0msupplier\u001b[0m\u001b[1;33m.\u001b[0m\u001b[0mexport_products_by_scenaries\u001b[0m\u001b[1;33m(\u001b[0m\u001b[0mscenario_files\u001b[0m\u001b[1;33m)\u001b[0m\u001b[1;33m\u001b[0m\u001b[1;33m\u001b[0m\u001b[0m\n\u001b[0m\u001b[0;32m     75\u001b[0m     \u001b[0msupplier\u001b[0m\u001b[1;33m.\u001b[0m\u001b[0mdriver\u001b[0m\u001b[1;33m.\u001b[0m\u001b[0mquit\u001b[0m\u001b[1;33m(\u001b[0m\u001b[1;33m)\u001b[0m\u001b[1;33m\u001b[0m\u001b[1;33m\u001b[0m\u001b[0m\n\u001b[0;32m     76\u001b[0m     \u001b[1;32mreturn\u001b[0m \u001b[1;32mTrue\u001b[0m\u001b[1;33m\u001b[0m\u001b[1;33m\u001b[0m\u001b[0m\n",
      "\u001b[1;32m~\\OneDrive\\REPOS\\Aluf\\Aluf\\morlevi\\__init__.py\u001b[0m in \u001b[0;36mexport_products_by_scenaries\u001b[1;34m(self, scenario_files)\u001b[0m\n\u001b[0;32m     55\u001b[0m \u001b[1;33m\u001b[0m\u001b[0m\n\u001b[0;32m     56\u001b[0m     \u001b[1;32mdef\u001b[0m \u001b[0mexport_products_by_scenaries\u001b[0m\u001b[1;33m(\u001b[0m\u001b[0mself\u001b[0m \u001b[1;33m,\u001b[0m \u001b[0mscenario_files\u001b[0m \u001b[1;33m=\u001b[0m\u001b[1;34m''\u001b[0m \u001b[1;33m)\u001b[0m\u001b[1;33m:\u001b[0m\u001b[1;33m\u001b[0m\u001b[1;33m\u001b[0m\u001b[0m\n\u001b[1;32m---> 57\u001b[1;33m         \u001b[0mp\u001b[0m \u001b[1;33m=\u001b[0m  \u001b[0mexecute_scenaries\u001b[0m\u001b[1;33m.\u001b[0m\u001b[0mexecute_list_of_scenaries\u001b[0m\u001b[1;33m(\u001b[0m\u001b[0mself\u001b[0m \u001b[1;33m,\u001b[0m \u001b[0mscenario_files\u001b[0m\u001b[1;33m)\u001b[0m\u001b[1;33m\u001b[0m\u001b[1;33m\u001b[0m\u001b[0m\n\u001b[0m\u001b[0;32m     58\u001b[0m         \u001b[1;32mreturn\u001b[0m \u001b[0mproduct\u001b[0m\u001b[1;33m.\u001b[0m\u001b[0mflush_p\u001b[0m\u001b[1;33m(\u001b[0m\u001b[0mself\u001b[0m \u001b[1;33m,\u001b[0m \u001b[0mp\u001b[0m\u001b[1;33m)\u001b[0m\u001b[1;33m\u001b[0m\u001b[1;33m\u001b[0m\u001b[0m\n\u001b[0;32m     59\u001b[0m \u001b[1;33m\u001b[0m\u001b[0m\n",
      "\u001b[1;32m~\\OneDrive\\REPOS\\Aluf\\Aluf\\execute_scenaries.py\u001b[0m in \u001b[0;36mexecute_list_of_scenaries\u001b[1;34m(self, scenario_files)\u001b[0m\n\u001b[0;32m     20\u001b[0m         \u001b[0mjson_scenario\u001b[0m \u001b[1;33m=\u001b[0m \u001b[0mjsn\u001b[0m\u001b[1;33m.\u001b[0m\u001b[0mget_json_from_file\u001b[0m\u001b[1;33m(\u001b[0m\u001b[0mjson_file\u001b[0m\u001b[1;33m)\u001b[0m\u001b[1;33m\u001b[0m\u001b[1;33m\u001b[0m\u001b[0m\n\u001b[0;32m     21\u001b[0m         \u001b[1;31m# заполняемый сейчас список товаров\u001b[0m\u001b[1;33m\u001b[0m\u001b[1;33m\u001b[0m\u001b[1;33m\u001b[0m\u001b[0m\n\u001b[1;32m---> 22\u001b[1;33m         \u001b[0mcurrent_p\u001b[0m \u001b[1;33m=\u001b[0m \u001b[0mrun_scenario\u001b[0m\u001b[1;33m(\u001b[0m\u001b[0mself\u001b[0m \u001b[1;33m,\u001b[0m \u001b[0mjson_scenario\u001b[0m\u001b[1;33m)\u001b[0m\u001b[1;33m\u001b[0m\u001b[1;33m\u001b[0m\u001b[0m\n\u001b[0m\u001b[0;32m     23\u001b[0m         \u001b[1;32mif\u001b[0m \u001b[0mcurrent_p\u001b[0m \u001b[1;33m==\u001b[0m \u001b[1;32mFalse\u001b[0m \u001b[1;33m:\u001b[0m \u001b[1;32mpass\u001b[0m\u001b[1;33m\u001b[0m\u001b[1;33m\u001b[0m\u001b[0m\n\u001b[0;32m     24\u001b[0m         \u001b[1;31m#присоединяем полученный список к уже собранным товарам\u001b[0m\u001b[1;33m\u001b[0m\u001b[1;33m\u001b[0m\u001b[1;33m\u001b[0m\u001b[0m\n",
      "\u001b[1;32m~\\OneDrive\\REPOS\\Aluf\\Aluf\\execute_scenaries.py\u001b[0m in \u001b[0;36mrun_scenario\u001b[1;34m(self, json_scenario)\u001b[0m\n\u001b[0;32m     30\u001b[0m \u001b[1;32mdef\u001b[0m \u001b[0mrun_scenario\u001b[0m\u001b[1;33m(\u001b[0m\u001b[0mself\u001b[0m \u001b[1;33m,\u001b[0m \u001b[0mjson_scenario\u001b[0m\u001b[1;33m)\u001b[0m\u001b[1;33m:\u001b[0m\u001b[1;33m\u001b[0m\u001b[1;33m\u001b[0m\u001b[0m\n\u001b[0;32m     31\u001b[0m     \u001b[1;34m'''запускает один сценарий и  возвращает список товаров готовый к экспорту'''\u001b[0m\u001b[1;33m\u001b[0m\u001b[1;33m\u001b[0m\u001b[0m\n\u001b[1;32m---> 32\u001b[1;33m     \u001b[1;32mreturn\u001b[0m \u001b[0mproduct\u001b[0m\u001b[1;33m.\u001b[0m\u001b[0mget_all\u001b[0m\u001b[1;33m(\u001b[0m\u001b[0mself\u001b[0m \u001b[1;33m,\u001b[0m \u001b[0mjson_scenario\u001b[0m\u001b[1;33m)\u001b[0m\u001b[1;33m\u001b[0m\u001b[1;33m\u001b[0m\u001b[0m\n\u001b[0m",
      "\u001b[1;32m~\\OneDrive\\REPOS\\Aluf\\Aluf\\product.py\u001b[0m in \u001b[0;36mget_all\u001b[1;34m(self, json_scenario)\u001b[0m\n\u001b[0;32m     44\u001b[0m         \u001b[1;31m#1 собираю ссылки на товары со страниц категории, описанной узлом сценария\u001b[0m\u001b[1;33m\u001b[0m\u001b[1;33m\u001b[0m\u001b[1;33m\u001b[0m\u001b[0m\n\u001b[0;32m     45\u001b[0m         \u001b[0mp_hrefs\u001b[0m \u001b[1;33m=\u001b[0m \u001b[1;33m[\u001b[0m\u001b[1;33m]\u001b[0m \u001b[1;31m# ссылки на товары\u001b[0m\u001b[1;33m\u001b[0m\u001b[1;33m\u001b[0m\u001b[0m\n\u001b[1;32m---> 46\u001b[1;33m         \u001b[0mp_hrefs\u001b[0m \u001b[1;33m=\u001b[0m \u001b[0msozdaj_ssylki_na_tovary\u001b[0m\u001b[1;33m(\u001b[0m\u001b[0mself\u001b[0m \u001b[1;33m,\u001b[0m \u001b[0mself\u001b[0m\u001b[1;33m.\u001b[0m\u001b[0mjson_currentscenario_node\u001b[0m\u001b[1;33m[\u001b[0m\u001b[1;34m\"url\"\u001b[0m\u001b[1;33m]\u001b[0m\u001b[1;33m)\u001b[0m\u001b[1;33m\u001b[0m\u001b[1;33m\u001b[0m\u001b[0m\n\u001b[0m\u001b[0;32m     47\u001b[0m         \u001b[0mself\u001b[0m\u001b[1;33m.\u001b[0m\u001b[0mlog\u001b[0m\u001b[1;33m.\u001b[0m\u001b[0mwrite\u001b[0m\u001b[1;33m(\u001b[0m\u001b[1;34mf''' Собрал ссылки {p_hrefs}'''\u001b[0m\u001b[1;33m)\u001b[0m\u001b[1;33m\u001b[0m\u001b[1;33m\u001b[0m\u001b[0m\n\u001b[0;32m     48\u001b[0m \u001b[1;33m\u001b[0m\u001b[0m\n",
      "\u001b[1;31mTypeError\u001b[0m: string indices must be integers"
     ]
    }
   ],
   "source": [
    "import main\n",
    "\n",
    "suppliers_names = ['cdata','mor','grand','vdg']\n",
    "one_supplier = ['mor']\n",
    "\n",
    "\n",
    "cpu = [\"morlevi_categories_cpu.json\"]\n",
    "\n",
    "kb = [\"morlevi_categories_keyboards_hp.json\",\"morlevi_categories_keyboards_genius.json\"]\n",
    "\n",
    "laptops = [\"morlevi_categories_laptops_asus.json\",\n",
    "    \"morlevi_categories_laptops_dell.json\",\n",
    "    \"morlevi_categories_laptops_hp.json\",\n",
    "    \"morlevi_categories_laptops_lenovo.json\"]\n",
    "\n",
    "mb = [ \"morlevi_categories_mb_gigabyte.json\"]\n",
    "\n",
    "memory =  [\"morlevi_categories_memory_dimm_ddr3.json\", \"morlevi_categories_memory_dimm_ddr4.json\"]\n",
    "minipc = [ \"morlevi_categories_minipc_gigabyte.json\", \"morlevi_categories_minipc_intel.json\"]\n",
    "monitors = [\n",
    "    \"morlevi_categories_monitors_aoc.json\",\n",
    "    \"morlevi_categories_monitors_gigabyte.json\",\n",
    "    \"morlevi_categories_monitors_coolermaster.json\",\n",
    "    \"morlevi_categories_monitors_dell.json\",\n",
    "    \"morlevi_categories_monitors_lenovo.json\",\n",
    "    \"morlevi_categories_monitors_mag.json\",\n",
    "    \"morlevi_categories_monitors_philips.json\",\n",
    "    \"morlevi_categories_monitors_lenovo.json\"]\n",
    "\n",
    "storage = [ \"morlevi_categories_storage_crucial.json\",\n",
    "    \"morlevi_categories_storage_gigabyte.json\",\n",
    "    \"morlevi_categories_storage_intel.json\",\n",
    "    \"morlevi_categories_storage_kingston.json\",\n",
    "    \"morlevi_categories_storage_samsung.json\",\n",
    "    \"morlevi_categories_storage_sandisk.json\",\n",
    "    \"morlevi_categories_storage_toshiba.json\",\n",
    "    \"morlevi_categories_storage_wd.json\"]\n",
    "\n",
    "\n",
    "\n",
    "network = [\"morlevi_categories_network.json\"]\n",
    "printers =[\"morlevi_categories_printers.json\"]\n",
    "\n",
    "psu = [\"morlevi_categories_psu.json\"]\n",
    "\n",
    "sound =[\"morlevi_categories_sound.json\"]\n",
    "\n",
    "ups = [\"morlevi_categories_ups.json\"]\n",
    "\n",
    "video = [\"morlevi_categories_video.json\"]\n",
    "\n",
    "\n",
    "\n",
    "\n",
    "scenaries = [cpu,kb,laptops,mb,memory,minipc,monitors,storage, network,printers,psu,sound,ups,video]\n",
    "\n",
    "scenaries = [printers,psu,sound,ups,video]\n",
    "for scenario in scenaries: \n",
    "    supplier = main.run_supplier('mor')\n",
    "    main.run_scenario(supplier , scenario)"
   ]
  },
  {
   "cell_type": "code",
   "execution_count": null,
   "metadata": {},
   "outputs": [],
   "source": []
  },
  {
   "cell_type": "code",
   "execution_count": null,
   "metadata": {},
   "outputs": [],
   "source": []
  }
 ],
 "metadata": {
  "kernelspec": {
   "display_name": "Python 3",
   "language": "python",
   "name": "python3"
  },
  "language_info": {
   "codemirror_mode": {
    "name": "ipython",
    "version": 3
   },
   "file_extension": ".py",
   "mimetype": "text/x-python",
   "name": "python",
   "nbconvert_exporter": "python",
   "pygments_lexer": "ipython3",
   "version": "3.7.6"
  }
 },
 "nbformat": 4,
 "nbformat_minor": 4
}
