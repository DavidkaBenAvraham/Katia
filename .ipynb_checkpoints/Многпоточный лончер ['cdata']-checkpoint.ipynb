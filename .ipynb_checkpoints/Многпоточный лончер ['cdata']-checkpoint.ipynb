{
 "cells": [
  {
   "cell_type": "code",
   "execution_count": 1,
   "metadata": {},
   "outputs": [],
   "source": [
    "import main\n",
    "main.run()"
   ]
  },
  {
   "cell_type": "code",
   "execution_count": 3,
   "metadata": {},
   "outputs": [
    {
     "name": "stdout",
     "output_type": "stream",
     "text": [
      "2021-04-12 16:53:25.516033 (delta = 0:00:00.006002) \t : \t __init__->__init__->write: \n",
      "        LOG STR:  запустился класс Driver()  \n",
      "2021-04-12 16:53:25.525037 (delta = 0:00:00.013005) \t : \t __init__->__init__->write: \n",
      "        LOG STR:  запустился класс Driver()  \n",
      "2021-04-12 16:53:25.516033 (delta = 0:00:00.003000) \t : \t __init__->__init__->write: \n",
      "        LOG STR:  запустился класс Driver()  \n",
      "2021-04-12 16:53:25.511033 (delta = 0:00:00.005003) \t : \t __init__->__init__->write: \n",
      "        LOG STR:  запустился класс Driver()  \n",
      "2021-04-12 16:53:46.318584 (delta = 0:00:20.802551) \t : \t run->__init__->write: \n",
      "        LOG STR:  запустился класс vdg \n",
      "2021-04-12 16:53:46.790693 (delta = 0:00:21.265656) \t : \t run->__init__->write: \n",
      "        LOG STR:  запустился класс Гранд \n",
      "2021-04-12 16:53:46.817698 (delta = 0:00:21.306665) \t : \t run->__init__->write: \n",
      "        LOG STR:  запустился класс Cdata \n",
      "2021-04-12 16:53:51.831837 (delta = 0:00:05.041144) \t : \t run->get_url->write: \n",
      "        LOG STR:        Успешный переход по адресу: https://www.grandadvance.co.il/\n",
      "            Title : Grand Advance Computers Ltd. (since 1988)    \n",
      "2021-04-12 16:53:51.832838 (delta = 0:00:00.001001) \t : \t run->logged_in->write: \n",
      "        LOG STR:  Залогиниваюсь \n",
      "2021-04-12 16:53:54.324403 (delta = 0:00:02.491565) \t : \t run->logged_in->write: \n",
      "        LOG STR:  Гранд logged in \n",
      "2021-04-12 16:53:54.456434 (delta = 0:00:08.137850) \t : \t run->get_url->write: \n",
      "        LOG STR:        Успешный переход по адресу: https://www.visualdg.co.il/\n",
      "            Title : Visual D.G - Visual D.G. | ויזואל ד.ג    \n",
      "2021-04-12 16:53:56.529905 (delta = 0:00:09.712207) \t : \t run->get_url->write: \n",
      "        LOG STR:        Успешный переход по адресу: https://www.c-data.co.il/\n",
      "            Title : C-Data    \n",
      "2021-04-12 16:53:57.275075 (delta = 0:00:02.818641) \t : \t logged_in->get_url->write: \n",
      "        LOG STR:        Успешный переход по адресу: https://www.visualdg.co.il/customer_login\n",
      "            Title : כניסת לקוחות    \n",
      "2021-04-12 16:53:59.572719 (delta = 0:00:02.297644) \t : \t run->logged_in->write: \n",
      "        LOG STR:  VDG logged in \n",
      "2021-04-12 16:53:58.480195 (delta = 0:00:32.964162) \t : \t run->get_url->write: \n",
      "        LOG STR:        Успешный переход по адресу: https://www.morlevi.co.il/\n",
      "            Title : מור לוי    \n",
      "2021-04-12 16:54:00.782018 (delta = 0:00:02.301823) \t : \t run->logged_in->write: \n",
      "        LOG STR:  Упс! Попап окно Message: Element <img id=\"22\" src=\"/img/userico.png\"> is not clickable at point (454,63) because another element <div id=\"site-popup-modal\" class=\"modal fade messageModal show\"> obscures it\n",
      " \n",
      "2021-04-12 16:54:00.786019 (delta = 0:00:00.004001) \t : \t run->logged_in->write: \n",
      "        LOG STR:  Перелогииниаюсь \n",
      "2021-04-12 16:54:01.426166 (delta = 0:00:04.896261) \t : \t logged_in->get_url->write: \n",
      "        LOG STR:        Успешный переход по адресу: https://reseller.c-data.co.il/Login\n",
      "            Title : C-Data. כניסה    \n",
      "2021-04-12 16:54:04.860179 (delta = 0:00:04.074160) \t : \t logged_in->get_url->write: \n",
      "        LOG STR:        Успешный переход по адресу: https://morlevi.co.il\n",
      "            Title : מור לוי    \n",
      "2021-04-12 16:54:05.418306 (delta = 0:00:03.992140) \t : \t run->logged_in->write: \n",
      "        LOG STR:  C-data logged in \n",
      "2021-04-12 16:54:08.976900 (delta = 0:00:04.116721) \t : \t logged_in->logged_in->write: \n",
      "        LOG STR:  Mor logged in \n"
     ]
    }
   ],
   "source": []
  },
  {
   "cell_type": "code",
   "execution_count": null,
   "metadata": {},
   "outputs": [],
   "source": []
  }
 ],
 "metadata": {
  "kernelspec": {
   "display_name": "Python 3",
   "language": "python",
   "name": "python3"
  },
  "language_info": {
   "codemirror_mode": {
    "name": "ipython",
    "version": 3
   },
   "file_extension": ".py",
   "mimetype": "text/x-python",
   "name": "python",
   "nbconvert_exporter": "python",
   "pygments_lexer": "ipython3",
   "version": "3.7.6"
  }
 },
 "nbformat": 4,
 "nbformat_minor": 4
}
