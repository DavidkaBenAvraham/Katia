{
 "cells": [
  {
   "cell_type": "code",
   "execution_count": 1,
   "metadata": {},
   "outputs": [
    {
     "name": "stdout",
     "output_type": "stream",
     "text": [
      "2020-07-27 13:12:38.175988 (delta = 0:00:00.000999) \t : \t __init__->write: LOG STR: \n",
      " запустился класс Driver() status: \n",
      " \n",
      " \n",
      "2020-07-27 13:12:45.820987 (delta = 0:00:07.644999) \t : \t __init__->write: LOG STR: \n",
      " запустился класс FBstatus: \n",
      " \n",
      " \n",
      "2020-07-27 13:12:52.261918 (delta = 0:00:06.440931) \t : \t get_url->write: LOG STR: \n",
      " \n",
      "            Успешный переход по адресу: https://facebook.com\n",
      "            Title : Facebook - Log In or Sign Up\n",
      "            status: \n",
      " \n",
      " \n",
      "2020-07-27 13:12:52.263917 (delta = 0:00:00.001999) \t : \t run->write: LOG STR: \n",
      " LOGINstatus: \n",
      " \n",
      " \n",
      "2020-07-27 13:12:52.264918 (delta = 0:00:00.001001) \t : \t find->write: LOG STR: \n",
      " Ищу элемент  email по id status: \n",
      " \n",
      " \n",
      "2020-07-27 13:12:52.305917 (delta = 0:00:00.040999) \t : \t find->write: LOG STR: \n",
      " Нашлось   1   элементовstatus: \n",
      " \n",
      " \n",
      "2020-07-27 13:12:52.451919 (delta = 0:00:00.146002) \t : \t researh_elements->write: LOG STR: \n",
      " \n",
      "            Список HTML аттрибутов  элемента \n",
      "            -----------------------------------------\n",
      "            Selenium:\n",
      "            type = email\n",
      "            href = None\n",
      "            id = email\n",
      "            name = email\n",
      "            title = \n",
      "            text = None\n",
      "            value = \n",
      "            innerHTML = \n",
      "            outerHTML  = None\n",
      "            \n",
      "            Javascript:\n",
      "            -----------------------------------------\n",
      "            {'class': 'inputtext login_form_input_box', 'data-testid': 'royal_email', 'id': 'email', 'name': 'email', 'type': 'email'} \n",
      "\n",
      "            status: \n",
      " \n",
      " \n",
      "2020-07-27 13:12:52.617918 (delta = 0:00:00.165999) \t : \t find->write: LOG STR: \n",
      " Ищу элемент  pass по id status: \n",
      " \n",
      " \n",
      "2020-07-27 13:12:52.638917 (delta = 0:00:00.020999) \t : \t find->write: LOG STR: \n",
      " Нашлось   1   элементовstatus: \n",
      " \n",
      " \n",
      "2020-07-27 13:12:52.808916 (delta = 0:00:00.169999) \t : \t researh_elements->write: LOG STR: \n",
      " \n",
      "            Список HTML аттрибутов  элемента \n",
      "            -----------------------------------------\n",
      "            Selenium:\n",
      "            type = password\n",
      "            href = None\n",
      "            id = pass\n",
      "            name = pass\n",
      "            title = \n",
      "            text = None\n",
      "            value = \n",
      "            innerHTML = \n",
      "            outerHTML  = None\n",
      "            \n",
      "            Javascript:\n",
      "            -----------------------------------------\n",
      "            {'class': 'inputtext login_form_input_box', 'data-testid': 'royal_pass', 'id': 'pass', 'name': 'pass', 'type': 'password'} \n",
      "\n",
      "            status: \n",
      " \n",
      " \n",
      "2020-07-27 13:12:52.848916 (delta = 0:00:00.040000) \t : \t find->write: LOG STR: \n",
      " Ищу элемент  u_0_b по id status: \n",
      " \n",
      " \n",
      "2020-07-27 13:12:53.261178 (delta = 0:00:00.412262) \t : \t find->write: LOG STR: \n",
      " Нашлось   1   элементовstatus: \n",
      " \n",
      " \n",
      "2020-07-27 13:12:53.368175 (delta = 0:00:00.106997) \t : \t researh_elements->write: LOG STR: \n",
      " \n",
      "            Список HTML аттрибутов  элемента \n",
      "            -----------------------------------------\n",
      "            Selenium:\n",
      "            type = submit\n",
      "            href = None\n",
      "            id = u_0_b\n",
      "            name = \n",
      "            title = \n",
      "            text = None\n",
      "            value = Log In\n",
      "            innerHTML = \n",
      "            outerHTML  = None\n",
      "            \n",
      "            Javascript:\n",
      "            -----------------------------------------\n",
      "            {'aria-label': 'Log In', 'data-testid': 'royal_login_button', 'id': 'u_0_b', 'type': 'submit', 'value': 'Log In'} \n",
      "\n",
      "            status: \n",
      " \n",
      " \n",
      "2020-07-27 13:13:09.212178 (delta = 0:00:15.844003) \t : \t run->write: LOG STR: \n",
      " Успешный логин на фейсбукstatus: \n",
      " \n",
      " \n"
     ]
    },
    {
     "data": {
      "text/plain": [
       "['__class__',\n",
       " '__delattr__',\n",
       " '__dict__',\n",
       " '__dir__',\n",
       " '__doc__',\n",
       " '__eq__',\n",
       " '__format__',\n",
       " '__ge__',\n",
       " '__getattribute__',\n",
       " '__gt__',\n",
       " '__hash__',\n",
       " '__init__',\n",
       " '__init_subclass__',\n",
       " '__le__',\n",
       " '__lt__',\n",
       " '__module__',\n",
       " '__ne__',\n",
       " '__new__',\n",
       " '__reduce__',\n",
       " '__reduce_ex__',\n",
       " '__repr__',\n",
       " '__setattr__',\n",
       " '__sizeof__',\n",
       " '__str__',\n",
       " '__subclasshook__',\n",
       " '__weakref__',\n",
       " 'driver',\n",
       " 'driver_implicity_wait',\n",
       " 'driver_start',\n",
       " 'find',\n",
       " 'get_current_facebookgroup',\n",
       " 'get_current_facebookgroup_id',\n",
       " 'get_current_lang',\n",
       " 'get_current_message',\n",
       " 'get_current_message_id',\n",
       " 'get_current_message_images',\n",
       " 'get_current_message_text',\n",
       " 'get_driver',\n",
       " 'get_url',\n",
       " 'ini',\n",
       " 'log',\n",
       " 'researh_elements',\n",
       " 'run',\n",
       " 'send',\n",
       " 'set_current_facebookgroup',\n",
       " 'set_current_lang',\n",
       " 'set_current_message',\n",
       " 'wait',\n",
       " 'wait_to_be_clickable']"
      ]
     },
     "execution_count": 1,
     "metadata": {},
     "output_type": "execute_result"
    }
   ],
   "source": [
    "from selenium import webdriver\n",
    "from selenium.webdriver.common.by import By\n",
    "from selenium.webdriver.support.ui import WebDriverWait\n",
    "from selenium.webdriver.support import expected_conditions as EC\n",
    "from selenium.webdriver.common.keys import Keys\n",
    "\n",
    "import DB as db\n",
    "import Ini as Ini\n",
    "\n",
    "import DB as db\n",
    "import ipywidgets as widgets\n",
    "from IPython.display import display\n",
    "\n",
    "import Facebook\n",
    "\n",
    "fb = Facebook.FB()\n",
    "fb.run()\n",
    "#dir(fb)"
   ]
  },
  {
   "cell_type": "code",
   "execution_count": 9,
   "metadata": {},
   "outputs": [
    {
     "data": {
      "application/vnd.jupyter.widget-view+json": {
       "model_id": "2275ad8a5d964844b29d713d0c7b170c",
       "version_major": 2,
       "version_minor": 0
      },
      "text/plain": [
       "Button(description='START SENDER', style=ButtonStyle())"
      ]
     },
     "metadata": {},
     "output_type": "display_data"
    },
    {
     "name": "stdout",
     "output_type": "stream",
     "text": [
      "2020-07-27 13:14:13.909099 (delta = 0:01:04.696921) \t : \t send->write: LOG STR: \n",
      " Старт рассылок для языка hestatus: \n",
      " \n",
      " \n",
      "2020-07-27 13:14:15.080006 (delta = 0:00:01.170907) \t : \t send->write: LOG STR: \n",
      " Старт рассылки сообщения  \n",
      "                ************************************************\n",
      "                msg = 56\n",
      "                txt = השבעה\n",
      "מחירון מחשבים\n",
      "ASUS\n",
      "\n",
      "ASN-543-3027 ASUS Laptop X543UA-DM3027 כסוף 15.6\" זמין core i3-8130U SSD 256GB 8GB FreeDOS 1 year Intel UHD Graphics FHD 1920 x 1080\n",
      "₪ 1820\n",
      "\n",
      "ASN-509027 ASUS Laptop X509JA-EJ027 כסוף 15.6\" זמין core i3-1005G SSD 256GB M.2 PCIE 8GB FreeDOS 1 year Intel UHD Graphics FHD 1920 x 1080\n",
      "₪ 1960\n",
      "\n",
      "ASN-509-030 ASUS Laptop X509JA-EJ030 אפור 15.6\" שבוע הבא core i5-1035G1 SSD 512GB M.2 8GB FreeDOS 1 year Intel UHD Graphics - FHD 1920 x 1080\n",
      "₪ 2520\n",
      "\n",
      "ASN-512-062T ASUS Laptop X512JA-EJ062T 15.6\" זמין core i5-1035G1 SSD 512GB M.2 8GB Windows 10 1 year Intel UHD Graphics - FHD 1920 x 1080\n",
      "₪ 3490\n",
      "\n",
      "ASN-509-408 ASUS Laptop X509JA-EJ408 15.6\" זמין core i5-1035G1 SSD 512GB M.2 PCIE 8GB FreeDOS 1 year Intel UHD Graphics - FHD 1920 x 1080\n",
      "₪ 2520\n",
      "\n",
      "ASN-509-801 ASUS Laptop X509FA-EJ801 אפור 15.6\" זמין core i7-8565U SSD 256GB M.2 PCIE 8GB FreeDOS 1 year Intel UHD Graphics - FHD 1920 x 1080\n",
      "₪ 2800\n",
      "\n",
      "ASN-509-031 ASUS Laptop X509JA-EJ031 15.6\" זמין core i7-1065G7 SSD 512GB M.2 PCIE 8GB FreeDOS 1 year Intel Iris Plus Graphics - FHD 1920 x 1080\n",
      "₪ 3010\n",
      "\n",
      "ASN-531-484 ASUS Gaming FX531GT-BQ484 15.6\" יכנס השבוע core i7-9750H SSD 512GB M.2 PCIE 16GB FreeDOS 1 year NVIDIA GTX1650 4GB - FHD 1920 x 1080\n",
      "₪ 5040\n",
      "\n",
      "ASN-531-314 ASUS Gaming FX531GU-AL314 15.6\" זמין core i7-9750H SSD 512GB M.2 PCIE 16GB FreeDOS 1 year NVIDIA GTX1660Ti 6GB - FHD 1920 x 1080\n",
      "₪ 6060\n",
      "\n",
      "ASN-531-479 ASUS Gaming G531GT-AL479 15.6\" זמין core i7-9750H SSD 1TB M.2 PCIE 16GB FreeDOS 3 Year pickup NVIDIA GTX1650 4GB - FHD 1920 x 1080\n",
      "₪ 5530\n",
      "\n",
      "ASN-531-291 ASUS Gaming FX531GT-BQ291 15.6\" זמין core i7-9750H SSD 512GB M.2 PCIE 8GB FreeDOS 1 year NVIDIA GTX1650 4GB FHD 1920 x 1080\n",
      "₪ 4750\n",
      "\n",
      "ASN-412-989 ASUS Vivibook כסוף X412FA-EK989 14.0\" זמין core i5-10210U SSD 256GB M.2 PCIE 8GB FreeDOS 1 year Intel UHD Graphics - FHD 1920 x 1080\n",
      "₪ 2650\n",
      "\n",
      "ASN-412-657 ASUS Laptop X412FA-EK657 14.0\" זמין core i5-10210U SSD 512GB M.2 PCIE 8GB FreeDOS 1 year Intel UHD Graphics - FHD 1920 x 1080\n",
      "₪ 2800\n",
      "\n",
      "ASN-431-235 ASUS Vivibook S431FA-AM235 14.0\" זמין core i5-10210U SSD 256GB M.2 PCIE 8GB FreeDOS 1 year Intel UHD Graphics - FHD 1920 x 1080\n",
      "₪ 2890\n",
      "\n",
      "ASN-431-236 ASUS Vivibook S431FA-AM236 BLUE 14.0\" זמין core i5-10210U SSD 512GB M.2 PCIE 8GB FreeDOS 1 year Intel UHD Graphics - FHD 1920 x 1080\n",
      "₪ 2930\n",
      "\n",
      "ASN-UX431129 ASUS Zenbook UX431FA-AM129 14.0\" זמין core i5-10210U SSD 256GB M.2 PCIE 8GB FreeDOS 1 year Intel UHD Graphics FHD 1920 x 1080\n",
      "₪ 3360\n",
      "\n",
      "ASN-431-045 ASUS Zenbook UX431FL-AM045 14.0\" זמין core i7-10510U SSD 1TB M.2 PCIE 16GB FreeDOS 1 year NVIDIA MX250 2GB - FHD 1920 x 1080\n",
      "₪ 4620\n",
      "\n",
      "\n",
      "Lenovo\n",
      "LNN-C640-3SIV Yoga C640-13 81UE003SIV 3YW 13.3\" Touch זמין core i5-10210U SSD 512GB M.2 PCIE 8GB Windows 10 3 Year pickup Intel UHD Graphics - FHD IPS 1920 x 1080 Touch\n",
      "₪ 5250\n",
      "\n",
      "LNN-C640-3VIV Yoga C640-13 81UE003VIV 3YW 13.3\" Touch זמין core i7-10510U SSD 512GB M.2 PCIE 16GB Windows 10 3 Year pickup Intel UHD Graphics - FHD IPS 1920 x 1080 Touch\n",
      "₪ 6260\n",
      "\n",
      "LNN-S11-1WIV Slim 1-11AST 81VR001WIV 11.6\" זמין AMD A6-9220e SSD 64GB 4GB Windows 10 S 1 Year LAB AMD Radeon Graphics - 1366 x 768 LED HD\n",
      "₪ 1250\n",
      "\n",
      "LNN-V145-10IV V145-15 81MT0010IV 15.6\" יכנס השבוע AMD A4-9125 SSD 256GB 4GB FreeDOS 1 Year LAB AMD Radeon Graphics - 1366 x 768 LED HD\n",
      "₪ 1260\n",
      "\n",
      "LNN-S145-92IV8 S145-15 81W80092IV 8BG RAM 15.6\" זמין core i5-1035G1 SSD 256GB 8GB FreeDOS 1 Year LAB Intel UHD Graphics - FHD 1920 x 1080\n",
      "₪ 2520\n",
      "\n",
      "LNN-S145-96IV S145-15 81W80096IV 15.6\" זמין core i5-1035G1 SSD 256GB M.2 PCIE 8GB FreeDOS 1 Year LAB Intel UHD Graphics - FHD 1920 x 1080\n",
      "₪ 2590\n",
      "\n",
      "LNN-S145-94IV S145-15 81W80094IV 15.6\" זמין core i5-1035G1 SSD 256GB M.2 PCIE 8GB FreeDOS 1 Year LAB Intel UHD Graphics - FHD 1920 x 1080\n",
      "₪ 2590\n",
      "\n",
      "LNN-S145-E6IV S145-15 81W800E6IV 15.6\" זמין core i5-1035G1 SSD 512GB M.2 PCIE 8GB FreeDOS 1 Year LAB Intel UHD Graphics - FHD 1920 x 1080\n",
      "₪ 2760\n",
      "\n",
      "LNN-145-F0IV S145-15 81W800F0IV 15.6\" זמין core i5-1035G1 SSD 512GB M.2 PCIE 8GB FreeDOS 1 Year LAB Intel UHD Graphics - FHD 1920 x 1080\n",
      "₪ 2760\n",
      "\n",
      "LNN-S145-95IV S145-15 81W80095IV 15.6\" זמין core i5-1035G1 SSD 256GB M.2 PCIE 8GB Windows 10 1 Year LAB Intel UHD Graphics - FHD 1920 x 1080\n",
      "₪ 2960\n",
      "\n",
      "LNN-L315-7RIV L3-15 81Y3007RIV 15.6\" זמין core i5-10210U SSD 256GB M.2 PCIE 8GB FreeDOS 1 Year pickup Intel UHD Graphics v FHD 1920 x 1080\n",
      "₪ 2620\n",
      "\n",
      "LNN-L3-BCIV L3-15 81Y300BCIV לבן 15.6\" זמין core i5-10210U SSD 256GB M.2 PCIE 8GB FreeDOS 1 Year pickup NVIDIA MX130 2GB v FHD 1920 x 1080\n",
      "₪ 2800\n",
      "\n",
      "LNN-L315-8BIV L3-15 81Y3008BIV 15.6\" זמין core i5-10210U SSD 512GB M.2 PCIE 8GB FreeDOS 1 Year pickup NVIDIA MX330 2GB v FHD 1920 x 1080\n",
      "₪ 3100\n",
      "\n",
      "LNN-L315-76IV L3-15 81Y30076IV 15.6\" זמין core i7-10510U SSD 256GB M.2 PCIE 8GB FreeDOS 1 Year pickup Intel UHD Graphics v FHD 1920 x 1080\n",
      "₪ 3180\n",
      "\n",
      "LNN-L315-8MIV L3-15 81Y3008MIV 15.6\" זמין core i7-10510U SSD 512GB M.2 PCIE 8GB FreeDOS 1 Year pickup NVIDIA MX330 2GB v FHD 1920 x 1080\n",
      "₪ 3690\n",
      "\n",
      "LNN-S145-A6IV S145-15 81W800A6IV 15.6\" זמין core i7-1065G7 SSD 512GB M.2 PCIE 8GB FreeDOS 1 Year LAB Intel Iris Plus Graphics - FHD 1920 x 1080\n",
      "₪ 3270\n",
      "\n",
      "LNN-Y540-NLIV Legion Y540-15 81SY00NLIV 3YW 15.6\" call core i7-9750HF SSD 512GB M.2 PCIE 16GB FreeDOS 3 Year pickup NVIDIA GTX1650 4GB - FHD IPS 1920 x 1080\n",
      "₪ 5760\n",
      "\n",
      "LNN-Y540-Y7IV Legion Y540-15 81SX00Y7IV 15.6\" call core i7-9750HF SSD 512GB M.2 PCIE 16GB FreeDOS 1 Year pickup NVIDIA GTX1660Ti 6GB - FHD IPS 1920 x 1080\n",
      "₪ 6720\n",
      "\n",
      "LNN-Y540-YJIV Legion Y540-15 81SX00YJIV 3YW 15.6\" call core i7-9750HF 1TB + SSD256GB M.2 PCIE 16GB FreeDOS 3 Year pickup NVIDIA GTX1660Ti 6GB - FHD IPS 1920 x 1080\n",
      "₪ 6350\n",
      "\n",
      "LNN-Y540-Y5IV Legion Y540-15 81SX00Y5IV 3YW 15.6\" call core i7-9750HF SSD 1TB M.2 PCIE 16GB FreeDOS 3 Year pickup NVIDIA RTX2060 6GB - FHD IPS 1920 x 1080 144Hz\n",
      "₪ 7520\n",
      "\n",
      "LNN-V14-7VIV V14 82C4007VIV 14.0\" call core i3-1005G1 SSD 256GB M.2 PCIE 8GB FreeDOS 1 Year LAB Intel UHD Graphics - 1366 x 768 LED HD\n",
      "₪ 1890\n",
      "\n",
      "LNN-317-5BIV IP 3 17IML 81WC005BIV 17.3\" זמין core i3-10110U SSD 256GB M.2 PCIE 8GB FreeDOS 1 Year LAB Intel UHD Graphics HD+ 1600 x 900\n",
      "₪ 2440\n",
      "\n",
      "LNN-317-5RIV IP 3 17IML 81WC005RIV 17.3\" זמין core i7-10510U SSD 512GB M.2 PCIE 8GB FreeDOS 1 Year LAB NVIDIA MX330 2GB FHD 1920 x 1080\n",
      "₪ 4160\n",
      "\n",
      "\n",
      "HP\n",
      "HPN-2503882 HP 250 G7 8AC84EA 15.6\" זמין core i3-8130U SSD 256GB 8GB FreeDOS 1 Year Intel UHD Graphics - FHD 1920 x 1080\n",
      "₪ 1840\n",
      "\n",
      "HPN-152010 Pavilion 8TZ34EA לבן 15.6\" זמין core i7-10510U SSD 512GB M.2 PCIE 16GB FreeDOS 1 Year NVIDIA MX130 2GB - FHD 1920 x 1080\n",
      "₪ 3640\n",
      "\n",
      "HPN-152023 HP Laptop 15 2U401EA 15.6\" זמין core i5-1035G1 SSD 256GB 8GB FreeDOS 1 Year Intel UHD Graphics - FHD 1920 x 1080\n",
      "₪ 2570\n",
      "\n",
      "DELL\n",
      "DLN-3590-3021 Vostro V3590-3021 15.6\" זמין core i3-10110U SSD 256GB 8GB FreeDOS 3 years On-Site Intel UHD Graphics - FHD 1920 x 1080\n",
      "₪ 2380\n",
      "\n",
      "DLN-3593-3059 Inspiron N3593-3059 15.6\" זמין core i3-10110U SSD 256GB 8GB FreeDOS 3 years On-Site Intel UHD Graphics - FHD 1920 x 1080\n",
      "₪ 2380\n",
      "\n",
      "DLN-3590-5054 Vostro V3590-5054 15.6\" זמין core i5-10210U SSD 256GB 8GB FreeDOS 3 years On-Site Intel UHD Graphics - FHD 1920 x 1080\n",
      "₪ 2790\n",
      "\n",
      "DLN-3591-5064 Vostro V3591-5064 15.6\" זמין core i5-1035G1 SSD 256GB 8GB FreeDOS 3 years On-Site Intel UHD Graphics - FHD 1920 x 1080\n",
      "₪ 2720\n",
      "\n",
      "DLN-3591-11948 Vostro VM-RD09-11948 15.6\" זמין core i5-1035G1 SSD 256GB M.2 PCIE 8GB FreeDOS 3 years On-Site Intel UHD Graphics - FHD 1920 x 1080\n",
      "₪ 2730\n",
      "\n",
      "DLN-3591-11950 Vostro VM-RD09-11950 15.6\" זמין core i5-1035G1 SSD 512GB M.2 PCIE 8GB FreeDOS 3 years On-Site NVIDIA MX230 2GB - FHD 1920 x 1080\n",
      "₪ 3220\n",
      "\n",
      "DLN-3593-5066 Inspiron N3593-5066 15.6\" זמין core i5-1035G1 SSD 512GB M.2 PCIE 8GB FreeDOS 3 years On-Site Intel UHD Graphics - FHD 1920 x 1080\n",
      "₪ 3080\n",
      "\n",
      "DLN-3591-11952 Vostro VM-RD09-11952 15.6\" זמין core i7-1065G7 SSD 512GB M.2 PCIE 8GB FreeDOS 3 years On-Site NVIDIA MX230 2GB - FHD 1920 x 1080\n",
      "₪ 3780\n",
      "\n",
      "DLN-3490-11692 Vostro VM-RD09-11692 14.0\" זמין core i7-10510U SSD 256GB M.2 PCIE 8GB FreeDOS 3 years On-Site Intel UHD Graphics - FHD 1920 x 1080\n",
      "₪ 3080\n",
      "                lang =  he\n",
      "                \n",
      "                ************************************************\n",
      "                status: \n",
      " \n",
      " \n"
     ]
    },
    {
     "name": "stdout",
     "output_type": "stream",
     "text": [
      "2020-07-27 13:14:25.256315 (delta = 0:00:10.176309) \t : \t get_url->write: LOG STR: \n",
      " \n",
      "            Успешный переход по адресу: https://www.facebook.com/groups/282665738459852\n",
      "            Title : פרסום חינם - יבנה, קרית מלאכי,גדרה,רחובות,נס ציונה והסביבה...\n",
      "            status: \n",
      " \n",
      " \n",
      "2020-07-27 13:14:25.287330 (delta = 0:00:00.031015) \t : \t find->write: LOG STR: \n",
      " Ищу элемент  ._5qtn по css_selector status: \n",
      " \n",
      " \n",
      "2020-07-27 13:14:25.654714 (delta = 0:00:00.367384) \t : \t find->write: LOG STR: \n",
      " Нашлось   1   элементовstatus: \n",
      " \n",
      " \n",
      "2020-07-27 13:14:25.783713 (delta = 0:00:00.128999) \t : \t researh_elements->write: LOG STR: \n",
      " \n",
      "            Список HTML аттрибутов  элемента \n",
      "            -----------------------------------------\n",
      "            Selenium:\n",
      "            type = \n",
      "            href = https://www.facebook.com/groups/282665738459852#\n",
      "            id = \n",
      "            name = \n",
      "            title = \n",
      "            text = כתוב פוסט\n",
      "            value = None\n",
      "            innerHTML = <span class=\"_4-fs\"><i class=\"_5qto img sp_edGTBl5Ol8X sx_cb1023\" alt=\"\"></i><span class=\"_5qtp\">כתוב פוסט</span><span class=\"_4-h8\"></span></span>\n",
      "            outerHTML  = None\n",
      "            \n",
      "            Javascript:\n",
      "            -----------------------------------------\n",
      "            {'aria-selected': 'true', 'attachmentid': 'STATUS', 'class': '_4-h7 _5qtn fbReactComposerAttachmentSelector_STATUS', 'data-hover': 'tooltip', 'data-tooltip-content': 'כתוב פוסט', 'data-tooltip-delay': '500', 'data-tooltip-display': 'overflow', 'href': '#', 'icon': '[object Object]', 'label': 'כתוב פוסט', 'loggingname': 'status_tab_selector', 'role': 'tab'} \n",
      "\n",
      "            status: \n",
      " \n",
      " \n",
      "2020-07-27 13:14:26.288713 (delta = 0:00:00.505000) \t : \t btn_start_writting_message_click->write: LOG STR: \n",
      " - нажался элемент ._5qtn с текстом כתוב פוסטstatus: \n",
      " \n",
      " \n",
      "2020-07-27 13:14:26.290713 (delta = 0:00:00.002000) \t : \t write_messge->write: LOG STR: \n",
      " ищу поле ввода перебором.status: \n",
      " \n",
      " \n",
      "2020-07-27 13:14:26.291716 (delta = 0:00:00.001003) \t : \t find->write: LOG STR: \n",
      " Ищу элемент  ._2cuy._3dgx по css_selector status: \n",
      " \n",
      " \n"
     ]
    },
    {
     "ename": "WebDriverException",
     "evalue": "Message: Failed to interpret value as array\n",
     "output_type": "error",
     "traceback": [
      "\u001b[1;31m---------------------------------------------------------------------------\u001b[0m",
      "\u001b[1;31mWebDriverException\u001b[0m                        Traceback (most recent call last)",
      "\u001b[1;32m<ipython-input-9-ed853508f08d>\u001b[0m in \u001b[0;36mbutton_start_sender_clicked\u001b[1;34m(b)\u001b[0m\n\u001b[0;32m      7\u001b[0m \u001b[1;33m\u001b[0m\u001b[0m\n\u001b[0;32m      8\u001b[0m \u001b[1;32mdef\u001b[0m \u001b[0mbutton_start_sender_clicked\u001b[0m\u001b[1;33m(\u001b[0m\u001b[0mb\u001b[0m\u001b[1;33m)\u001b[0m\u001b[1;33m:\u001b[0m \u001b[1;31m# Описываем обработчик события\u001b[0m\u001b[1;33m\u001b[0m\u001b[1;33m\u001b[0m\u001b[0m\n\u001b[1;32m----> 9\u001b[1;33m     \u001b[0mfb\u001b[0m\u001b[1;33m.\u001b[0m\u001b[0msend\u001b[0m\u001b[1;33m(\u001b[0m \u001b[0mlang\u001b[0m \u001b[1;33m=\u001b[0m \u001b[1;34m'*'\u001b[0m\u001b[1;33m,\u001b[0m \u001b[0mfrom_ROWID\u001b[0m \u001b[1;33m=\u001b[0m \u001b[1;36m0\u001b[0m \u001b[1;33m,\u001b[0m \u001b[0mto_ROWID\u001b[0m \u001b[1;33m=\u001b[0m \u001b[1;34m'max'\u001b[0m\u001b[1;33m)\u001b[0m\u001b[1;33m\u001b[0m\u001b[1;33m\u001b[0m\u001b[0m\n\u001b[0m\u001b[0;32m     10\u001b[0m \u001b[1;33m\u001b[0m\u001b[0m\n\u001b[0;32m     11\u001b[0m \u001b[0mbutton_start_sender\u001b[0m \u001b[1;33m=\u001b[0m \u001b[0mwidgets\u001b[0m\u001b[1;33m.\u001b[0m\u001b[0mButton\u001b[0m\u001b[1;33m(\u001b[0m\u001b[0mdescription\u001b[0m\u001b[1;33m=\u001b[0m\u001b[1;34m\"START SENDER\"\u001b[0m\u001b[1;33m)\u001b[0m\u001b[1;33m\u001b[0m\u001b[1;33m\u001b[0m\u001b[0m\n",
      "\u001b[1;32m~\\OneDrive - aggregate dot-com web services\\repos\\Aluf\\Aluf\\Facebook\\__init__.py\u001b[0m in \u001b[0;36msend\u001b[1;34m(self, sug, lang, from_ROWID, to_ROWID)\u001b[0m\n\u001b[0;32m    169\u001b[0m                 \"\"\"))\n\u001b[0;32m    170\u001b[0m \u001b[1;33m\u001b[0m\u001b[0m\n\u001b[1;32m--> 171\u001b[1;33m                 \u001b[1;32mif\u001b[0m \u001b[0mgroup\u001b[0m\u001b[1;33m.\u001b[0m\u001b[0msend_message2groups\u001b[0m\u001b[1;33m(\u001b[0m\u001b[0mself\u001b[0m \u001b[1;33m,\u001b[0m \u001b[0msug\u001b[0m \u001b[1;33m=\u001b[0m \u001b[0msug\u001b[0m \u001b[1;33m,\u001b[0m \u001b[0mfrom_ROWID\u001b[0m \u001b[1;33m=\u001b[0m \u001b[0mfrom_ROWID\u001b[0m\u001b[1;33m,\u001b[0m \u001b[0mto_ROWID\u001b[0m \u001b[1;33m=\u001b[0m \u001b[0mto_ROWID\u001b[0m\u001b[1;33m)\u001b[0m\u001b[1;33m:\u001b[0m\u001b[1;33m\u001b[0m\u001b[1;33m\u001b[0m\u001b[0m\n\u001b[0m\u001b[0;32m    172\u001b[0m                     \"\"\"\n\u001b[0;32m    173\u001b[0m                     \u001b[0mОтсюда\u001b[0m \u001b[0mотправляется\u001b[0m \u001b[0mсообщение\u001b[0m \u001b[0mв\u001b[0m \u001b[0mгруппы\u001b[0m\u001b[1;33m\u001b[0m\u001b[1;33m\u001b[0m\u001b[0m\n",
      "\u001b[1;32m~\\OneDrive - aggregate dot-com web services\\repos\\Aluf\\Aluf\\Facebook\\scenario\\fb_public_group.py\u001b[0m in \u001b[0;36msend_message2groups\u001b[1;34m(self, msg, sug, from_ROWID, to_ROWID)\u001b[0m\n\u001b[0;32m     53\u001b[0m                 \"\"\"\n\u001b[0;32m     54\u001b[0m                 \u001b[1;31m# 2)\u001b[0m\u001b[1;33m\u001b[0m\u001b[1;33m\u001b[0m\u001b[1;33m\u001b[0m\u001b[0m\n\u001b[1;32m---> 55\u001b[1;33m                 \u001b[1;32mif\u001b[0m \u001b[0mself\u001b[0m\u001b[1;33m.\u001b[0m\u001b[0mget_current_message_text\u001b[0m\u001b[1;33m(\u001b[0m\u001b[1;33m)\u001b[0m \u001b[1;33m!=\u001b[0m \u001b[1;32mNone\u001b[0m \u001b[1;33m:\u001b[0m \u001b[0mmessage\u001b[0m\u001b[1;33m.\u001b[0m\u001b[0mwrite_messge\u001b[0m\u001b[1;33m(\u001b[0m\u001b[0mself\u001b[0m\u001b[1;33m,\u001b[0m \u001b[0mself\u001b[0m\u001b[1;33m.\u001b[0m\u001b[0mget_current_message_text\u001b[0m\u001b[1;33m(\u001b[0m\u001b[1;33m)\u001b[0m\u001b[1;33m)\u001b[0m\u001b[1;33m\u001b[0m\u001b[1;33m\u001b[0m\u001b[0m\n\u001b[0m\u001b[0;32m     56\u001b[0m                 \u001b[1;32mif\u001b[0m \u001b[0mself\u001b[0m\u001b[1;33m.\u001b[0m\u001b[0mget_current_message_images\u001b[0m\u001b[1;33m(\u001b[0m\u001b[1;33m)\u001b[0m \u001b[1;33m!=\u001b[0m \u001b[1;32mNone\u001b[0m \u001b[1;33m:\u001b[0m \u001b[0mmessage\u001b[0m\u001b[1;33m.\u001b[0m\u001b[0mupload_img\u001b[0m\u001b[1;33m(\u001b[0m\u001b[0mself\u001b[0m\u001b[1;33m,\u001b[0m \u001b[0mself\u001b[0m\u001b[1;33m.\u001b[0m\u001b[0mget_current_message_images\u001b[0m\u001b[1;33m(\u001b[0m\u001b[1;33m)\u001b[0m\u001b[1;33m)\u001b[0m\u001b[1;33m\u001b[0m\u001b[1;33m\u001b[0m\u001b[0m\n\u001b[0;32m     57\u001b[0m                 \"\"\"\n",
      "\u001b[1;32m~\\OneDrive - aggregate dot-com web services\\repos\\Aluf\\Aluf\\Facebook\\scenario\\message.py\u001b[0m in \u001b[0;36mwrite_messge\u001b[1;34m(self, msg, trying)\u001b[0m\n\u001b[0;32m     41\u001b[0m     \u001b[1;32mfor\u001b[0m \u001b[0mCSS_SELECTOR\u001b[0m \u001b[1;32min\u001b[0m \u001b[0mselectors\u001b[0m\u001b[1;33m:\u001b[0m \u001b[1;31m# перебираю возможные css селекторы поля\u001b[0m\u001b[1;33m\u001b[0m\u001b[1;33m\u001b[0m\u001b[0m\n\u001b[0;32m     42\u001b[0m         \u001b[0mself\u001b[0m\u001b[1;33m.\u001b[0m\u001b[0mlog\u001b[0m\u001b[1;33m.\u001b[0m\u001b[0mwrite\u001b[0m\u001b[1;33m(\u001b[0m\u001b[0mstr\u001b[0m\u001b[1;33m(\u001b[0m\u001b[1;34mf'ищу поле ввода перебором.'\u001b[0m\u001b[1;33m)\u001b[0m\u001b[1;33m)\u001b[0m\u001b[1;33m\u001b[0m\u001b[1;33m\u001b[0m\u001b[0m\n\u001b[1;32m---> 43\u001b[1;33m         \u001b[0melement\u001b[0m \u001b[1;33m=\u001b[0m \u001b[0mself\u001b[0m\u001b[1;33m.\u001b[0m\u001b[0mfind\u001b[0m\u001b[1;33m(\u001b[0m\u001b[0mCSS_SELECTOR\u001b[0m\u001b[1;33m)\u001b[0m\u001b[1;33m\u001b[0m\u001b[1;33m\u001b[0m\u001b[0m\n\u001b[0m\u001b[0;32m     44\u001b[0m         \u001b[1;32mif\u001b[0m \u001b[0melement\u001b[0m \u001b[1;33m!=\u001b[0m \u001b[1;32mFalse\u001b[0m\u001b[1;33m:\u001b[0m\u001b[1;33m\u001b[0m\u001b[1;33m\u001b[0m\u001b[0m\n\u001b[0;32m     45\u001b[0m             \u001b[0melement\u001b[0m\u001b[1;33m.\u001b[0m\u001b[0msend_keys\u001b[0m\u001b[1;33m(\u001b[0m\u001b[0mmsg\u001b[0m\u001b[1;33m)\u001b[0m\u001b[1;33m\u001b[0m\u001b[1;33m\u001b[0m\u001b[0m\n",
      "\u001b[1;32m~\\OneDrive - aggregate dot-com web services\\repos\\Aluf\\Aluf\\Driver\\__init__.py\u001b[0m in \u001b[0;36mfind\u001b[1;34m(self, selector, by, research)\u001b[0m\n\u001b[0;32m    110\u001b[0m             \"\"\"\n\u001b[0;32m    111\u001b[0m             \u001b[1;32mif\u001b[0m \u001b[0mby\u001b[0m \u001b[1;33m==\u001b[0m \u001b[1;34m'css_selector'\u001b[0m\u001b[1;33m:\u001b[0m\u001b[1;33m\u001b[0m\u001b[1;33m\u001b[0m\u001b[0m\n\u001b[1;32m--> 112\u001b[1;33m                 \u001b[0melements\u001b[0m \u001b[1;33m=\u001b[0m \u001b[0mself\u001b[0m\u001b[1;33m.\u001b[0m\u001b[0mdriver\u001b[0m\u001b[1;33m.\u001b[0m\u001b[0mfind_elements_by_css_selector\u001b[0m\u001b[1;33m(\u001b[0m\u001b[0mselector\u001b[0m\u001b[1;33m)\u001b[0m\u001b[1;33m\u001b[0m\u001b[1;33m\u001b[0m\u001b[0m\n\u001b[0m\u001b[0;32m    113\u001b[0m                 \u001b[0melement\u001b[0m \u001b[1;33m=\u001b[0m \u001b[0mself\u001b[0m\u001b[1;33m.\u001b[0m\u001b[0mdriver\u001b[0m\u001b[1;33m.\u001b[0m\u001b[0mfind_element_by_css_selector\u001b[0m\u001b[1;33m(\u001b[0m\u001b[0mselector\u001b[0m\u001b[1;33m)\u001b[0m\u001b[1;33m\u001b[0m\u001b[1;33m\u001b[0m\u001b[0m\n\u001b[0;32m    114\u001b[0m \u001b[1;33m\u001b[0m\u001b[0m\n",
      "\u001b[1;32m~\\anaconda3\\lib\\site-packages\\selenium\\webdriver\\remote\\webdriver.py\u001b[0m in \u001b[0;36mfind_elements_by_css_selector\u001b[1;34m(self, css_selector)\u001b[0m\n\u001b[0;32m    612\u001b[0m             \u001b[0melements\u001b[0m \u001b[1;33m=\u001b[0m \u001b[0mdriver\u001b[0m\u001b[1;33m.\u001b[0m\u001b[0mfind_elements_by_css_selector\u001b[0m\u001b[1;33m(\u001b[0m\u001b[1;34m'.foo'\u001b[0m\u001b[1;33m)\u001b[0m\u001b[1;33m\u001b[0m\u001b[1;33m\u001b[0m\u001b[0m\n\u001b[0;32m    613\u001b[0m         \"\"\"\n\u001b[1;32m--> 614\u001b[1;33m         \u001b[1;32mreturn\u001b[0m \u001b[0mself\u001b[0m\u001b[1;33m.\u001b[0m\u001b[0mfind_elements\u001b[0m\u001b[1;33m(\u001b[0m\u001b[0mby\u001b[0m\u001b[1;33m=\u001b[0m\u001b[0mBy\u001b[0m\u001b[1;33m.\u001b[0m\u001b[0mCSS_SELECTOR\u001b[0m\u001b[1;33m,\u001b[0m \u001b[0mvalue\u001b[0m\u001b[1;33m=\u001b[0m\u001b[0mcss_selector\u001b[0m\u001b[1;33m)\u001b[0m\u001b[1;33m\u001b[0m\u001b[1;33m\u001b[0m\u001b[0m\n\u001b[0m\u001b[0;32m    615\u001b[0m \u001b[1;33m\u001b[0m\u001b[0m\n\u001b[0;32m    616\u001b[0m     \u001b[1;32mdef\u001b[0m \u001b[0mexecute_script\u001b[0m\u001b[1;33m(\u001b[0m\u001b[0mself\u001b[0m\u001b[1;33m,\u001b[0m \u001b[0mscript\u001b[0m\u001b[1;33m,\u001b[0m \u001b[1;33m*\u001b[0m\u001b[0margs\u001b[0m\u001b[1;33m)\u001b[0m\u001b[1;33m:\u001b[0m\u001b[1;33m\u001b[0m\u001b[1;33m\u001b[0m\u001b[0m\n",
      "\u001b[1;32m~\\anaconda3\\lib\\site-packages\\selenium\\webdriver\\remote\\webdriver.py\u001b[0m in \u001b[0;36mfind_elements\u001b[1;34m(self, by, value)\u001b[0m\n\u001b[0;32m   1005\u001b[0m         return self.execute(Command.FIND_ELEMENTS, {\n\u001b[0;32m   1006\u001b[0m             \u001b[1;34m'using'\u001b[0m\u001b[1;33m:\u001b[0m \u001b[0mby\u001b[0m\u001b[1;33m,\u001b[0m\u001b[1;33m\u001b[0m\u001b[1;33m\u001b[0m\u001b[0m\n\u001b[1;32m-> 1007\u001b[1;33m             'value': value})['value'] or []\n\u001b[0m\u001b[0;32m   1008\u001b[0m \u001b[1;33m\u001b[0m\u001b[0m\n\u001b[0;32m   1009\u001b[0m     \u001b[1;33m@\u001b[0m\u001b[0mproperty\u001b[0m\u001b[1;33m\u001b[0m\u001b[1;33m\u001b[0m\u001b[0m\n",
      "\u001b[1;32m~\\anaconda3\\lib\\site-packages\\selenium\\webdriver\\remote\\webdriver.py\u001b[0m in \u001b[0;36mexecute\u001b[1;34m(self, driver_command, params)\u001b[0m\n\u001b[0;32m    319\u001b[0m         \u001b[0mresponse\u001b[0m \u001b[1;33m=\u001b[0m \u001b[0mself\u001b[0m\u001b[1;33m.\u001b[0m\u001b[0mcommand_executor\u001b[0m\u001b[1;33m.\u001b[0m\u001b[0mexecute\u001b[0m\u001b[1;33m(\u001b[0m\u001b[0mdriver_command\u001b[0m\u001b[1;33m,\u001b[0m \u001b[0mparams\u001b[0m\u001b[1;33m)\u001b[0m\u001b[1;33m\u001b[0m\u001b[1;33m\u001b[0m\u001b[0m\n\u001b[0;32m    320\u001b[0m         \u001b[1;32mif\u001b[0m \u001b[0mresponse\u001b[0m\u001b[1;33m:\u001b[0m\u001b[1;33m\u001b[0m\u001b[1;33m\u001b[0m\u001b[0m\n\u001b[1;32m--> 321\u001b[1;33m             \u001b[0mself\u001b[0m\u001b[1;33m.\u001b[0m\u001b[0merror_handler\u001b[0m\u001b[1;33m.\u001b[0m\u001b[0mcheck_response\u001b[0m\u001b[1;33m(\u001b[0m\u001b[0mresponse\u001b[0m\u001b[1;33m)\u001b[0m\u001b[1;33m\u001b[0m\u001b[1;33m\u001b[0m\u001b[0m\n\u001b[0m\u001b[0;32m    322\u001b[0m             response['value'] = self._unwrap_value(\n\u001b[0;32m    323\u001b[0m                 response.get('value', None))\n",
      "\u001b[1;32m~\\anaconda3\\lib\\site-packages\\selenium\\webdriver\\remote\\errorhandler.py\u001b[0m in \u001b[0;36mcheck_response\u001b[1;34m(self, response)\u001b[0m\n\u001b[0;32m    240\u001b[0m                 \u001b[0malert_text\u001b[0m \u001b[1;33m=\u001b[0m \u001b[0mvalue\u001b[0m\u001b[1;33m[\u001b[0m\u001b[1;34m'alert'\u001b[0m\u001b[1;33m]\u001b[0m\u001b[1;33m.\u001b[0m\u001b[0mget\u001b[0m\u001b[1;33m(\u001b[0m\u001b[1;34m'text'\u001b[0m\u001b[1;33m)\u001b[0m\u001b[1;33m\u001b[0m\u001b[1;33m\u001b[0m\u001b[0m\n\u001b[0;32m    241\u001b[0m             \u001b[1;32mraise\u001b[0m \u001b[0mexception_class\u001b[0m\u001b[1;33m(\u001b[0m\u001b[0mmessage\u001b[0m\u001b[1;33m,\u001b[0m \u001b[0mscreen\u001b[0m\u001b[1;33m,\u001b[0m \u001b[0mstacktrace\u001b[0m\u001b[1;33m,\u001b[0m \u001b[0malert_text\u001b[0m\u001b[1;33m)\u001b[0m\u001b[1;33m\u001b[0m\u001b[1;33m\u001b[0m\u001b[0m\n\u001b[1;32m--> 242\u001b[1;33m         \u001b[1;32mraise\u001b[0m \u001b[0mexception_class\u001b[0m\u001b[1;33m(\u001b[0m\u001b[0mmessage\u001b[0m\u001b[1;33m,\u001b[0m \u001b[0mscreen\u001b[0m\u001b[1;33m,\u001b[0m \u001b[0mstacktrace\u001b[0m\u001b[1;33m)\u001b[0m\u001b[1;33m\u001b[0m\u001b[1;33m\u001b[0m\u001b[0m\n\u001b[0m\u001b[0;32m    243\u001b[0m \u001b[1;33m\u001b[0m\u001b[0m\n\u001b[0;32m    244\u001b[0m     \u001b[1;32mdef\u001b[0m \u001b[0m_value_or_default\u001b[0m\u001b[1;33m(\u001b[0m\u001b[0mself\u001b[0m\u001b[1;33m,\u001b[0m \u001b[0mobj\u001b[0m\u001b[1;33m,\u001b[0m \u001b[0mkey\u001b[0m\u001b[1;33m,\u001b[0m \u001b[0mdefault\u001b[0m\u001b[1;33m)\u001b[0m\u001b[1;33m:\u001b[0m\u001b[1;33m\u001b[0m\u001b[1;33m\u001b[0m\u001b[0m\n",
      "\u001b[1;31mWebDriverException\u001b[0m: Message: Failed to interpret value as array\n"
     ]
    }
   ],
   "source": [
    "def button_start_fb_clicked(b): # Описываем обработчик события\n",
    "    main()\n",
    "    \n",
    "button_start_fb = widgets.Button(description=\" START FB\")\n",
    "button_start_fb.on_click(button_start_fb_clicked) # Назначаем этот обработчик на событие \"on_click\"\n",
    "\n",
    "\n",
    "def button_start_sender_clicked(b): # Описываем обработчик события\n",
    "    fb.send( lang = '*', from_ROWID = 0 , to_ROWID = 'max')\n",
    "    \n",
    "button_start_sender = widgets.Button(description=\"START SENDER\")\n",
    "button_start_sender.on_click(button_start_sender_clicked) # Назначаем этот обработчик на событие \"on_click\"\n",
    "\n",
    "display(button_start_sender)\n",
    "\n"
   ]
  },
  {
   "cell_type": "code",
   "execution_count": 3,
   "metadata": {},
   "outputs": [],
   "source": [
    "mexirot = 'https://www.facebook.com/groups/133980223422984'\n",
    "pirsum = 'https://www.facebook.com/groups/HolonRus'"
   ]
  },
  {
   "cell_type": "code",
   "execution_count": 4,
   "metadata": {},
   "outputs": [
    {
     "data": {
      "application/vnd.jupyter.widget-view+json": {
       "model_id": "2d088aee9073443ea29c397a25e7b89b",
       "version_major": 2,
       "version_minor": 0
      },
      "text/plain": [
       "Button(description=' START FB', style=ButtonStyle())"
      ]
     },
     "metadata": {},
     "output_type": "display_data"
    },
    {
     "data": {
      "application/vnd.jupyter.widget-view+json": {
       "model_id": "6458eba2e70a489aa152507137d3a27c",
       "version_major": 2,
       "version_minor": 0
      },
      "text/plain": [
       "Button(description='START SENDER', style=ButtonStyle())"
      ]
     },
     "metadata": {},
     "output_type": "display_data"
    },
    {
     "data": {
      "application/vnd.jupyter.widget-view+json": {
       "model_id": "cf20022d99e24ceaa2d9135f592908d1",
       "version_major": 2,
       "version_minor": 0
      },
      "text/plain": [
       "Text(value='https://www.facebook.com/groups/133980223422984', description='url', placeholder='')"
      ]
     },
     "metadata": {},
     "output_type": "display_data"
    },
    {
     "data": {
      "application/vnd.jupyter.widget-view+json": {
       "model_id": "f70792d4a37245f48b8c3e54de56c575",
       "version_major": 2,
       "version_minor": 0
      },
      "text/plain": [
       "Button(description='GO', style=ButtonStyle())"
      ]
     },
     "metadata": {},
     "output_type": "display_data"
    },
    {
     "data": {
      "application/vnd.jupyter.widget-view+json": {
       "model_id": "1366be9baaaa49dc97d0c14dcd4a2eb0",
       "version_major": 2,
       "version_minor": 0
      },
      "text/plain": [
       "Button(description='mexirot', style=ButtonStyle())"
      ]
     },
     "metadata": {},
     "output_type": "display_data"
    },
    {
     "data": {
      "application/vnd.jupyter.widget-view+json": {
       "model_id": "0ef0d1cf696b49f2bc70bc4026041bb1",
       "version_major": 2,
       "version_minor": 0
      },
      "text/plain": [
       "Button(description='pirsum', style=ButtonStyle())"
      ]
     },
     "metadata": {},
     "output_type": "display_data"
    }
   ],
   "source": [
    "import Ini as Ini\n",
    "textbox_url = widgets.Text(\n",
    "        value= mexirot,\n",
    "        placeholder='',\n",
    "        description='url' ,\n",
    "        disabled=False   \n",
    "    )\n",
    "\n",
    "    \n",
    "def button_gotourl_clicked(b): # Описываем обработчик события\n",
    "    fb.get_url(textbox_url.value)\n",
    "    \n",
    "button_gotourl = widgets.Button(description=\"GO\")\n",
    "button_gotourl.on_click(button_gotourl_clicked) # Назначаем этот обработчик на событие \"on_click\"\n",
    "\n",
    "\n",
    "def button_gotomexirot_clicked(b): # Описываем обработчик события\n",
    "    fb.get_url(mexirot)\n",
    "    \n",
    "button_gotomexirot = widgets.Button(description=\"mexirot\")\n",
    "button_gotomexirot.on_click(button_gotomexirot_clicked) # Назначаем этот обработчик на событие \"on_click\"\n",
    "\n",
    "\n",
    "def button_gotopirsum_clicked(b): # Описываем обработчик события\n",
    "    fb.get_url(pirsum)\n",
    "    \n",
    "button_gotopirsum = widgets.Button(description=\"pirsum\")\n",
    "button_gotopirsum.on_click(button_gotopirsum_clicked) # Назначаем этот обработчик на событие \"on_click\"\n",
    "\n",
    "\n",
    "display(button_start_fb)\n",
    "display(button_start_sender)\n",
    "\n",
    "display(textbox_url)\n",
    "display(button_gotourl)\n",
    "\n",
    "display(button_gotomexirot)\n",
    "display(button_gotopirsum)\n",
    "\n"
   ]
  },
  {
   "cell_type": "markdown",
   "metadata": {},
   "source": [
    "# Клац по элементу \n",
    "\n",
    "### class=\"_5qtp\"\n",
    "_4-fs\n",
    "\n",
    "\n",
    " element = self.find_element_by_css_selector(CSS_SELECTOR)\n",
    "            element.click()\n",
    "            self.wait(2)\n",
    "            element.send_keys(msg)\n"
   ]
  },
  {
   "cell_type": "code",
   "execution_count": 5,
   "metadata": {},
   "outputs": [
    {
     "data": {
      "application/vnd.jupyter.widget-view+json": {
       "model_id": "5acca6af1c2e4fae8ab49f52abaa06d4",
       "version_major": 2,
       "version_minor": 0
      },
      "text/plain": [
       "Text(value='span._5qtp', description='elemnet', placeholder='')"
      ]
     },
     "metadata": {},
     "output_type": "display_data"
    },
    {
     "data": {
      "application/vnd.jupyter.widget-view+json": {
       "model_id": "17762d5408dd436c95aa8e41718cb7ab",
       "version_major": 2,
       "version_minor": 0
      },
      "text/plain": [
       "Button(description='GO', style=ButtonStyle())"
      ]
     },
     "metadata": {},
     "output_type": "display_data"
    }
   ],
   "source": [
    "textbox_element = widgets.Text(\n",
    "        value='span._5qtp',\n",
    "        placeholder='',\n",
    "        description='elemnet' ,\n",
    "        disabled=False   \n",
    "    )\n",
    "display(textbox_element)\n",
    "    \n",
    "def button_element_clicked(b): # Описываем обработчик события\n",
    "    CSS_SELECTOR = textbox_element.value\n",
    "    print(f'css {CSS_SELECTOR}')\n",
    "    elements =  fb.driver.find_elements_by_css_selector(CSS_SELECTOR)\n",
    "\n",
    "    \n",
    "    for elem in elements:\n",
    "        if elem.text == 'התחל דיון' or elem.text == 'כתוב פוסט' :\n",
    "            elem.click()\n",
    "        \n",
    "        print(elem.text)\n",
    "\n",
    "button_element = widgets.Button(description=\"GO\")\n",
    "button_element.on_click(button_element_clicked) # Назначаем этот обработчик на событие \"on_click\"\n",
    "display(button_element)\n",
    "\n"
   ]
  },
  {
   "cell_type": "markdown",
   "metadata": {},
   "source": [
    "# Нажимаю на кнопочку для того, чтобы написать месседж"
   ]
  },
  {
   "cell_type": "code",
   "execution_count": 6,
   "metadata": {},
   "outputs": [
    {
     "data": {
      "application/vnd.jupyter.widget-view+json": {
       "model_id": "901c63a9a7994fbe8fc3e33e395f4027",
       "version_major": 2,
       "version_minor": 0
      },
      "text/plain": [
       "Button(description='Нажать для начала', style=ButtonStyle())"
      ]
     },
     "metadata": {},
     "output_type": "display_data"
    }
   ],
   "source": [
    "def button_click_2_start_writting_message_clicked(b): # Описываем обработчик события\n",
    "    fb.click_2_start_writting_message()\n",
    "\n",
    "button_click_2_start_writting_message = widgets.Button(description=\"Нажать для начала\")\n",
    "button_click_2_start_writting_message.on_click(button_click_2_start_writting_message_clicked) # Назначаем этот обработчик на событие \"on_click\"\n",
    "display(button_click_2_start_writting_message)\n"
   ]
  },
  {
   "cell_type": "markdown",
   "metadata": {},
   "source": [
    "# Пишу текст\n",
    "## селекторы\n",
    "                    ## '._2cuy._3dgx',\n",
    "                    ## 'textarea[placeholder^=\"כתוב משהו...\"]',\n",
    "                     ## 'textarea[placeholder^=\"כתוב משהו\"]',\n",
    "                     ## 'textarea[placeholder*=\"כתוב משהו...\"]',\n",
    "                     ## '._1mf._1mk',\n",
    "                     ## '_1p1v'"
   ]
  },
  {
   "cell_type": "code",
   "execution_count": 7,
   "metadata": {},
   "outputs": [
    {
     "data": {
      "application/vnd.jupyter.widget-view+json": {
       "model_id": "70e298d8609c466b881ac3e31b61f1ef",
       "version_major": 2,
       "version_minor": 0
      },
      "text/plain": [
       "Text(value='אלוף', description='msg', placeholder='')"
      ]
     },
     "metadata": {},
     "output_type": "display_data"
    },
    {
     "data": {
      "application/vnd.jupyter.widget-view+json": {
       "model_id": "770e17d23ddb4858a98e80dcd1fc3238",
       "version_major": 2,
       "version_minor": 0
      },
      "text/plain": [
       "Text(value='._1mf._1mk', description='селектор', placeholder='')"
      ]
     },
     "metadata": {},
     "output_type": "display_data"
    },
    {
     "data": {
      "application/vnd.jupyter.widget-view+json": {
       "model_id": "d4ef422805ac4ffbac0b281322cb041a",
       "version_major": 2,
       "version_minor": 0
      },
      "text/plain": [
       "Button(description='GO', style=ButtonStyle())"
      ]
     },
     "metadata": {},
     "output_type": "display_data"
    }
   ],
   "source": [
    "textbox_msg = widgets.Text(\n",
    "        value= 'אלוף',\n",
    "        placeholder='',\n",
    "        description='msg' ,\n",
    "        disabled=False   \n",
    "    )\n",
    "display(textbox_msg)\n",
    "    \n",
    "    \n",
    "textbox_cssselector_pole_vvoda = widgets.Text(\n",
    "        value= '._1mf._1mk',\n",
    "        placeholder='',\n",
    "        description='селектор' ,\n",
    "        disabled=False   \n",
    "    )\n",
    "display(textbox_cssselector_pole_vvoda)\n",
    "\n",
    "def button_write_msg_clicked(b): # Описываем обработчик события\n",
    "\n",
    "    element = fb.find_element_by_css_selector(textbox_cssselector_pole_vvoda.value)\n",
    "    element.click()\n",
    "    fb.wait(2)\n",
    "    element.send_keys(textbox_msg.value)\n",
    "    \n",
    "    \n",
    "button_write_msg = widgets.Button(description=\"GO\")\n",
    "button_write_msg.on_click(button_write_msg_clicked) # Назначаем этот обработчик на событие \"on_click\"\n",
    "display(button_write_msg)"
   ]
  },
  {
   "cell_type": "markdown",
   "metadata": {},
   "source": [
    "# Картинки"
   ]
  },
  {
   "cell_type": "code",
   "execution_count": 8,
   "metadata": {},
   "outputs": [
    {
     "data": {
      "application/vnd.jupyter.widget-view+json": {
       "model_id": "8a291024a419441eb19ced20d9f3e364",
       "version_major": 2,
       "version_minor": 0
      },
      "text/plain": [
       "Text(value='', description='image', placeholder='')"
      ]
     },
     "metadata": {},
     "output_type": "display_data"
    },
    {
     "data": {
      "application/vnd.jupyter.widget-view+json": {
       "model_id": "39a45872d5c546da8d9d33dc79461e7a",
       "version_major": 2,
       "version_minor": 0
      },
      "text/plain": [
       "Button(description='UPLOAD', style=ButtonStyle())"
      ]
     },
     "metadata": {},
     "output_type": "display_data"
    }
   ],
   "source": [
    "textbox_upload_image = widgets.Text(\n",
    "        value='',\n",
    "        placeholder='',\n",
    "        description='image' ,\n",
    "        disabled=False   \n",
    "    )\n",
    "display(textbox_upload_image)\n",
    "    \n",
    "def button_upload_image_clicked(b): # Описываем обработчик события\n",
    "    fb.click_2_start_writting_message()\n",
    "    fb.driver.execute_script(\"window.scrollBy(0,200)\") # поднял окошко\n",
    "    fb.upload_imgs(textbox_upload_image.value)\n",
    "    \n",
    "button_upload_image = widgets.Button(description=\"UPLOAD\")\n",
    "button_upload_image.on_click(button_upload_image_clicked) # Назначаем этот обработчик на событие \"on_click\"\n",
    "display(button_upload_image)"
   ]
  },
  {
   "cell_type": "code",
   "execution_count": null,
   "metadata": {},
   "outputs": [],
   "source": []
  },
  {
   "cell_type": "code",
   "execution_count": null,
   "metadata": {},
   "outputs": [],
   "source": []
  }
 ],
 "metadata": {
  "kernelspec": {
   "display_name": "Python 3",
   "language": "python",
   "name": "python3"
  },
  "language_info": {
   "codemirror_mode": {
    "name": "ipython",
    "version": 3
   },
   "file_extension": ".py",
   "mimetype": "text/x-python",
   "name": "python",
   "nbconvert_exporter": "python",
   "pygments_lexer": "ipython3",
   "version": "3.7.6"
  }
 },
 "nbformat": 4,
 "nbformat_minor": 4
}
