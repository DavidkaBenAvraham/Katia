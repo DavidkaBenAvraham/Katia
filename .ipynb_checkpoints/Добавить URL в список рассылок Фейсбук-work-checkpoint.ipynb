{
 "cells": [
  {
   "cell_type": "code",
   "execution_count": 1,
   "metadata": {},
   "outputs": [
    {
     "data": {
      "application/vnd.jupyter.widget-view+json": {
       "model_id": "31bd27b2d6344baba7fd992344ff8aa1",
       "version_major": 2,
       "version_minor": 0
      },
      "text/plain": [
       "RadioButtons(description='Lang', options=('he', 'ru'), value='he')"
      ]
     },
     "metadata": {},
     "output_type": "display_data"
    },
    {
     "data": {
      "application/vnd.jupyter.widget-view+json": {
       "model_id": "08c9714cdc694874b22cf8f9ce483acb",
       "version_major": 2,
       "version_minor": 0
      },
      "text/plain": [
       "Text(value='', description='URL', placeholder='')"
      ]
     },
     "metadata": {},
     "output_type": "display_data"
    },
    {
     "data": {
      "application/vnd.jupyter.widget-view+json": {
       "model_id": "832357cd3b9b4673ad721e83f995829d",
       "version_major": 2,
       "version_minor": 0
      },
      "text/plain": [
       "Button(description='Save', style=ButtonStyle())"
      ]
     },
     "metadata": {},
     "output_type": "display_data"
    },
    {
     "name": "stdout",
     "output_type": "stream",
     "text": [
      "SELECT * FROM `facebook_urls` WHERE `url` IN (SELECT `url` FROM `facebook_urls` GROUP BY `url` HAVING COUNT(*) > 1) ORDER BY `url`\n",
      "Empty DataFrame\n",
      "Columns: [ROWID, lang, sug_inian, url, group_title, status_kvutza, mispar_pirsumim_beyom, pirsum_axaron, zman_pirsum_axaron, status_pirsum_aharon]\n",
      "Index: []\n"
     ]
    },
    {
     "data": {
      "application/vnd.jupyter.widget-view+json": {
       "model_id": "3f6fe34d595a420e85bd7f926868e3f8",
       "version_major": 2,
       "version_minor": 0
      },
      "text/plain": [
       "Text(value='', description='ROWID', placeholder='')"
      ]
     },
     "metadata": {},
     "output_type": "display_data"
    },
    {
     "data": {
      "application/vnd.jupyter.widget-view+json": {
       "model_id": "0033ccdd55c14a93b719d9efa7a780d5",
       "version_major": 2,
       "version_minor": 0
      },
      "text/plain": [
       "Button(description='DELETE', style=ButtonStyle())"
      ]
     },
     "metadata": {},
     "output_type": "display_data"
    }
   ],
   "source": [
    "import DB as db\n",
    "import ipywidgets as widgets\n",
    "from IPython.display import display\n",
    "\n",
    "def add_url(lang, url):\n",
    "    query = str(f'insert into facebook_urls (lang , url , sug_inian, status_kvutza) values (\"{lang}\",\"{url}\",\"1\",\"active\")')\n",
    "    db.execute(query , do='insert')\n",
    "\n",
    "def get_dublicates():\n",
    "    query = 'SELECT * FROM `facebook_urls` WHERE `url` IN (SELECT `url` FROM `facebook_urls` GROUP BY `url` HAVING COUNT(*) > 1) ORDER BY `url`'\n",
    "    df = db.execute(query , do='select')\n",
    "    print(df)\n",
    " \n",
    "def delete_ROWID(ROWID):\n",
    "    query = str(f'DELETE FROM `facebook_urls` where ROWID =  {ROWID}')\n",
    "    print(query)\n",
    "    db.execute(query , do='delete')\n",
    "    get_dublicates()\n",
    "    \n",
    "def render_inputs():\n",
    "   \n",
    "    lang = widgets.RadioButtons(\n",
    "    options=['he', 'ru'],\n",
    "    #    value='pineapple', # Defaults to 'pineapple'\n",
    "    #    layout={'width': 'max-content'}, # If the items' names are long\n",
    "    description='Lang',\n",
    "    disabled=False\n",
    "    )\n",
    "    \n",
    "    display(lang)\n",
    "    \n",
    "    url = widgets.Text(\n",
    "        value='',\n",
    "        placeholder='',\n",
    "        description='URL' ,\n",
    "        disabled=False   \n",
    "    )\n",
    "    display(url)\n",
    "\n",
    " \n",
    "\n",
    "    \n",
    "    \n",
    "    def on_button_save_clicked(b): # Описываем обработчик события\n",
    "        add_url(lang.value,\n",
    "                       url.value)\n",
    "        url.value = ''\n",
    "        get_dublicates()\n",
    "\n",
    "    button_save = widgets.Button(description=\"Save\")\n",
    "    button_save.on_click(on_button_save_clicked) # Назначаем этот обработчик на событие \"on_click\"\n",
    "    display(button_save)\n",
    "\n",
    "render_inputs()\n",
    "\n",
    "get_dublicates()\n",
    "\n",
    "textbox_ROWID = widgets.Text(\n",
    "        value='',\n",
    "        placeholder='',\n",
    "        description='ROWID' ,\n",
    "        disabled=False   \n",
    "    )\n",
    "display(textbox_ROWID)\n",
    "    \n",
    "def button_delete_ROWID_clicked(b): # Описываем обработчик события\n",
    "    delete_ROWID(textbox_ROWID.value)\n",
    "    get_dublicates()\n",
    "\n",
    "button_delete_ROWID = widgets.Button(description=\"DELETE\")\n",
    "button_delete_ROWID.on_click(button_delete_ROWID_clicked) # Назначаем этот обработчик на событие \"on_click\"\n",
    "display(button_delete_ROWID)"
   ]
  },
  {
   "cell_type": "code",
   "execution_count": 2,
   "metadata": {},
   "outputs": [
    {
     "data": {
      "application/vnd.jupyter.widget-view+json": {
       "model_id": "ff4b92e7125c4419a388c5bbba40d463",
       "version_major": 2,
       "version_minor": 0
      },
      "text/plain": [
       "Text(value='', description='ROWID', placeholder='')"
      ]
     },
     "metadata": {},
     "output_type": "display_data"
    },
    {
     "data": {
      "application/vnd.jupyter.widget-view+json": {
       "model_id": "390e6bf97f3f4de3a698f14cc9f83964",
       "version_major": 2,
       "version_minor": 0
      },
      "text/plain": [
       "Button(description='Find', style=ButtonStyle())"
      ]
     },
     "metadata": {},
     "output_type": "display_data"
    },
    {
     "data": {
      "application/vnd.jupyter.widget-view+json": {
       "model_id": "6290cb8745754be594dd4750367ec4d9",
       "version_major": 2,
       "version_minor": 0
      },
      "text/plain": [
       "Text(value='', description='URL', placeholder='')"
      ]
     },
     "metadata": {},
     "output_type": "display_data"
    },
    {
     "data": {
      "application/vnd.jupyter.widget-view+json": {
       "model_id": "67d44d447e46474f9dba8b39949498aa",
       "version_major": 2,
       "version_minor": 0
      },
      "text/plain": [
       "Button(description='Find by URL', style=ButtonStyle())"
      ]
     },
     "metadata": {},
     "output_type": "display_data"
    }
   ],
   "source": [
    "def find_facebook_url_by_ROWID(ROWID):\n",
    "    query = str(f'select url from facebook_urls where ROWID = {ROWID}')\n",
    "    df = db.execute(query , do='select')\n",
    "    print(df)\n",
    "# https://www.facebook.com/groups/244827598986210    \n",
    "\n",
    "ROWID = widgets.Text(\n",
    "    value='',\n",
    "    placeholder='',\n",
    "    description='ROWID' ,\n",
    "    disabled=False   \n",
    ")\n",
    "display(ROWID)\n",
    "\n",
    "def on_button_find_ROWID_clicked(b): \n",
    "    find_facebook_url_by_ROWID(ROWID.value)\n",
    "    ROWID.value = ''\n",
    "\n",
    "button_find_ROWID = widgets.Button(description=\"Find\")\n",
    "button_find_ROWID.on_click(on_button_find_ROWID_clicked) # Назначаем этот обработчик на событие \"on_click\"\n",
    "display(button_find_ROWID)\n",
    "\n",
    "\n",
    "\n",
    "def find_facebook_url_by_url(url):\n",
    "    query = str(f'select url from facebook_urls where url like \"{url}%\"')\n",
    "    df = db.execute(query , do='select')\n",
    "    print(df)\n",
    "# https://www.facebook.com/groups/244827598986210    \n",
    "\n",
    "find_by_URL = widgets.Text(\n",
    "    value='',\n",
    "    placeholder='',\n",
    "    description='URL' ,\n",
    "    disabled=False   \n",
    ")\n",
    "display(find_by_URL)\n",
    "\n",
    "def button_find_ROWID_by_url_clicked(b): \n",
    "    find_facebook_url_by_url(find_by_URL.value)\n",
    "    find_by_URL.value = ''\n",
    "    \n",
    "\n",
    "button_find_ROWID_by_url = widgets.Button(description=\"Find by URL\")\n",
    "button_find_ROWID.on_click(button_find_ROWID_by_url_clicked) # Назначаем этот обработчик на событие \"on_click\"\n",
    "display(button_find_ROWID_by_url)\n"
   ]
  },
  {
   "cell_type": "code",
   "execution_count": null,
   "metadata": {},
   "outputs": [],
   "source": []
  }
 ],
 "metadata": {
  "kernelspec": {
   "display_name": "Python 3",
   "language": "python",
   "name": "python3"
  },
  "language_info": {
   "codemirror_mode": {
    "name": "ipython",
    "version": 3
   },
   "file_extension": ".py",
   "mimetype": "text/x-python",
   "name": "python",
   "nbconvert_exporter": "python",
   "pygments_lexer": "ipython3",
   "version": "3.7.6"
  }
 },
 "nbformat": 4,
 "nbformat_minor": 4
}
