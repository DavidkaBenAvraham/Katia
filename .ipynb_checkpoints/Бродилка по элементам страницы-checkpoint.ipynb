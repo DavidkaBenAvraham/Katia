{
 "cells": [
  {
   "cell_type": "markdown",
   "metadata": {},
   "source": [
    "# Запускается после лончера"
   ]
  },
  {
   "cell_type": "code",
   "execution_count": 4,
   "metadata": {},
   "outputs": [
    {
     "name": "stdout",
     "output_type": "stream",
     "text": [
      "2020-06-17 19:19:50 - запустился модуль Logging()\n"
     ]
    }
   ],
   "source": [
    "from selenium import webdriver\n",
    "from selenium.webdriver.common.by import By\n",
    "from selenium.webdriver.support.ui import WebDriverWait\n",
    "from selenium.webdriver.support import expected_conditions as EC\n",
    "from selenium.webdriver.common.keys import Keys\n",
    "\n",
    "\n",
    "\n",
    "import DB as db\n",
    "import Ini as Ini\n",
    "import ipywidgets as widgets\n",
    "from IPython.display import display\n",
    "\n",
    "from Launcher import Launcher\n",
    "l = Launcher()"
   ]
  },
  {
   "cell_type": "code",
   "execution_count": 5,
   "metadata": {},
   "outputs": [
    {
     "data": {
      "application/vnd.jupyter.widget-view+json": {
       "model_id": "429fb35f64024f63b248f95b357ded86",
       "version_major": 2,
       "version_minor": 0
      },
      "text/plain": [
       "Dropdown(description='Driver:', index=1, options=(('Chrome', 'chrome'), ('Firefox', 'firefox'), ('Opera', 'ope…"
      ]
     },
     "metadata": {},
     "output_type": "display_data"
    },
    {
     "data": {
      "application/vnd.jupyter.widget-view+json": {
       "model_id": "6db4a477f6674726a0835373a20f0aed",
       "version_major": 2,
       "version_minor": 0
      },
      "text/plain": [
       "Button(description='Start', style=ButtonStyle())"
      ]
     },
     "metadata": {},
     "output_type": "display_data"
    }
   ],
   "source": [
    "\n",
    "driver_select = widgets.Dropdown(\n",
    "    options=[('Chrome', 'chrome'), ('Firefox', 'firefox'), ('Opera', 'opera')],\n",
    "    value='firefox',\n",
    "    description='Driver:',\n",
    ")\n",
    "\n",
    "display(driver_select)\n",
    "    \n",
    "def button_driver_clicked(b): # Описываем обработчик события\n",
    "    l.start(driver_select.value)\n",
    "    \n",
    "    \n",
    "button_driver = widgets.Button(description=\"Start\")\n",
    "button_driver.on_click(button_driver_clicked) # Назначаем этот обработчик на событие \"on_click\"\n",
    "display(button_driver)\n"
   ]
  },
  {
   "cell_type": "code",
   "execution_count": 6,
   "metadata": {},
   "outputs": [
    {
     "data": {
      "application/vnd.jupyter.widget-view+json": {
       "model_id": "8eb32c2169034b08ad6d0c6a3d1aeff9",
       "version_major": 2,
       "version_minor": 0
      },
      "text/plain": [
       "Text(value='', description='url', placeholder='')"
      ]
     },
     "metadata": {},
     "output_type": "display_data"
    },
    {
     "data": {
      "application/vnd.jupyter.widget-view+json": {
       "model_id": "971055dcc5634a57b574c78bc4fdd516",
       "version_major": 2,
       "version_minor": 0
      },
      "text/plain": [
       "Button(description='GO', style=ButtonStyle())"
      ]
     },
     "metadata": {},
     "output_type": "display_data"
    },
    {
     "name": "stdout",
     "output_type": "stream",
     "text": [
      "19:21:18 - SUCCESS: url: https://www.morlevi.co.il\n"
     ]
    }
   ],
   "source": [
    "textbox_url = widgets.Text(\n",
    "        value= '',\n",
    "        placeholder='',\n",
    "        description='url' ,\n",
    "        disabled=False   \n",
    "    )\n",
    "\n",
    "display(textbox_url)\n",
    "\n",
    "def button_gotourl_clicked(b): # Описываем обработчик события\n",
    "    l.get_url(textbox_url.value)\n",
    "    \n",
    "button_gotourl = widgets.Button(description=\"GO\")\n",
    "button_gotourl.on_click(button_gotourl_clicked) # Назначаем этот обработчик на событие \"on_click\"\n",
    "display(button_gotourl)"
   ]
  },
  {
   "cell_type": "code",
   "execution_count": 7,
   "metadata": {},
   "outputs": [
    {
     "data": {
      "application/vnd.jupyter.widget-view+json": {
       "model_id": "62308b8546c14c91b05d984502cb0e57",
       "version_major": 2,
       "version_minor": 0
      },
      "text/plain": [
       "Text(value='span._5qtp', description='elemnet', placeholder='')"
      ]
     },
     "metadata": {},
     "output_type": "display_data"
    },
    {
     "data": {
      "application/vnd.jupyter.widget-view+json": {
       "model_id": "5d12d3a022104449973108fe51fdfd53",
       "version_major": 2,
       "version_minor": 0
      },
      "text/plain": [
       "Button(description='GO', style=ButtonStyle())"
      ]
     },
     "metadata": {},
     "output_type": "display_data"
    }
   ],
   "source": [
    "textbox_element = widgets.Text(\n",
    "        value='',\n",
    "        placeholder='',\n",
    "        description='elemnet' ,\n",
    "        disabled=False   \n",
    "    )\n",
    "display(textbox_element)\n",
    "    \n",
    "def button_element_clicked(b): # Описываем обработчик события\n",
    "    CSS_SELECTOR = textbox_element.value\n",
    "    print(f'css {CSS_SELECTOR}')\n",
    "    elements =  fb.driver.find_elements_by_css_selector(CSS_SELECTOR)\n",
    "    \n",
    "button_element = widgets.Button(description=\"GO\")\n",
    "button_element.on_click(button_element_clicked) # Назначаем этот обработчик на событие \"on_click\"\n",
    "display(button_element)\n"
   ]
  },
  {
   "cell_type": "code",
   "execution_count": null,
   "metadata": {},
   "outputs": [],
   "source": []
  }
 ],
 "metadata": {
  "kernelspec": {
   "display_name": "Python 3",
   "language": "python",
   "name": "python3"
  },
  "language_info": {
   "codemirror_mode": {
    "name": "ipython",
    "version": 3
   },
   "file_extension": ".py",
   "mimetype": "text/x-python",
   "name": "python",
   "nbconvert_exporter": "python",
   "pygments_lexer": "ipython3",
   "version": "3.7.6"
  }
 },
 "nbformat": 4,
 "nbformat_minor": 4
}
