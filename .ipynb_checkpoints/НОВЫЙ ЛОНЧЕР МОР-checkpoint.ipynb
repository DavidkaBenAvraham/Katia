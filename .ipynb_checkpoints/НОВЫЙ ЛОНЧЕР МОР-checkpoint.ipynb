{
 "cells": [
  {
   "cell_type": "code",
   "execution_count": 1,
   "metadata": {},
   "outputs": [
    {
     "ename": "NameError",
     "evalue": "name 'ups' is not defined",
     "output_type": "error",
     "traceback": [
      "\u001b[1;31m---------------------------------------------------------------------------\u001b[0m",
      "\u001b[1;31mNameError\u001b[0m                                 Traceback (most recent call last)",
      "\u001b[1;32m<ipython-input-1-095143e7cce4>\u001b[0m in \u001b[0;36m<module>\u001b[1;34m\u001b[0m\n\u001b[0;32m     55\u001b[0m \u001b[1;33m\u001b[0m\u001b[0m\n\u001b[0;32m     56\u001b[0m \u001b[1;33m\u001b[0m\u001b[0m\n\u001b[1;32m---> 57\u001b[1;33m \u001b[0mscenaries\u001b[0m \u001b[1;33m=\u001b[0m \u001b[1;33m[\u001b[0m\u001b[0mcpu\u001b[0m\u001b[1;33m,\u001b[0m\u001b[0mkb\u001b[0m\u001b[1;33m,\u001b[0m\u001b[0mlaptops\u001b[0m\u001b[1;33m,\u001b[0m\u001b[0mmb\u001b[0m\u001b[1;33m,\u001b[0m\u001b[0mmemory\u001b[0m\u001b[1;33m,\u001b[0m\u001b[0mminipc\u001b[0m\u001b[1;33m,\u001b[0m\u001b[0mmonitors\u001b[0m\u001b[1;33m,\u001b[0m\u001b[0mstorage\u001b[0m\u001b[1;33m,\u001b[0m \u001b[0mnetwork\u001b[0m\u001b[1;33m,\u001b[0m\u001b[0mprinters\u001b[0m\u001b[1;33m,\u001b[0m\u001b[0mpsu\u001b[0m\u001b[1;33m,\u001b[0m\u001b[0msound\u001b[0m\u001b[1;33m,\u001b[0m\u001b[0mups\u001b[0m\u001b[1;33m,\u001b[0m\u001b[0mvideo\u001b[0m\u001b[1;33m]\u001b[0m\u001b[1;33m\u001b[0m\u001b[1;33m\u001b[0m\u001b[0m\n\u001b[0m\u001b[0;32m     58\u001b[0m \u001b[0mscenaries\u001b[0m \u001b[1;33m=\u001b[0m \u001b[1;33m[\u001b[0m\u001b[0mpsu\u001b[0m\u001b[1;33m,\u001b[0m\u001b[0msound\u001b[0m\u001b[1;33m,\u001b[0m\u001b[0mups\u001b[0m\u001b[1;33m,\u001b[0m\u001b[0mvideo\u001b[0m\u001b[1;33m]\u001b[0m\u001b[1;33m\u001b[0m\u001b[1;33m\u001b[0m\u001b[0m\n\u001b[0;32m     59\u001b[0m \u001b[1;33m\u001b[0m\u001b[0m\n",
      "\u001b[1;31mNameError\u001b[0m: name 'ups' is not defined"
     ]
    }
   ],
   "source": [
    "import main\n",
    "\n",
    "suppliers_names = ['cdata','mor','grand','vdg']\n",
    "one_supplier = ['mor']\n",
    "\n",
    "\n",
    "cpu = [\"morlevi_categories_cpu.json\"]\n",
    "\n",
    "kb = [\"morlevi_categories_keyboards_hp.json\",\"morlevi_categories_keyboards_genius.json\"]\n",
    "\n",
    "laptops = [\"morlevi_categories_laptops_asus.json\",\n",
    "    \"morlevi_categories_laptops_dell.json\",\n",
    "    \"morlevi_categories_laptops_hp.json\",\n",
    "    \"morlevi_categories_laptops_lenovo.json\"]\n",
    "\n",
    "mb = [ \"morlevi_categories_mb_gigabyte.json\"]\n",
    "\n",
    "memory =  [\"morlevi_categories_memory_dimm_ddr3.json\", \"morlevi_categories_memory_dimm_ddr4.json\"]\n",
    "minipc = [ \"morlevi_categories_minipc_gigabyte.json\", \"morlevi_categories_minipc_intel.json\"]\n",
    "monitors = [\n",
    "    \"morlevi_categories_monitors_aoc.json\",\n",
    "    \"morlevi_categories_monitors_gigabyte.json\",\n",
    "    \"morlevi_categories_monitors_coolermaster.json\",\n",
    "    \"morlevi_categories_monitors_dell.json\",\n",
    "    \"morlevi_categories_monitors_lenovo.json\",\n",
    "    \"morlevi_categories_monitors_mag.json\",\n",
    "    \"morlevi_categories_monitors_philips.json\",\n",
    "    \"morlevi_categories_monitors_lenovo.json\"]\n",
    "\n",
    "storage = [ \"morlevi_categories_storage_crucial.json\",\n",
    "    \"morlevi_categories_storage_gigabyte.json\",\n",
    "    \"morlevi_categories_storage_intel.json\",\n",
    "    \"morlevi_categories_storage_kingston.json\",\n",
    "    \"morlevi_categories_storage_samsung.json\",\n",
    "    \"morlevi_categories_storage_sandisk.json\",\n",
    "    \"morlevi_categories_storage_toshiba.json\",\n",
    "    \"morlevi_categories_storage_wd.json\"]\n",
    "\n",
    "\n",
    "\n",
    "network = [\"morlevi_categories_network.json\"]\n",
    "printers =[\"morlevi_categories_printers.json\"]\n",
    "\n",
    "\n",
    "\n",
    "sound =[\"morlevi_categories_sound.json\"]\n",
    "\n",
    "psu = [\"morlevi_categories_psu_antec.json\",\n",
    "       \"morlevi_categories_psu_cooler_maser.json\",\n",
    "       \"morlevi_categories_psu_corsair.json\",\"morlevi_categories_psu_gigabyte.json\"]\n",
    "\n",
    "ups = [\"morlevi_categories_ups.json\"]\n",
    "video = [\"morlevi_categories_video.json\"]\n",
    "\n",
    "\n",
    "\n",
    "\n",
    "scenaries = [cpu,kb,laptops,mb,memory,minipc,monitors,storage, network,printers,psu,sound,ups,video]\n",
    "scenaries = [psu,sound,ups,video]\n",
    "\n",
    "\n",
    "#scenaries = [printers,psu,sound,ups,video]\n",
    "for scenario in scenaries: \n",
    "    supplier = main.run_supplier('mor')\n",
    "    main.run_scenario(supplier , scenario)"
   ]
  },
  {
   "cell_type": "code",
   "execution_count": null,
   "metadata": {},
   "outputs": [],
   "source": []
  },
  {
   "cell_type": "code",
   "execution_count": null,
   "metadata": {},
   "outputs": [],
   "source": []
  }
 ],
 "metadata": {
  "kernelspec": {
   "display_name": "Python 3",
   "language": "python",
   "name": "python3"
  },
  "language_info": {
   "codemirror_mode": {
    "name": "ipython",
    "version": 3
   },
   "file_extension": ".py",
   "mimetype": "text/x-python",
   "name": "python",
   "nbconvert_exporter": "python",
   "pygments_lexer": "ipython3",
   "version": "3.7.6"
  }
 },
 "nbformat": 4,
 "nbformat_minor": 4
}
