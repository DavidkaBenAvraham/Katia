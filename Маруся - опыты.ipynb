{
 "cells": [
  {
   "cell_type": "code",
   "execution_count": 1,
   "id": "11db5ee9",
   "metadata": {},
   "outputs": [],
   "source": [
    "import ipywidgets as widgets\n",
    "from IPython.display import display\n",
    "from suppliers import Supplier\n",
    "from ini_files_dir import Ini\n",
    "ini = Ini()\n",
    "#s = Supplier()\n"
   ]
  },
  {
   "cell_type": "code",
   "execution_count": 2,
   "id": "a57047f7",
   "metadata": {},
   "outputs": [
    {
     "name": "stdout",
     "output_type": "stream",
     "text": [
      "list index out of range\n"
     ]
    }
   ],
   "source": [
    "\n",
    "supplier  = Supplier(supplier_prefics = 'aliexpress', lang = 'en' , ini = ini)"
   ]
  },
  {
   "cell_type": "code",
   "execution_count": 3,
   "id": "90051251",
   "metadata": {},
   "outputs": [
    {
     "name": "stdout",
     "output_type": "stream",
     "text": [
      "https://www.aliexpress.com\n"
     ]
    }
   ],
   "source": [
    "supplier.driver.get_url(f'''https://www.aliexpress.com''')\n"
   ]
  },
  {
   "cell_type": "code",
   "execution_count": 4,
   "id": "7492ad6b",
   "metadata": {},
   "outputs": [
    {
     "name": "stdout",
     "output_type": "stream",
     "text": [
      "<selenium.webdriver.chrome.webdriver.WebDriver (session=\"8560cf7caa2c92ef122a0e65bf560252\")>\n"
     ]
    }
   ],
   "source": [
    "print(supplier.driver)"
   ]
  },
  {
   "cell_type": "code",
   "execution_count": null,
   "id": "657a0be7",
   "metadata": {},
   "outputs": [],
   "source": [
    "supplier.driver.get_url(f'''https://www.aliexpress.com''')"
   ]
  }
 ],
 "metadata": {
  "kernelspec": {
   "display_name": "Python 3 (ipykernel)",
   "language": "python",
   "name": "python3"
  },
  "language_info": {
   "codemirror_mode": {
    "name": "ipython",
    "version": 3
   },
   "file_extension": ".py",
   "mimetype": "text/x-python",
   "name": "python",
   "nbconvert_exporter": "python",
   "pygments_lexer": "ipython3",
   "version": "3.9.12"
  }
 },
 "nbformat": 4,
 "nbformat_minor": 5
}
