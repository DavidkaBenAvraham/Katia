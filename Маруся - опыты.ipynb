{
 "cells": [
  {
   "cell_type": "code",
   "execution_count": 1,
   "id": "11db5ee9",
   "metadata": {},
   "outputs": [],
   "source": [
    "import ipywidgets as widgets\n",
    "from IPython.display import display\n",
    "from suppliers import Supplier\n",
    "from ini_files_dir import Ini\n",
    "ini = Ini()\n",
    "#s = Supplier()\n"
   ]
  },
  {
   "cell_type": "code",
   "execution_count": 2,
   "id": "a57047f7",
   "metadata": {},
   "outputs": [],
   "source": [
    "\n",
    "supplier  = Supplier(supplier_prefics = 'aliexpress', lang = 'en' , ini = ini)"
   ]
  },
  {
   "cell_type": "code",
   "execution_count": 6,
   "id": "90051251",
   "metadata": {},
   "outputs": [
    {
     "data": {
      "text/plain": [
       "True"
      ]
     },
     "execution_count": 6,
     "metadata": {},
     "output_type": "execute_result"
    }
   ],
   "source": [
    "supplier.driver.get_url(f'''https://www.aliexpress.com''')"
   ]
  },
  {
   "cell_type": "code",
   "execution_count": 8,
   "id": "7492ad6b",
   "metadata": {},
   "outputs": [],
   "source": [
    "import suppliers.execute_scenaries as ex"
   ]
  },
  {
   "cell_type": "code",
   "execution_count": 9,
   "id": "657a0be7",
   "metadata": {},
   "outputs": [
    {
     "ename": "AttributeError",
     "evalue": "'list' object has no attribute 'items'",
     "output_type": "error",
     "traceback": [
      "\u001b[1;31m---------------------------------------------------------------------------\u001b[0m",
      "\u001b[1;31mAttributeError\u001b[0m                            Traceback (most recent call last)",
      "Input \u001b[1;32mIn [9]\u001b[0m, in \u001b[0;36m<cell line: 1>\u001b[1;34m()\u001b[0m\n\u001b[1;32m----> 1\u001b[0m \u001b[43mex\u001b[49m\u001b[38;5;241;43m.\u001b[39;49m\u001b[43mexecute_list_of_scenaries\u001b[49m\u001b[43m(\u001b[49m\u001b[43msupplier\u001b[49m\u001b[43m)\u001b[49m\n",
      "File \u001b[1;32m~\\OneDrive\\REPOS\\DavidkaBenAvraham\\Katia\\Aluf\\suppliers\\execute_scenaries.py:70\u001b[0m, in \u001b[0;36mexecute_list_of_scenaries\u001b[1;34m(Supplier)\u001b[0m\n\u001b[0;32m     68\u001b[0m \u001b[38;5;28;01mif\u001b[39;00m \u001b[38;5;28misinstance\u001b[39m(scenario_files, \u001b[38;5;28mstr\u001b[39m):\n\u001b[0;32m     69\u001b[0m     \u001b[38;5;124;03m''' если в сценарии есть всего один файл '''\u001b[39;00m\n\u001b[1;32m---> 70\u001b[0m     \u001b[43mrun\u001b[49m\u001b[43m(\u001b[49m\u001b[43mscenario_files\u001b[49m\u001b[43m)\u001b[49m\n\u001b[0;32m     71\u001b[0m \u001b[38;5;28;01melse\u001b[39;00m:\n\u001b[0;32m     72\u001b[0m     \u001b[38;5;28;01mfor\u001b[39;00m json_file \u001b[38;5;129;01min\u001b[39;00m [scenario_files]:\n",
      "File \u001b[1;32m~\\OneDrive\\REPOS\\DavidkaBenAvraham\\Katia\\Aluf\\suppliers\\execute_scenaries.py:63\u001b[0m, in \u001b[0;36mexecute_list_of_scenaries.<locals>.run\u001b[1;34m(json_file)\u001b[0m\n\u001b[0;32m     61\u001b[0m s\u001b[38;5;241m.\u001b[39mcurrent_scenario_category \u001b[38;5;241m=\u001b[39m json_file\u001b[38;5;241m.\u001b[39msplit(\u001b[38;5;124m'\u001b[39m\u001b[38;5;124m_\u001b[39m\u001b[38;5;124m'\u001b[39m)[\u001b[38;5;241m2\u001b[39m]\n\u001b[0;32m     62\u001b[0m \u001b[38;5;124;03m''' третье слово в названии файла сценариев это категория товаров '''\u001b[39;00m\n\u001b[1;32m---> 63\u001b[0m \u001b[43mrun_scenario\u001b[49m\u001b[43m(\u001b[49m\u001b[43ms\u001b[49m\u001b[43m)\u001b[49m\n",
      "File \u001b[1;32m~\\OneDrive\\REPOS\\DavidkaBenAvraham\\Katia\\Aluf\\suppliers\\execute_scenaries.py:140\u001b[0m, in \u001b[0;36mrun_scenario\u001b[1;34m(s)\u001b[0m\n\u001b[0;32m    137\u001b[0m         s\u001b[38;5;241m.\u001b[39mcurrent_scenario \u001b[38;5;241m=\u001b[39m s\u001b[38;5;241m.\u001b[39mdict_current_node[\u001b[38;5;124m'\u001b[39m\u001b[38;5;124mscenaries\u001b[39m\u001b[38;5;124m'\u001b[39m][scenario]\n\u001b[0;32m    138\u001b[0m         s\u001b[38;5;241m.\u001b[39mcurrent_node \u001b[38;5;241m=\u001b[39m s\u001b[38;5;241m.\u001b[39mdict_current_node[\u001b[38;5;124m'\u001b[39m\u001b[38;5;124mscenaries\u001b[39m\u001b[38;5;124m'\u001b[39m][scenario]\n\u001b[1;32m--> 140\u001b[0m         \u001b[43mrun\u001b[49m\u001b[43m(\u001b[49m\u001b[43ms\u001b[49m\u001b[43m)\u001b[49m\n\u001b[0;32m    141\u001b[0m     \u001b[38;5;28;01mpass\u001b[39;00m\n\u001b[0;32m    143\u001b[0m \u001b[38;5;28;01melse\u001b[39;00m:\n",
      "File \u001b[1;32m~\\OneDrive\\REPOS\\DavidkaBenAvraham\\Katia\\Aluf\\suppliers\\execute_scenaries.py:118\u001b[0m, in \u001b[0;36mrun_scenario.<locals>.run\u001b[1;34m(s)\u001b[0m\n\u001b[0;32m    114\u001b[0m \u001b[38;5;124;03m'''Перехожу на страницу товара '''\u001b[39;00m\n\u001b[0;32m    116\u001b[0m \u001b[38;5;66;03m#   b)\u001b[39;00m\n\u001b[0;32m    117\u001b[0m \u001b[38;5;66;03m#p_fields = s.related_functions.get_product_fields_from_product_page(s)\u001b[39;00m\n\u001b[1;32m--> 118\u001b[0m product : \u001b[38;5;28mdict\u001b[39m \u001b[38;5;241m=\u001b[39m \u001b[43ms\u001b[49m\u001b[38;5;241;43m.\u001b[39;49m\u001b[43mrelated_functions\u001b[49m\u001b[38;5;241;43m.\u001b[39;49m\u001b[43mgrab_product_page\u001b[49m\u001b[43m(\u001b[49m\u001b[43ms\u001b[49m\u001b[43m)\u001b[49m\n\u001b[0;32m    119\u001b[0m \u001b[38;5;124;03m''' получаю поля товара '''\u001b[39;00m\n\u001b[0;32m    121\u001b[0m \u001b[38;5;66;03m#   c)\u001b[39;00m\n",
      "File \u001b[1;32m~\\OneDrive\\REPOS\\DavidkaBenAvraham\\Katia\\Aluf\\suppliers\\aliexpress\\__init__.py:221\u001b[0m, in \u001b[0;36mgrab_product_page\u001b[1;34m(s)\u001b[0m\n\u001b[0;32m    219\u001b[0m get_price(),\n\u001b[0;32m    220\u001b[0m get_shipping(),\n\u001b[1;32m--> 221\u001b[0m \u001b[43mget_images\u001b[49m\u001b[43m(\u001b[49m\u001b[43m)\u001b[49m,\n\u001b[0;32m    222\u001b[0m get_attributes(),\n\u001b[0;32m    223\u001b[0m get_qty(),\n",
      "File \u001b[1;32m~\\OneDrive\\REPOS\\DavidkaBenAvraham\\Katia\\Aluf\\suppliers\\aliexpress\\__init__.py:192\u001b[0m, in \u001b[0;36mgrab_product_page.<locals>.get_images\u001b[1;34m()\u001b[0m\n\u001b[0;32m    190\u001b[0m \u001b[38;5;28;01mdef\u001b[39;00m \u001b[38;5;21mget_images\u001b[39m():\n\u001b[0;32m    191\u001b[0m     _images \u001b[38;5;241m=\u001b[39m _d\u001b[38;5;241m.\u001b[39mfind(_[\u001b[38;5;124m'\u001b[39m\u001b[38;5;124mproduct_images_locator\u001b[39m\u001b[38;5;124m'\u001b[39m])\n\u001b[1;32m--> 192\u001b[0m     \u001b[38;5;28;01mfor\u001b[39;00m k,v \u001b[38;5;129;01min\u001b[39;00m \u001b[43m_images\u001b[49m\u001b[38;5;241;43m.\u001b[39;49m\u001b[43mitems\u001b[49m():\n\u001b[0;32m    193\u001b[0m            field[\u001b[38;5;124m'\u001b[39m\u001b[38;5;124mimg url\u001b[39m\u001b[38;5;124m'\u001b[39m] \u001b[38;5;241m+\u001b[39m\u001b[38;5;241m=\u001b[39m \u001b[38;5;124mf\u001b[39m\u001b[38;5;124m'''\u001b[39m\u001b[38;5;124m \u001b[39m\u001b[38;5;132;01m{\u001b[39;00mv\u001b[38;5;132;01m}\u001b[39;00m\u001b[38;5;124m, \u001b[39m\u001b[38;5;124m'''\u001b[39m\n\u001b[0;32m    194\u001b[0m            field[\u001b[38;5;124m'\u001b[39m\u001b[38;5;124mimg alt\u001b[39m\u001b[38;5;124m'\u001b[39m] \u001b[38;5;241m+\u001b[39m\u001b[38;5;241m=\u001b[39m \u001b[38;5;124mf\u001b[39m\u001b[38;5;124m'''\u001b[39m\u001b[38;5;124m \u001b[39m\u001b[38;5;132;01m{\u001b[39;00mk\u001b[38;5;132;01m}\u001b[39;00m\u001b[38;5;124m, \u001b[39m\u001b[38;5;124m'''\u001b[39m\n",
      "\u001b[1;31mAttributeError\u001b[0m: 'list' object has no attribute 'items'"
     ]
    }
   ],
   "source": [
    "ex.execute_list_of_scenaries(supplier)"
   ]
  },
  {
   "cell_type": "code",
   "execution_count": 3,
   "id": "d0a9c8c0",
   "metadata": {},
   "outputs": [],
   "source": [
    "\n",
    "from aliexpress_api import AliexpressApi, models\n",
    "\n",
    "\n",
    "aliexpress = AliexpressApi(\"33759699\", \"593acdd5414f1845b464d87353fbad44\", models.Language.EN, models.Currency.USD, \"50000201340tQdpjudpqBySjYiAphkyTigGwm1IRuCGYjSpdPuQ011d78531N2WmSpjK\")\n",
    "\n"
   ]
  },
  {
   "cell_type": "code",
   "execution_count": 4,
   "id": "af9e6758",
   "metadata": {},
   "outputs": [
    {
     "name": "stdout",
     "output_type": "stream",
     "text": [
      "<aliexpress_api.api.AliexpressApi object at 0x00000161EE855310>\n"
     ]
    }
   ],
   "source": [
    "print(aliexpress)"
   ]
  },
  {
   "cell_type": "code",
   "execution_count": null,
   "id": "58658a23",
   "metadata": {},
   "outputs": [],
   "source": [
    "a = aliexpress.get_products_details(['1000006468625', 'https://aliexpress.com/item/1005003091506814.html'])"
   ]
  },
  {
   "cell_type": "code",
   "execution_count": 5,
   "id": "1864cf86",
   "metadata": {},
   "outputs": [
    {
     "ename": "ApiRequestException",
     "evalue": "Insufficient isv permissions",
     "output_type": "error",
     "traceback": [
      "\u001b[1;31m---------------------------------------------------------------------------\u001b[0m",
      "\u001b[1;31mTopException\u001b[0m                              Traceback (most recent call last)",
      "File \u001b[1;32m~\\OneDrive\\REPOS\\DavidkaBenAvraham\\Katia\\Aluf\\aliexpress_api\\helpers\\requests.py:9\u001b[0m, in \u001b[0;36mapi_request\u001b[1;34m(request, response_name)\u001b[0m\n\u001b[0;32m      8\u001b[0m \u001b[38;5;28;01mtry\u001b[39;00m:\n\u001b[1;32m----> 9\u001b[0m     response \u001b[38;5;241m=\u001b[39m \u001b[43mrequest\u001b[49m\u001b[38;5;241;43m.\u001b[39;49m\u001b[43mgetResponse\u001b[49m\u001b[43m(\u001b[49m\u001b[43m)\u001b[49m\n\u001b[0;32m     10\u001b[0m \u001b[38;5;28;01mexcept\u001b[39;00m \u001b[38;5;167;01mException\u001b[39;00m \u001b[38;5;28;01mas\u001b[39;00m error:\n",
      "File \u001b[1;32m~\\OneDrive\\REPOS\\DavidkaBenAvraham\\Katia\\Aluf\\aliexpress_api\\skd\\api\\base.py:275\u001b[0m, in \u001b[0;36mRestApi.getResponse\u001b[1;34m(self, authrize, timeout)\u001b[0m\n\u001b[0;32m    274\u001b[0m     error\u001b[38;5;241m.\u001b[39mservice_host \u001b[38;5;241m=\u001b[39m response\u001b[38;5;241m.\u001b[39mgetheader(\u001b[38;5;124m\"\u001b[39m\u001b[38;5;124mLocation-Host\u001b[39m\u001b[38;5;124m\"\u001b[39m, \u001b[38;5;124m\"\u001b[39m\u001b[38;5;124m\"\u001b[39m)\n\u001b[1;32m--> 275\u001b[0m     \u001b[38;5;28;01mraise\u001b[39;00m error\n\u001b[0;32m    276\u001b[0m \u001b[38;5;28;01mreturn\u001b[39;00m jsonobj\n",
      "\u001b[1;31mTopException\u001b[0m: errorcode=11 message=Insufficient isv permissions subcode=isv.permission-api-package-limit submsg=scope ids is 381 11234 11236 12610 12781 12782 12785 12786 13781 14308 14606 14765 15526 15527 15529 15530 15531 15532 15533 application_host=33.79.137.235 service_host=top033079137235.center.na610",
      "\nThe above exception was the direct cause of the following exception:\n",
      "\u001b[1;31mApiRequestException\u001b[0m                       Traceback (most recent call last)",
      "Input \u001b[1;32mIn [5]\u001b[0m, in \u001b[0;36m<cell line: 1>\u001b[1;34m()\u001b[0m\n\u001b[1;32m----> 1\u001b[0m parent_categories \u001b[38;5;241m=\u001b[39m \u001b[43maliexpress\u001b[49m\u001b[38;5;241;43m.\u001b[39;49m\u001b[43mget_parent_categories\u001b[49m\u001b[43m(\u001b[49m\u001b[43m)\u001b[49m\n",
      "File \u001b[1;32m~\\OneDrive\\REPOS\\DavidkaBenAvraham\\Katia\\Aluf\\aliexpress_api\\api.py:237\u001b[0m, in \u001b[0;36mAliexpressApi.get_parent_categories\u001b[1;34m(self, use_cache, **kwargs)\u001b[0m\n\u001b[0;32m    223\u001b[0m \u001b[38;5;124;03m\"\"\"Get all available parent categories.\u001b[39;00m\n\u001b[0;32m    224\u001b[0m \n\u001b[0;32m    225\u001b[0m \u001b[38;5;124;03mArgs:\u001b[39;00m\n\u001b[1;32m   (...)\u001b[0m\n\u001b[0;32m    234\u001b[0m \u001b[38;5;124;03m    ``ApiRequestResponseException``\u001b[39;00m\n\u001b[0;32m    235\u001b[0m \u001b[38;5;124;03m\"\"\"\u001b[39;00m\n\u001b[0;32m    236\u001b[0m \u001b[38;5;28;01mif\u001b[39;00m \u001b[38;5;129;01mnot\u001b[39;00m use_cache \u001b[38;5;129;01mor\u001b[39;00m \u001b[38;5;129;01mnot\u001b[39;00m \u001b[38;5;28mself\u001b[39m\u001b[38;5;241m.\u001b[39mcategories:\n\u001b[1;32m--> 237\u001b[0m     \u001b[38;5;28;43mself\u001b[39;49m\u001b[38;5;241;43m.\u001b[39;49m\u001b[43mget_categories\u001b[49m\u001b[43m(\u001b[49m\u001b[43m)\u001b[49m\n\u001b[0;32m    238\u001b[0m \u001b[38;5;28;01mreturn\u001b[39;00m filter_parent_categories(\u001b[38;5;28mself\u001b[39m\u001b[38;5;241m.\u001b[39mcategories)\n",
      "File \u001b[1;32m~\\OneDrive\\REPOS\\DavidkaBenAvraham\\Katia\\Aluf\\aliexpress_api\\api.py:213\u001b[0m, in \u001b[0;36mAliexpressApi.get_categories\u001b[1;34m(self, **kwargs)\u001b[0m\n\u001b[0;32m    210\u001b[0m request \u001b[38;5;241m=\u001b[39m aliapi\u001b[38;5;241m.\u001b[39mrest\u001b[38;5;241m.\u001b[39mAliexpressAffiliateCategoryGetRequest()\n\u001b[0;32m    211\u001b[0m request\u001b[38;5;241m.\u001b[39mapp_signature \u001b[38;5;241m=\u001b[39m \u001b[38;5;28mself\u001b[39m\u001b[38;5;241m.\u001b[39m_app_signature\n\u001b[1;32m--> 213\u001b[0m response \u001b[38;5;241m=\u001b[39m \u001b[43mapi_request\u001b[49m\u001b[43m(\u001b[49m\u001b[43mrequest\u001b[49m\u001b[43m,\u001b[49m\u001b[43m \u001b[49m\u001b[38;5;124;43m'\u001b[39;49m\u001b[38;5;124;43maliexpress_affiliate_category_get_response\u001b[39;49m\u001b[38;5;124;43m'\u001b[39;49m\u001b[43m)\u001b[49m\n\u001b[0;32m    215\u001b[0m \u001b[38;5;28;01mif\u001b[39;00m response\u001b[38;5;241m.\u001b[39mtotal_result_count \u001b[38;5;241m>\u001b[39m \u001b[38;5;241m0\u001b[39m:\n\u001b[0;32m    216\u001b[0m     \u001b[38;5;28mself\u001b[39m\u001b[38;5;241m.\u001b[39mcategories \u001b[38;5;241m=\u001b[39m response\u001b[38;5;241m.\u001b[39mcategories\u001b[38;5;241m.\u001b[39mcategory\n",
      "File \u001b[1;32m~\\OneDrive\\REPOS\\DavidkaBenAvraham\\Katia\\Aluf\\aliexpress_api\\helpers\\requests.py:12\u001b[0m, in \u001b[0;36mapi_request\u001b[1;34m(request, response_name)\u001b[0m\n\u001b[0;32m     10\u001b[0m \u001b[38;5;28;01mexcept\u001b[39;00m \u001b[38;5;167;01mException\u001b[39;00m \u001b[38;5;28;01mas\u001b[39;00m error:\n\u001b[0;32m     11\u001b[0m     \u001b[38;5;28;01mif\u001b[39;00m \u001b[38;5;28mhasattr\u001b[39m(error, \u001b[38;5;124m'\u001b[39m\u001b[38;5;124mmessage\u001b[39m\u001b[38;5;124m'\u001b[39m):\n\u001b[1;32m---> 12\u001b[0m         \u001b[38;5;28;01mraise\u001b[39;00m ApiRequestException(error\u001b[38;5;241m.\u001b[39mmessage) \u001b[38;5;28;01mfrom\u001b[39;00m \u001b[38;5;21;01merror\u001b[39;00m\n\u001b[0;32m     13\u001b[0m     \u001b[38;5;28;01mraise\u001b[39;00m ApiRequestException(error) \u001b[38;5;28;01mfrom\u001b[39;00m \u001b[38;5;21;01merror\u001b[39;00m\n\u001b[0;32m     15\u001b[0m \u001b[38;5;28;01mtry\u001b[39;00m:\n",
      "\u001b[1;31mApiRequestException\u001b[0m: Insufficient isv permissions"
     ]
    }
   ],
   "source": [
    "parent_categories = aliexpress.get_parent_categories()"
   ]
  },
  {
   "cell_type": "code",
   "execution_count": null,
   "id": "c78fe020",
   "metadata": {},
   "outputs": [],
   "source": []
  }
 ],
 "metadata": {
  "kernelspec": {
   "display_name": "Python 3 (ipykernel)",
   "language": "python",
   "name": "python3"
  },
  "language_info": {
   "codemirror_mode": {
    "name": "ipython",
    "version": 3
   },
   "file_extension": ".py",
   "mimetype": "text/x-python",
   "name": "python",
   "nbconvert_exporter": "python",
   "pygments_lexer": "ipython3",
   "version": "3.9.12"
  }
 },
 "nbformat": 4,
 "nbformat_minor": 5
}
