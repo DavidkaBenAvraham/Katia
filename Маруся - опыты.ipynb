{
 "cells": [
  {
   "cell_type": "code",
   "execution_count": 1,
   "id": "11db5ee9",
   "metadata": {},
   "outputs": [],
   "source": [
    "import ipywidgets as widgets\n",
    "from IPython.display import display\n",
    "from suppliers import Supplier\n",
    "from ini_files_dir import Ini\n",
    "ini = Ini()\n",
    "#s = Supplier()\n"
   ]
  },
  {
   "cell_type": "code",
   "execution_count": 2,
   "id": "a57047f7",
   "metadata": {},
   "outputs": [],
   "source": [
    "\n",
    "supplier  = Supplier(supplier_prefics = 'ksp', lang = 'en' , ini = ini)"
   ]
  },
  {
   "cell_type": "code",
   "execution_count": 3,
   "id": "90051251",
   "metadata": {},
   "outputs": [
    {
     "name": "stdout",
     "output_type": "stream",
     "text": [
      "https://ksp.co.il/m_action/api/config?url=https%3A%2F%2Fksp.co.il%2Fweb%2F 200 application/json\n",
      "https://ksp.co.il/m_action/api/footer-items 200 application/json\n",
      "https://ksp.co.il/m_action/api/mail 200 application/json\n",
      "https://ksp.co.il/m_action/api/promotion/get/top-footer 200 application/json\n",
      "https://ksp.co.il/m_action/api/seoItem?url=https%3A%2F%2Fksp.co.il%2Fweb%2F 200 application/json\n",
      "https://ksp.co.il/m_action/api/amex/login 200 application/json\n",
      "https://ksp.co.il/m_action/api/promotion/get/home 200 application/json\n",
      "https://ksp.co.il/m_action/api/home 200 application/json\n",
      "https://ksp.co.il/m_action/api/news 200 application/json\n",
      "https://ksp.co.il/m_action/api/promotion/get/general-between-products 200 application/json\n",
      "https://ksp.co.il/m_action/api/bms/213645,212410,213631,213450,212562,213598,213354,212552,212702,212235 200 application/json\n"
     ]
    },
    {
     "data": {
      "text/plain": [
       "True"
      ]
     },
     "execution_count": 3,
     "metadata": {},
     "output_type": "execute_result"
    }
   ],
   "source": [
    "supplier.driver.get_url(f'''https://www.ksp.co.il''')"
   ]
  },
  {
   "cell_type": "code",
   "execution_count": null,
   "id": "7492ad6b",
   "metadata": {},
   "outputs": [],
   "source": [
    "import suppliers.execute_scenaries as ex"
   ]
  },
  {
   "cell_type": "code",
   "execution_count": null,
   "id": "657a0be7",
   "metadata": {},
   "outputs": [],
   "source": [
    "ex.execute_list_of_scenaries(supplier)"
   ]
  },
  {
   "cell_type": "code",
   "execution_count": null,
   "id": "d0a9c8c0",
   "metadata": {},
   "outputs": [],
   "source": [
    "\n",
    "from aliexpress_api import AliexpressApi, models\n",
    "\n",
    "\n",
    "aliexpress = AliexpressApi(\"33759699\", \"593acdd5414f1845b464d87353fbad44\", models.Language.EN, models.Currency.USD, \"50000201340tQdpjudpqBySjYiAphkyTigGwm1IRuCGYjSpdPuQ011d78531N2WmSpjK\")\n",
    "\n"
   ]
  },
  {
   "cell_type": "code",
   "execution_count": null,
   "id": "af9e6758",
   "metadata": {},
   "outputs": [],
   "source": [
    "print(aliexpress)"
   ]
  },
  {
   "cell_type": "code",
   "execution_count": null,
   "id": "58658a23",
   "metadata": {},
   "outputs": [],
   "source": [
    "a = aliexpress.get_products_details(['1000006468625', 'https://aliexpress.com/item/1005003091506814.html'])"
   ]
  },
  {
   "cell_type": "code",
   "execution_count": null,
   "id": "1864cf86",
   "metadata": {},
   "outputs": [],
   "source": [
    "parent_categories = aliexpress.get_parent_categories()"
   ]
  },
  {
   "cell_type": "code",
   "execution_count": null,
   "id": "c78fe020",
   "metadata": {},
   "outputs": [],
   "source": []
  }
 ],
 "metadata": {
  "kernelspec": {
   "display_name": "Python 3 (ipykernel)",
   "language": "python",
   "name": "python3"
  },
  "language_info": {
   "codemirror_mode": {
    "name": "ipython",
    "version": 3
   },
   "file_extension": ".py",
   "mimetype": "text/x-python",
   "name": "python",
   "nbconvert_exporter": "python",
   "pygments_lexer": "ipython3",
   "version": "3.9.12"
  }
 },
 "nbformat": 4,
 "nbformat_minor": 5
}
