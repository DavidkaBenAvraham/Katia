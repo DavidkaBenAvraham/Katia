{
 "cells": [
  {
   "cell_type": "code",
   "execution_count": 3,
   "id": "9eaf9ce1",
   "metadata": {},
   "outputs": [],
   "source": [
    "import ipywidgets as widgets\n",
    "from IPython.display import display\n",
    "from suppliers import Supplier\n",
    "from ini_files_dir import Ini\n",
    "ini = Ini()\n",
    "#s = Supplier()\n"
   ]
  },
  {
   "cell_type": "code",
   "execution_count": 4,
   "id": "bed0e500",
   "metadata": {},
   "outputs": [
    {
     "name": "stdout",
     "output_type": "stream",
     "text": [
      "Ini(start_time='11-06_13.21.03', webdriver_settings={'name': 'chromedriver', 'arguments': ['--no-sandbox', '--disable-dev-shm-usage'], 'wait': 5, 'maximize_window': True, 'view_html_source_mode': False}, print_type='jupiter', suppliers=['aliexpress'], languages=['he'], if_threads=False, mode='debug', _range=5, aliexpress=None)\n"
     ]
    }
   ],
   "source": [
    "print(ini)"
   ]
  },
  {
   "cell_type": "code",
   "execution_count": 5,
   "id": "f2ab2825",
   "metadata": {},
   "outputs": [
    {
     "name": "stdout",
     "output_type": "stream",
     "text": [
      "list index out of range\n"
     ]
    }
   ],
   "source": [
    "\n",
    "supplier  = Supplier(supplier_prefics = 'aliexpress', lang = 'en' , ini = ini)"
   ]
  },
  {
   "cell_type": "code",
   "execution_count": 10,
   "id": "c8c02bb3",
   "metadata": {},
   "outputs": [
    {
     "name": "stdout",
     "output_type": "stream",
     "text": [
      "<class 'suppliers.Supplier'>\n"
     ]
    }
   ],
   "source": [
    "print(supplier)\n",
    "#for k,v in supplier: print(k,v)"
   ]
  },
  {
   "cell_type": "code",
   "execution_count": null,
   "id": "dba02f06",
   "metadata": {},
   "outputs": [],
   "source": []
  }
 ],
 "metadata": {
  "kernelspec": {
   "display_name": "Python 3 (ipykernel)",
   "language": "python",
   "name": "python3"
  },
  "language_info": {
   "codemirror_mode": {
    "name": "ipython",
    "version": 3
   },
   "file_extension": ".py",
   "mimetype": "text/x-python",
   "name": "python",
   "nbconvert_exporter": "python",
   "pygments_lexer": "ipython3",
   "version": "3.9.12"
  }
 },
 "nbformat": 4,
 "nbformat_minor": 5
}
