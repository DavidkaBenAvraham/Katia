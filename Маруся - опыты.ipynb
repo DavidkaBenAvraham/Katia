{
 "cells": [
  {
   "cell_type": "code",
   "execution_count": 1,
   "id": "11db5ee9",
   "metadata": {},
   "outputs": [],
   "source": [
    "import ipywidgets as widgets\n",
    "from IPython.display import display\n",
    "from suppliers import Supplier\n",
    "from ini_files_dir import Ini\n",
    "ini = Ini()\n",
    "#s = Supplier()\n"
   ]
  },
  {
   "cell_type": "code",
   "execution_count": 3,
   "id": "a57047f7",
   "metadata": {},
   "outputs": [
    {
     "name": "stdout",
     "output_type": "stream",
     "text": [
      " Возникла ошибка  'NoneType' object has no attribute 'click' \n",
      " Возникла ошибка  'NoneType' object has no attribute 'click' \n",
      " Возникла ошибка  'NoneType' object has no attribute 'click' \n",
      " Возникла ошибка  Message: Element <span class=\"select-item\"> could not be scrolled into view\n",
      "Stacktrace:\n",
      "WebDriverError@chrome://remote/content/shared/webdriver/Errors.jsm:183:5\n",
      "ElementNotInteractableError@chrome://remote/content/shared/webdriver/Errors.jsm:293:5\n",
      "webdriverClickElement@chrome://remote/content/marionette/interaction.js:156:11\n",
      "interaction.clickElement@chrome://remote/content/marionette/interaction.js:125:11\n",
      "clickElement@chrome://remote/content/marionette/actors/MarionetteCommandsChild.jsm:203:24\n",
      "receiveMessage@chrome://remote/content/marionette/actors/MarionetteCommandsChild.jsm:91:31\n",
      " \n",
      " Возникла ошибка  Message: Element <input class=\"search-currency\" type=\"text\"> could not be scrolled into view\n",
      "Stacktrace:\n",
      "WebDriverError@chrome://remote/content/shared/webdriver/Errors.jsm:183:5\n",
      "ElementNotInteractableError@chrome://remote/content/shared/webdriver/Errors.jsm:293:5\n",
      "webdriverClickElement@chrome://remote/content/marionette/interaction.js:156:11\n",
      "interaction.clickElement@chrome://remote/content/marionette/interaction.js:125:11\n",
      "clickElement@chrome://remote/content/marionette/actors/MarionetteCommandsChild.jsm:203:24\n",
      "receiveMessage@chrome://remote/content/marionette/actors/MarionetteCommandsChild.jsm:91:31\n",
      " \n",
      " Возникла ошибка  Message: Element <a class=\"switcher-item\" href=\"javascript:;\"> could not be scrolled into view\n",
      "Stacktrace:\n",
      "WebDriverError@chrome://remote/content/shared/webdriver/Errors.jsm:183:5\n",
      "ElementNotInteractableError@chrome://remote/content/shared/webdriver/Errors.jsm:293:5\n",
      "webdriverClickElement@chrome://remote/content/marionette/interaction.js:156:11\n",
      "interaction.clickElement@chrome://remote/content/marionette/interaction.js:125:11\n",
      "clickElement@chrome://remote/content/marionette/actors/MarionetteCommandsChild.jsm:203:24\n",
      "receiveMessage@chrome://remote/content/marionette/actors/MarionetteCommandsChild.jsm:91:31\n",
      " \n",
      " Возникла ошибка  Message: Element <div class=\"switcher-currency-c language-selector\"> could not be scrolled into view\n",
      "Stacktrace:\n",
      "WebDriverError@chrome://remote/content/shared/webdriver/Errors.jsm:183:5\n",
      "ElementNotInteractableError@chrome://remote/content/shared/webdriver/Errors.jsm:293:5\n",
      "webdriverClickElement@chrome://remote/content/marionette/interaction.js:156:11\n",
      "interaction.clickElement@chrome://remote/content/marionette/interaction.js:125:11\n",
      "clickElement@chrome://remote/content/marionette/actors/MarionetteCommandsChild.jsm:203:24\n",
      "receiveMessage@chrome://remote/content/marionette/actors/MarionetteCommandsChild.jsm:91:31\n",
      " \n",
      " Возникла ошибка  Message: Element <span class=\"select-item\"> could not be scrolled into view\n",
      "Stacktrace:\n",
      "WebDriverError@chrome://remote/content/shared/webdriver/Errors.jsm:183:5\n",
      "ElementNotInteractableError@chrome://remote/content/shared/webdriver/Errors.jsm:293:5\n",
      "webdriverClickElement@chrome://remote/content/marionette/interaction.js:156:11\n",
      "interaction.clickElement@chrome://remote/content/marionette/interaction.js:125:11\n",
      "clickElement@chrome://remote/content/marionette/actors/MarionetteCommandsChild.jsm:203:24\n",
      "receiveMessage@chrome://remote/content/marionette/actors/MarionetteCommandsChild.jsm:91:31\n",
      " \n",
      " Возникла ошибка  'NoneType' object has no attribute 'click' \n",
      " Возникла ошибка  Message: Element <div class=\"switcher-btn item util-clearfix\"> could not be scrolled into view\n",
      "Stacktrace:\n",
      "WebDriverError@chrome://remote/content/shared/webdriver/Errors.jsm:183:5\n",
      "ElementNotInteractableError@chrome://remote/content/shared/webdriver/Errors.jsm:293:5\n",
      "webdriverClickElement@chrome://remote/content/marionette/interaction.js:156:11\n",
      "interaction.clickElement@chrome://remote/content/marionette/interaction.js:125:11\n",
      "clickElement@chrome://remote/content/marionette/actors/MarionetteCommandsChild.jsm:203:24\n",
      "receiveMessage@chrome://remote/content/marionette/actors/MarionetteCommandsChild.jsm:91:31\n",
      " \n",
      " Возникла ошибка  Message: Element <button class=\"ui-button ui-button-primary go-contiune-btn\" type=\"button\"> could not be scrolled into view\n",
      "Stacktrace:\n",
      "WebDriverError@chrome://remote/content/shared/webdriver/Errors.jsm:183:5\n",
      "ElementNotInteractableError@chrome://remote/content/shared/webdriver/Errors.jsm:293:5\n",
      "webdriverClickElement@chrome://remote/content/marionette/interaction.js:156:11\n",
      "interaction.clickElement@chrome://remote/content/marionette/interaction.js:125:11\n",
      "clickElement@chrome://remote/content/marionette/actors/MarionetteCommandsChild.jsm:203:24\n",
      "receiveMessage@chrome://remote/content/marionette/actors/MarionetteCommandsChild.jsm:91:31\n",
      " \n"
     ]
    }
   ],
   "source": [
    "\n",
    "supplier  = Supplier(supplier_prefics = 'aliexpress'  , ini = ini)"
   ]
  },
  {
   "cell_type": "code",
   "execution_count": 4,
   "id": "90051251",
   "metadata": {},
   "outputs": [
    {
     "data": {
      "text/plain": [
       "True"
      ]
     },
     "execution_count": 4,
     "metadata": {},
     "output_type": "execute_result"
    }
   ],
   "source": [
    "supplier.driver.get_url(f'''https://www.aliexpress.com''')"
   ]
  },
  {
   "cell_type": "code",
   "execution_count": null,
   "id": "7492ad6b",
   "metadata": {},
   "outputs": [],
   "source": [
    "import suppliers.execute_scenaries as ex"
   ]
  },
  {
   "cell_type": "code",
   "execution_count": null,
   "id": "657a0be7",
   "metadata": {},
   "outputs": [],
   "source": [
    "ex.execute_list_of_scenaries(supplier)"
   ]
  },
  {
   "cell_type": "code",
   "execution_count": null,
   "id": "d0a9c8c0",
   "metadata": {},
   "outputs": [],
   "source": [
    "\n",
    "from aliexpress_api import AliexpressApi, models\n",
    "\n",
    "\n",
    "aliexpress = AliexpressApi(\"33759699\", \"593acdd5414f1845b464d87353fbad44\", models.Language.EN, models.Currency.USD, \"50000201340tQdpjudpqBySjYiAphkyTigGwm1IRuCGYjSpdPuQ011d78531N2WmSpjK\")\n",
    "\n"
   ]
  },
  {
   "cell_type": "code",
   "execution_count": null,
   "id": "af9e6758",
   "metadata": {},
   "outputs": [],
   "source": [
    "print(aliexpress)"
   ]
  },
  {
   "cell_type": "code",
   "execution_count": null,
   "id": "58658a23",
   "metadata": {},
   "outputs": [],
   "source": [
    "a = aliexpress.get_products_details(['1000006468625', 'https://aliexpress.com/item/1005003091506814.html'])"
   ]
  },
  {
   "cell_type": "code",
   "execution_count": null,
   "id": "1864cf86",
   "metadata": {},
   "outputs": [],
   "source": [
    "parent_categories = aliexpress.get_parent_categories()"
   ]
  },
  {
   "cell_type": "code",
   "execution_count": null,
   "id": "c78fe020",
   "metadata": {},
   "outputs": [],
   "source": []
  }
 ],
 "metadata": {
  "kernelspec": {
   "display_name": "Python 3 (ipykernel)",
   "language": "python",
   "name": "python3"
  },
  "language_info": {
   "codemirror_mode": {
    "name": "ipython",
    "version": 3
   },
   "file_extension": ".py",
   "mimetype": "text/x-python",
   "name": "python",
   "nbconvert_exporter": "python",
   "pygments_lexer": "ipython3",
   "version": "3.9.12"
  }
 },
 "nbformat": 4,
 "nbformat_minor": 5
}
