{
 "cells": [
  {
   "cell_type": "code",
   "execution_count": null,
   "id": "11db5ee9",
   "metadata": {},
   "outputs": [],
   "source": [
    "import ipywidgets as widgets\n",
    "from IPython.display import display\n",
    "from suppliers import Supplier\n",
    "from ini_files_dir import Ini\n",
    "ini = Ini()\n",
    "\n",
    "s  = Supplier(supplier_prefics = 'aliexpress'  , ini = ini)"
   ]
  },
  {
   "cell_type": "code",
   "execution_count": null,
   "id": "a57047f7",
   "metadata": {},
   "outputs": [],
   "source": [
    "\n"
   ]
  },
  {
   "cell_type": "code",
   "execution_count": null,
   "id": "90051251",
   "metadata": {},
   "outputs": [],
   "source": [
    "\n",
    "d = s.driver\n",
    "l = s.locators['currency_laguage_shipto_locators']"
   ]
  },
  {
   "cell_type": "code",
   "execution_count": null,
   "id": "a3ce0be2",
   "metadata": {},
   "outputs": [],
   "source": [
    "d.click(l['block_opener_locator'])\n",
    "d.wait(1)"
   ]
  },
  {
   "cell_type": "code",
   "execution_count": null,
   "id": "1c38b9b7",
   "metadata": {},
   "outputs": [],
   "source": [
    "d.click(l['shipto_locator'])\n",
    "d.wait(1)"
   ]
  },
  {
   "cell_type": "code",
   "execution_count": null,
   "id": "a4314527",
   "metadata": {},
   "outputs": [],
   "source": [
    "d.click(l['language_locator'])\n",
    "d.wait(1)"
   ]
  },
  {
   "cell_type": "code",
   "execution_count": null,
   "id": "f28d2219",
   "metadata": {},
   "outputs": [],
   "source": [
    "d.click(l['currency_locator'])\n",
    "d.wait(1)"
   ]
  },
  {
   "cell_type": "code",
   "execution_count": null,
   "id": "5b0e9e3f",
   "metadata": {},
   "outputs": [],
   "source": [
    "d.click(l['save_button_locator'])\n",
    "d.wait(1)"
   ]
  },
  {
   "cell_type": "code",
   "execution_count": null,
   "id": "a26788cd",
   "metadata": {},
   "outputs": [],
   "source": []
  },
  {
   "cell_type": "code",
   "execution_count": null,
   "id": "7492ad6b",
   "metadata": {},
   "outputs": [],
   "source": [
    "import suppliers.execute_scenaries as ex"
   ]
  },
  {
   "cell_type": "code",
   "execution_count": null,
   "id": "657a0be7",
   "metadata": {},
   "outputs": [],
   "source": [
    "ex.execute_list_of_scenaries(s)"
   ]
  },
  {
   "cell_type": "code",
   "execution_count": null,
   "id": "c7c9d608",
   "metadata": {},
   "outputs": [],
   "source": []
  },
  {
   "cell_type": "code",
   "execution_count": null,
   "id": "5852dda6",
   "metadata": {},
   "outputs": [],
   "source": []
  },
  {
   "cell_type": "code",
   "execution_count": null,
   "id": "02b5bc87",
   "metadata": {},
   "outputs": [],
   "source": []
  },
  {
   "cell_type": "code",
   "execution_count": null,
   "id": "0caec456",
   "metadata": {},
   "outputs": [],
   "source": []
  },
  {
   "cell_type": "code",
   "execution_count": null,
   "id": "f18f2ca0",
   "metadata": {},
   "outputs": [],
   "source": []
  },
  {
   "cell_type": "code",
   "execution_count": null,
   "id": "7c710744",
   "metadata": {},
   "outputs": [],
   "source": []
  },
  {
   "cell_type": "code",
   "execution_count": null,
   "id": "08a3d401",
   "metadata": {},
   "outputs": [],
   "source": []
  },
  {
   "cell_type": "code",
   "execution_count": null,
   "id": "b5492956",
   "metadata": {},
   "outputs": [],
   "source": []
  },
  {
   "cell_type": "code",
   "execution_count": null,
   "id": "d0a9c8c0",
   "metadata": {},
   "outputs": [],
   "source": [
    "\n",
    "from aliexpress_api import AliexpressApi, models\n",
    "\n",
    "\n",
    "aliexpress = AliexpressApi(\"33759699\", \"593acdd5414f1845b464d87353fbad44\", models.Language.EN, models.Currency.USD, \"50000201340tQdpjudpqBySjYiAphkyTigGwm1IRuCGYjSpdPuQ011d78531N2WmSpjK\")\n",
    "\n"
   ]
  },
  {
   "cell_type": "code",
   "execution_count": null,
   "id": "af9e6758",
   "metadata": {},
   "outputs": [],
   "source": [
    "print(aliexpress)"
   ]
  },
  {
   "cell_type": "code",
   "execution_count": null,
   "id": "58658a23",
   "metadata": {},
   "outputs": [],
   "source": [
    "a = aliexpress.get_products_details(['1000006468625', 'https://aliexpress.com/item/1005003091506814.html'])"
   ]
  },
  {
   "cell_type": "code",
   "execution_count": null,
   "id": "1864cf86",
   "metadata": {},
   "outputs": [],
   "source": [
    "parent_categories = aliexpress.get_parent_categories()"
   ]
  },
  {
   "cell_type": "code",
   "execution_count": null,
   "id": "c78fe020",
   "metadata": {},
   "outputs": [],
   "source": []
  }
 ],
 "metadata": {
  "kernelspec": {
   "display_name": "Python 3 (ipykernel)",
   "language": "python",
   "name": "python3"
  },
  "language_info": {
   "codemirror_mode": {
    "name": "ipython",
    "version": 3
   },
   "file_extension": ".py",
   "mimetype": "text/x-python",
   "name": "python",
   "nbconvert_exporter": "python",
   "pygments_lexer": "ipython3",
   "version": "3.9.12"
  }
 },
 "nbformat": 4,
 "nbformat_minor": 5
}
