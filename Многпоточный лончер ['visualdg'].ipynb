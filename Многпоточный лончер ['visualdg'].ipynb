{
 "cells": [
  {
   "cell_type": "code",
   "execution_count": 1,
   "metadata": {},
   "outputs": [
    {
     "name": "stdout",
     "output_type": "stream",
     "text": [
      "2021-04-26 11:25:57.521799 (delta = 0:00:00.026007) \t : \t __init__->__init__->write: \n",
      "        LOG STR:   supplier_settings = <module 'suppliers.visualdg' from 'C:\\\\Users\\\\onela\\\\OneDrive\\\\REPOS\\\\Aluf\\\\Aluf\\\\suppliers\\\\visualdg\\\\__init__.py'>  \n",
      "2021-04-26 11:25:57.522799 (delta = 0:00:00.001000) \t : \t __init__->__init__->write: \n",
      "        LOG STR:  запустился класс visualdg \n",
      "2021-04-26 11:25:57.535801 (delta = 0:00:00.013002) \t : \t run->run->write: \n",
      "        LOG STR:   "
     ]
    }
   ],
   "source": [
    "import main\n",
    "main.run(['visualdg'])"
   ]
  },
  {
   "cell_type": "code",
   "execution_count": null,
   "metadata": {},
   "outputs": [],
   "source": []
  },
  {
   "cell_type": "code",
   "execution_count": null,
   "metadata": {},
   "outputs": [],
   "source": []
  },
  {
   "cell_type": "code",
   "execution_count": null,
   "metadata": {},
   "outputs": [],
   "source": []
  },
  {
   "cell_type": "code",
   "execution_count": null,
   "metadata": {},
   "outputs": [],
   "source": []
  }
 ],
 "metadata": {
  "kernelspec": {
   "display_name": "Python 3",
   "language": "python",
   "name": "python3"
  },
  "language_info": {
   "codemirror_mode": {
    "name": "ipython",
    "version": 3
   },
   "file_extension": ".py",
   "mimetype": "text/x-python",
   "name": "python",
   "nbconvert_exporter": "python",
   "pygments_lexer": "ipython3",
   "version": "3.7.6"
  }
 },
 "nbformat": 4,
 "nbformat_minor": 4
}
