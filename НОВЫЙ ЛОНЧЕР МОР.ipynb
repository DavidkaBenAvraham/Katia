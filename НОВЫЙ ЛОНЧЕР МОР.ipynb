{
 "cells": [
  {
   "cell_type": "code",
   "execution_count": 1,
   "metadata": {},
   "outputs": [
    {
     "ename": "AttributeError",
     "evalue": "module 'main' has no attribute 'run_supplier'",
     "output_type": "error",
     "traceback": [
      "\u001b[1;31m---------------------------------------------------------------------------\u001b[0m",
      "\u001b[1;31mAttributeError\u001b[0m                            Traceback (most recent call last)",
      "\u001b[1;32m<ipython-input-1-d59f80757dcd>\u001b[0m in \u001b[0;36m<module>\u001b[1;34m\u001b[0m\n\u001b[0;32m     62\u001b[0m \u001b[1;33m\u001b[0m\u001b[0m\n\u001b[0;32m     63\u001b[0m \u001b[1;32mfor\u001b[0m \u001b[0mscenario\u001b[0m \u001b[1;32min\u001b[0m \u001b[0mscenaries\u001b[0m\u001b[1;33m:\u001b[0m\u001b[1;33m\u001b[0m\u001b[1;33m\u001b[0m\u001b[0m\n\u001b[1;32m---> 64\u001b[1;33m     \u001b[0msupplier\u001b[0m \u001b[1;33m=\u001b[0m \u001b[0mmain\u001b[0m\u001b[1;33m.\u001b[0m\u001b[0mrun_supplier\u001b[0m\u001b[1;33m(\u001b[0m\u001b[1;34m'mor'\u001b[0m\u001b[1;33m)\u001b[0m\u001b[1;33m\u001b[0m\u001b[1;33m\u001b[0m\u001b[0m\n\u001b[0m\u001b[0;32m     65\u001b[0m     \u001b[0mmain\u001b[0m\u001b[1;33m.\u001b[0m\u001b[0mrun_scenario\u001b[0m\u001b[1;33m(\u001b[0m\u001b[0msupplier\u001b[0m \u001b[1;33m,\u001b[0m \u001b[0mscenario\u001b[0m\u001b[1;33m)\u001b[0m\u001b[1;33m\u001b[0m\u001b[1;33m\u001b[0m\u001b[0m\n",
      "\u001b[1;31mAttributeError\u001b[0m: module 'main' has no attribute 'run_supplier'"
     ]
    }
   ],
   "source": [
    "import main\n",
    "\n",
    "suppliers_names = ['cdata','mor','grand','vdg']\n",
    "one_supplier = ['mor']\n",
    "\n",
    "\n",
    "cpu = [\"morlevi_categories_cpu.json\"]\n",
    "\n",
    "kb = [\"morlevi_categories_keyboards_hp.json\",\"morlevi_categories_keyboards_genius.json\"]\n",
    "\n",
    "laptops = [\"morlevi_categories_laptops_asus.json\",\n",
    "    \"morlevi_categories_laptops_dell.json\",\n",
    "    \"morlevi_categories_laptops_hp.json\",\n",
    "    \"morlevi_categories_laptops_lenovo.json\"]\n",
    "\n",
    "mb = [ \"morlevi_categories_mb_gigabyte.json\"]\n",
    "\n",
    "memory =  [\"morlevi_categories_memory_dimm_ddr3.json\", \"morlevi_categories_memory_dimm_ddr4.json\"]\n",
    "minipc = [ \"morlevi_categories_minipc_gigabyte.json\", \"morlevi_categories_minipc_intel.json\"]\n",
    "monitors = [\n",
    "    \"morlevi_categories_monitors_aoc.json\",\n",
    "    \"morlevi_categories_monitors_gigabyte.json\",\n",
    "    \"morlevi_categories_monitors_coolermaster.json\",\n",
    "    \"morlevi_categories_monitors_dell.json\",\n",
    "    \"morlevi_categories_monitors_lenovo.json\",\n",
    "    \"morlevi_categories_monitors_mag.json\",\n",
    "    \"morlevi_categories_monitors_philips.json\",\n",
    "    \"morlevi_categories_monitors_lenovo.json\"]\n",
    "\n",
    "storage = [ \"morlevi_categories_storage_crucial.json\",\n",
    "    \"morlevi_categories_storage_gigabyte.json\",\n",
    "    \"morlevi_categories_storage_intel.json\",\n",
    "    \"morlevi_categories_storage_kingston.json\",\n",
    "    \"morlevi_categories_storage_samsung.json\",\n",
    "    \"morlevi_categories_storage_sandisk.json\",\n",
    "    \"morlevi_categories_storage_toshiba.json\",\n",
    "    \"morlevi_categories_storage_wd.json\"]\n",
    "\n",
    "\n",
    "\n",
    "network = [\"morlevi_categories_network.json\"]\n",
    "printers =[\"morlevi_categories_printers.json\"]\n",
    "\n",
    "\n",
    "\n",
    "sound =[\"morlevi_categories_sound.json\"]\n",
    "\n",
    "psu = [\"morlevi_categories_psu_antec.json\",\n",
    "       \"morlevi_categories_psu_cooler_maser.json\",\n",
    "       \"morlevi_categories_psu_corsair.json\",\"morlevi_categories_psu_gigabyte.json\"]\n",
    "\n",
    "ups = [\"morlevi_categories_ups.json\"]\n",
    "cases = [\"morlevi_categories_cases_antec.json\",\"morlevi_categories_cases_coolermaster.json\",\n",
    "         \"morlevi_categories_cases_corsair.json\",\"morlevi_categories_cases_generic.json\",\n",
    "         \"morlevi_categories_cases_gigabyte.json\",\"morlevi_categories_cases_zalman.json\"]\n",
    "video = [\"morlevi_categories_video.json\"]\n",
    "\n",
    "\n",
    "\n",
    "#Проблема с сценарием принтеры\n",
    "scenaries = [cpu,kb,laptops,mb,memory,minipc,monitors,storage,cases, network,psu,sound,ups,video]\n",
    "\n",
    "for scenario in scenaries: \n",
    "    supplier = main.run_supplier('mor')\n",
    "    main.run_scenario(supplier , scenario)"
   ]
  },
  {
   "cell_type": "code",
   "execution_count": null,
   "metadata": {},
   "outputs": [],
   "source": []
  },
  {
   "cell_type": "code",
   "execution_count": null,
   "metadata": {},
   "outputs": [],
   "source": []
  }
 ],
 "metadata": {
  "kernelspec": {
   "display_name": "Python 3",
   "language": "python",
   "name": "python3"
  },
  "language_info": {
   "codemirror_mode": {
    "name": "ipython",
    "version": 3
   },
   "file_extension": ".py",
   "mimetype": "text/x-python",
   "name": "python",
   "nbconvert_exporter": "python",
   "pygments_lexer": "ipython3",
   "version": "3.7.6"
  }
 },
 "nbformat": 4,
 "nbformat_minor": 4
}
