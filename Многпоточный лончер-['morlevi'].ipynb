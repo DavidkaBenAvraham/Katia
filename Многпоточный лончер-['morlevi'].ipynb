{
 "cells": [
  {
   "cell_type": "code",
   "execution_count": 1,
   "metadata": {},
   "outputs": [
    {
     "name": "stdout",
     "output_type": "stream",
     "text": [
      "morlevi\n"
     ]
    },
    {
     "data": {
      "text/html": [
       "15-00-23 <styles><a { text-decoration: none; }.info { text-decoration: none;          color:blue;         font-size:xx-small;}</styles> "
      ],
      "text/plain": [
       "<IPython.core.display.HTML object>"
      ]
     },
     "metadata": {},
     "output_type": "display_data"
    },
    {
     "data": {
      "text/html": [
       "15-00-23 <p>functions</p><script>function view(n) {  style = document.getElementById(n).style;  style.display = (style.display == 'block') ? 'none' : 'block';}</script> "
      ],
      "text/plain": [
       "<IPython.core.display.HTML object>"
      ]
     },
     "metadata": {},
     "output_type": "display_data"
    },
    {
     "data": {
      "text/html": [
       "15-00-23 \n",
       "        <p>\n",
       "            <a href=\"#hidden_673103\" onclick=\"view('hidden_673103'); return false\"\n",
       "            style=\"color:green;text-decoration: none;\"><span ><b>+</b>->run_code-><module>->run->__init__->__init__-><module>-></span> </a>\n",
       "        </p>  \n",
       "        <div id=\"hidden_673103\" style=\"display: none;\">\n",
       "            <p><table style=\"color:black;font-size:x-small\">\n",
       "            <tr><td colspan=2 style=\"text-align:left\">\n",
       "            <b>args:</b></td></tr><tr><td style=\"text-align:left\">1.</td><td style=\"text-align:left\">firefox</td></tr>             <tr><td colspan=2 style=\"text-align:left\">\n",
       "            <b>kwargs:</b></td></tr></table></div></p>\n",
       "        </div>\n",
       "         "
      ],
      "text/plain": [
       "<IPython.core.display.HTML object>"
      ]
     },
     "metadata": {},
     "output_type": "display_data"
    },
    {
     "data": {
      "text/html": [
       "15-00-28 \n",
       "        <p>\n",
       "            <a href=\"#hidden_322313\" onclick=\"view('hidden_322313'); return false\"\n",
       "            style=\"color:green;text-decoration: none;\"><span ><b>+</b>->run_ast_nodes->run_code-><module>->run->__init__-><module>-></span> </a>\n",
       "        </p>  \n",
       "        <div id=\"hidden_322313\" style=\"display: none;\">\n",
       "            <p><table style=\"color:black;font-size:x-small\">\n",
       "            <tr><td colspan=2 style=\"text-align:left\">\n",
       "            <b>args:</b></td></tr>            <tr><td colspan=2 style=\"text-align:left\">\n",
       "            <b>kwargs:</b></td></tr></table></div></p>\n",
       "        </div>\n",
       "         "
      ],
      "text/plain": [
       "<IPython.core.display.HTML object>"
      ]
     },
     "metadata": {},
     "output_type": "display_data"
    },
    {
     "data": {
      "text/html": [
       "15-00-28 \n",
       "        <p>\n",
       "            <a href=\"#hidden_537470\" onclick=\"view('hidden_537470'); return false\"\n",
       "            style=\"color:green;text-decoration: none;\"><span ><b>+</b>->run_cell_async->run_ast_nodes->run_code-><module>->run-><module>-></span> </a>\n",
       "        </p>  \n",
       "        <div id=\"hidden_537470\" style=\"display: none;\">\n",
       "            <p><table style=\"color:black;font-size:x-small\">\n",
       "            <tr><td colspan=2 style=\"text-align:left\">\n",
       "            <b>args:</b></td></tr><tr><td style=\"text-align:left\">1.</td><td style=\"text-align:left\">[]</td></tr>             <tr><td colspan=2 style=\"text-align:left\">\n",
       "            <b>kwargs:</b></td></tr></table></div></p>\n",
       "        </div>\n",
       "         "
      ],
      "text/plain": [
       "<IPython.core.display.HTML object>"
      ]
     },
     "metadata": {},
     "output_type": "display_data"
    },
    {
     "data": {
      "text/html": [
       "15-00-28 \n",
       "        <p>\n",
       "            <a href=\"#hidden_248532\" onclick=\"view('hidden_248532'); return false\"\n",
       "            style=\"color:green;text-decoration: none;\"><span ><b>+</b>->run_code-><module>->run->run-><module>-></span> </a>\n",
       "        </p>  \n",
       "        <div id=\"hidden_248532\" style=\"display: none;\">\n",
       "            <p><table style=\"color:black;font-size:x-small\">\n",
       "            <tr><td colspan=2 style=\"text-align:left\">\n",
       "            <b>args:</b></td></tr><tr><td style=\"text-align:left\">1.</td><td style=\"text-align:left\">https://www.morlevi.co.il/</td></tr>             <tr><td colspan=2 style=\"text-align:left\">\n",
       "            <b>kwargs:</b></td></tr></table></div></p>\n",
       "        </div>\n",
       "         "
      ],
      "text/plain": [
       "<IPython.core.display.HTML object>"
      ]
     },
     "metadata": {},
     "output_type": "display_data"
    },
    {
     "data": {
      "text/html": [
       "15-00-49  Current URL: https://www.morlevi.co.il/ "
      ],
      "text/plain": [
       "<IPython.core.display.HTML object>"
      ]
     },
     "metadata": {},
     "output_type": "display_data"
    },
    {
     "data": {
      "text/html": [
       "15-00-49 \n",
       "        <p>\n",
       "            <a href=\"#hidden_950592\" onclick=\"view('hidden_950592'); return false\"\n",
       "            style=\"color:green;text-decoration: none;\"><span ><b>+</b>->run_code-><module>->run->run-><module>-></span> </a>\n",
       "        </p>  \n",
       "        <div id=\"hidden_950592\" style=\"display: none;\">\n",
       "            <p><table style=\"color:black;font-size:x-small\">\n",
       "            <tr><td colspan=2 style=\"text-align:left\">\n",
       "            <b>args:</b></td></tr>            <tr><td colspan=2 style=\"text-align:left\">\n",
       "            <b>kwargs:</b></td></tr></table></div></p>\n",
       "        </div>\n",
       "         "
      ],
      "text/plain": [
       "<IPython.core.display.HTML object>"
      ]
     },
     "metadata": {},
     "output_type": "display_data"
    },
    {
     "data": {
      "text/html": [
       "15-00-49 \n",
       "        <p>\n",
       "            <a href=\"#hidden_72319\" onclick=\"view('hidden_72319'); return false\"\n",
       "            style=\"color:green;text-decoration: none;\"><span ><b>+</b>->run->run->log_in-><module>-></span> </a>\n",
       "        </p>  \n",
       "        <div id=\"hidden_72319\" style=\"display: none;\">\n",
       "            <p><table style=\"color:black;font-size:x-small\">\n",
       "            <tr><td colspan=2 style=\"text-align:left\">\n",
       "            <b>args:</b></td></tr>            <tr><td colspan=2 style=\"text-align:left\">\n",
       "            <b>kwargs:</b></td></tr></table></div></p>\n",
       "        </div>\n",
       "         "
      ],
      "text/plain": [
       "<IPython.core.display.HTML object>"
      ]
     },
     "metadata": {},
     "output_type": "display_data"
    },
    {
     "data": {
      "text/html": [
       "15-00-49  Собссно, логин Морлеви "
      ],
      "text/plain": [
       "<IPython.core.display.HTML object>"
      ]
     },
     "metadata": {},
     "output_type": "display_data"
    },
    {
     "data": {
      "text/html": [
       "15-00-49 \n",
       "        <p>\n",
       "            <a href=\"#hidden_677119\" onclick=\"view('hidden_677119'); return false\"\n",
       "            style=\"color:green;text-decoration: none;\"><span ><b>+</b>->log_in->__login->find-><module>-></span> </a>\n",
       "        </p>  \n",
       "        <div id=\"hidden_677119\" style=\"display: none;\">\n",
       "            <p><table style=\"color:black;font-size:x-small\">\n",
       "            <tr><td colspan=2 style=\"text-align:left\">\n",
       "            <b>args:</b></td></tr><tr><td style=\"text-align:left\">1.</td><td style=\"text-align:left\">[<selenium.webdriver.firefox.webelement.FirefoxWebElement (session=\"8df7ef54-027a-4b6b-b95c-1ccee2aa0684\", element=\"872e34ed-554a-4e56-b358-a0ba82330be1\")>]</td></tr>             <tr><td colspan=2 style=\"text-align:left\">\n",
       "            <b>kwargs:</b></td></tr></table></div></p>\n",
       "        </div>\n",
       "         "
      ],
      "text/plain": [
       "<IPython.core.display.HTML object>"
      ]
     },
     "metadata": {},
     "output_type": "display_data"
    },
    {
     "data": {
      "text/html": [
       "15-00-49 Мор логин - ошибка:\n",
       "        Message: Element <a href=\"javascript:void();\"> is not clickable at point (146,63) because another element <div id=\"site-popup-modal\" class=\"modal fade messageModal show\"> obscures it\n",
       " "
      ],
      "text/plain": [
       "<IPython.core.display.HTML object>"
      ]
     },
     "metadata": {},
     "output_type": "display_data"
    },
    {
     "data": {
      "text/html": [
       "15-00-49  Ошибка, пытаюсь закрыть popup "
      ],
      "text/plain": [
       "<IPython.core.display.HTML object>"
      ]
     },
     "metadata": {},
     "output_type": "display_data"
    },
    {
     "data": {
      "text/html": [
       "15-00-49 \n",
       "        <p>\n",
       "            <a href=\"#hidden_774411\" onclick=\"view('hidden_774411'); return false\"\n",
       "            style=\"color:green;text-decoration: none;\"><span ><b>+</b>->run->run->log_in-><module>-></span> </a>\n",
       "        </p>  \n",
       "        <div id=\"hidden_774411\" style=\"display: none;\">\n",
       "            <p><table style=\"color:black;font-size:x-small\">\n",
       "            <tr><td colspan=2 style=\"text-align:left\">\n",
       "            <b>args:</b></td></tr>            <tr><td colspan=2 style=\"text-align:left\">\n",
       "            <b>kwargs:</b></td></tr></table></div></p>\n",
       "        </div>\n",
       "         "
      ],
      "text/plain": [
       "<IPython.core.display.HTML object>"
      ]
     },
     "metadata": {},
     "output_type": "display_data"
    },
    {
     "data": {
      "text/html": [
       "15-00-56 \n",
       "        <p>\n",
       "            <a href=\"#hidden_233238\" onclick=\"view('hidden_233238'); return false\"\n",
       "            style=\"color:green;text-decoration: none;\"><span ><b>+</b>->run->run->log_in-><module>-></span> </a>\n",
       "        </p>  \n",
       "        <div id=\"hidden_233238\" style=\"display: none;\">\n",
       "            <p><table style=\"color:black;font-size:x-small\">\n",
       "            <tr><td colspan=2 style=\"text-align:left\">\n",
       "            <b>args:</b></td></tr>            <tr><td colspan=2 style=\"text-align:left\">\n",
       "            <b>kwargs:</b></td></tr></table></div></p>\n",
       "        </div>\n",
       "         "
      ],
      "text/plain": [
       "<IPython.core.display.HTML object>"
      ]
     },
     "metadata": {},
     "output_type": "display_data"
    },
    {
     "data": {
      "text/html": [
       "15-00-56  Собссно, логин Морлеви "
      ],
      "text/plain": [
       "<IPython.core.display.HTML object>"
      ]
     },
     "metadata": {},
     "output_type": "display_data"
    },
    {
     "data": {
      "text/html": [
       "15-00-56 \n",
       "        <p>\n",
       "            <a href=\"#hidden_254149\" onclick=\"view('hidden_254149'); return false\"\n",
       "            style=\"color:green;text-decoration: none;\"><span ><b>+</b>->log_in->__login->find-><module>-></span> </a>\n",
       "        </p>  \n",
       "        <div id=\"hidden_254149\" style=\"display: none;\">\n",
       "            <p><table style=\"color:black;font-size:x-small\">\n",
       "            <tr><td colspan=2 style=\"text-align:left\">\n",
       "            <b>args:</b></td></tr><tr><td style=\"text-align:left\">1.</td><td style=\"text-align:left\">[<selenium.webdriver.firefox.webelement.FirefoxWebElement (session=\"8df7ef54-027a-4b6b-b95c-1ccee2aa0684\", element=\"0c907fe1-3e15-4042-8672-2a59a66629b7\")>]</td></tr>             <tr><td colspan=2 style=\"text-align:left\">\n",
       "            <b>kwargs:</b></td></tr></table></div></p>\n",
       "        </div>\n",
       "         "
      ],
      "text/plain": [
       "<IPython.core.display.HTML object>"
      ]
     },
     "metadata": {},
     "output_type": "display_data"
    },
    {
     "data": {
      "text/html": [
       "15-00-57 \n",
       "        <p>\n",
       "            <a href=\"#hidden_131627\" onclick=\"view('hidden_131627'); return false\"\n",
       "            style=\"color:green;text-decoration: none;\"><span ><b>+</b>->log_in->__login->find-><module>-></span> </a>\n",
       "        </p>  \n",
       "        <div id=\"hidden_131627\" style=\"display: none;\">\n",
       "            <p><table style=\"color:black;font-size:x-small\">\n",
       "            <tr><td colspan=2 style=\"text-align:left\">\n",
       "            <b>args:</b></td></tr><tr><td style=\"text-align:left\">1.</td><td style=\"text-align:left\">[<selenium.webdriver.firefox.webelement.FirefoxWebElement (session=\"8df7ef54-027a-4b6b-b95c-1ccee2aa0684\", element=\"0f31a090-48b2-437e-9505-0ed3b058b99c\")>]</td></tr>             <tr><td colspan=2 style=\"text-align:left\">\n",
       "            <b>kwargs:</b></td></tr></table></div></p>\n",
       "        </div>\n",
       "         "
      ],
      "text/plain": [
       "<IPython.core.display.HTML object>"
      ]
     },
     "metadata": {},
     "output_type": "display_data"
    },
    {
     "data": {
      "text/html": [
       "15-00-57 \n",
       "        <p>\n",
       "            <a href=\"#hidden_861834\" onclick=\"view('hidden_861834'); return false\"\n",
       "            style=\"color:green;text-decoration: none;\"><span ><b>+</b>->log_in->__login->find-><module>-></span> </a>\n",
       "        </p>  \n",
       "        <div id=\"hidden_861834\" style=\"display: none;\">\n",
       "            <p><table style=\"color:black;font-size:x-small\">\n",
       "            <tr><td colspan=2 style=\"text-align:left\">\n",
       "            <b>args:</b></td></tr><tr><td style=\"text-align:left\">1.</td><td style=\"text-align:left\">[<selenium.webdriver.firefox.webelement.FirefoxWebElement (session=\"8df7ef54-027a-4b6b-b95c-1ccee2aa0684\", element=\"0e0837f5-d556-449d-827e-a430bfdc7dde\")>]</td></tr>             <tr><td colspan=2 style=\"text-align:left\">\n",
       "            <b>kwargs:</b></td></tr></table></div></p>\n",
       "        </div>\n",
       "         "
      ],
      "text/plain": [
       "<IPython.core.display.HTML object>"
      ]
     },
     "metadata": {},
     "output_type": "display_data"
    },
    {
     "data": {
      "text/html": [
       "15-00-57 \n",
       "        <p>\n",
       "            <a href=\"#hidden_224472\" onclick=\"view('hidden_224472'); return false\"\n",
       "            style=\"color:green;text-decoration: none;\"><span ><b>+</b>->log_in->__login->find-><module>-></span> </a>\n",
       "        </p>  \n",
       "        <div id=\"hidden_224472\" style=\"display: none;\">\n",
       "            <p><table style=\"color:black;font-size:x-small\">\n",
       "            <tr><td colspan=2 style=\"text-align:left\">\n",
       "            <b>args:</b></td></tr><tr><td style=\"text-align:left\">1.</td><td style=\"text-align:left\">[<selenium.webdriver.firefox.webelement.FirefoxWebElement (session=\"8df7ef54-027a-4b6b-b95c-1ccee2aa0684\", element=\"2bbaf083-9ec6-4528-a51b-fde7a4d03dd6\")>]</td></tr>             <tr><td colspan=2 style=\"text-align:left\">\n",
       "            <b>kwargs:</b></td></tr></table></div></p>\n",
       "        </div>\n",
       "         "
      ],
      "text/plain": [
       "<IPython.core.display.HTML object>"
      ]
     },
     "metadata": {},
     "output_type": "display_data"
    },
    {
     "data": {
      "text/html": [
       "15-00-59 Mor logged in "
      ],
      "text/plain": [
       "<IPython.core.display.HTML object>"
      ]
     },
     "metadata": {},
     "output_type": "display_data"
    },
    {
     "data": {
      "text/html": [
       "15-00-59 \n",
       "        <p>\n",
       "            <a href=\"#hidden_736217\" onclick=\"view('hidden_736217'); return false\"\n",
       "            style=\"color:green;text-decoration: none;\"><span ><b>+</b>->run->log_in->find-><module>-></span> </a>\n",
       "        </p>  \n",
       "        <div id=\"hidden_736217\" style=\"display: none;\">\n",
       "            <p><table style=\"color:black;font-size:x-small\">\n",
       "            <tr><td colspan=2 style=\"text-align:left\">\n",
       "            <b>args:</b></td></tr><tr><td style=\"text-align:left\">1.</td><td style=\"text-align:left\">[<selenium.webdriver.firefox.webelement.FirefoxWebElement (session=\"8df7ef54-027a-4b6b-b95c-1ccee2aa0684\", element=\"1a61cd97-ba28-4dab-bb54-cfffc9a66796\")>]</td></tr>             <tr><td colspan=2 style=\"text-align:left\">\n",
       "            <b>kwargs:</b></td></tr></table></div></p>\n",
       "        </div>\n",
       "         "
      ],
      "text/plain": [
       "<IPython.core.display.HTML object>"
      ]
     },
     "metadata": {},
     "output_type": "display_data"
    },
    {
     "data": {
      "text/html": [
       "15-01-00 \n",
       "        <p>\n",
       "            <a href=\"#hidden_370687\" onclick=\"view('hidden_370687'); return false\"\n",
       "            style=\"color:green;text-decoration: none;\"><span ><b>+</b>->run->run->log_in-><module>-></span> </a>\n",
       "        </p>  \n",
       "        <div id=\"hidden_370687\" style=\"display: none;\">\n",
       "            <p><table style=\"color:black;font-size:x-small\">\n",
       "            <tr><td colspan=2 style=\"text-align:left\">\n",
       "            <b>args:</b></td></tr><tr><td style=\"text-align:left\">1.</td><td style=\"text-align:left\">5</td></tr>             <tr><td colspan=2 style=\"text-align:left\">\n",
       "            <b>kwargs:</b></td></tr></table></div></p>\n",
       "        </div>\n",
       "         "
      ],
      "text/plain": [
       "<IPython.core.display.HTML object>"
      ]
     },
     "metadata": {},
     "output_type": "display_data"
    },
    {
     "data": {
      "text/html": [
       "15-01-05  \n",
       "            Не удалось залогиниться \n",
       "            morlevi\n",
       "             "
      ],
      "text/plain": [
       "<IPython.core.display.HTML object>"
      ]
     },
     "metadata": {},
     "output_type": "display_data"
    },
    {
     "data": {
      "text/html": [
       "15-01-05 \n",
       "            Не удалось залогиниться\n",
       "            morlevi\n",
       "             "
      ],
      "text/plain": [
       "<IPython.core.display.HTML object>"
      ]
     },
     "metadata": {},
     "output_type": "display_data"
    }
   ],
   "source": [
    "import main\n",
    "main.run(['morlevi'])"
   ]
  },
  {
   "cell_type": "code",
   "execution_count": null,
   "metadata": {},
   "outputs": [],
   "source": []
  }
 ],
 "metadata": {
  "kernelspec": {
   "display_name": "Python 3",
   "language": "python",
   "name": "python3"
  },
  "language_info": {
   "codemirror_mode": {
    "name": "ipython",
    "version": 3
   },
   "file_extension": ".py",
   "mimetype": "text/x-python",
   "name": "python",
   "nbconvert_exporter": "python",
   "pygments_lexer": "ipython3",
   "version": "3.7.6"
  }
 },
 "nbformat": 4,
 "nbformat_minor": 4
}
