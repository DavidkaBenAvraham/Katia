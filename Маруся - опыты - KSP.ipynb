{
 "cells": [
  {
   "cell_type": "code",
   "execution_count": 4,
   "id": "d998ba16",
   "metadata": {},
   "outputs": [],
   "source": [
    "#import ipywidgets as widgets\n",
    "#from IPython.display import display\n",
    "from suppliers import Supplier\n",
    "from ini_files_dir import Ini\n",
    "ini = Ini()\n",
    "\n",
    "s  = Supplier(supplier_prefics = 'ksp'  , ini = ini)"
   ]
  },
  {
   "cell_type": "code",
   "execution_count": 5,
   "id": "4fe90a3e",
   "metadata": {},
   "outputs": [],
   "source": [
    "d = s.driver"
   ]
  },
  {
   "cell_type": "code",
   "execution_count": 6,
   "id": "e2476f5d",
   "metadata": {},
   "outputs": [],
   "source": [
    "import suppliers.execute_scenaries as executer"
   ]
  },
  {
   "cell_type": "code",
   "execution_count": 1,
   "id": "2e1f8058",
   "metadata": {},
   "outputs": [
    {
     "ename": "NameError",
     "evalue": "name 'executer' is not defined",
     "output_type": "error",
     "traceback": [
      "\u001b[1;31m---------------------------------------------------------------------------\u001b[0m",
      "\u001b[1;31mNameError\u001b[0m                                 Traceback (most recent call last)",
      "Input \u001b[1;32mIn [1]\u001b[0m, in \u001b[0;36m<cell line: 1>\u001b[1;34m()\u001b[0m\n\u001b[1;32m----> 1\u001b[0m \u001b[43mexecuter\u001b[49m\u001b[38;5;241m.\u001b[39mexecute_list_of_scenaries(s)\n",
      "\u001b[1;31mNameError\u001b[0m: name 'executer' is not defined"
     ]
    }
   ],
   "source": [
    "executer.execute_list_of_scenaries(s)"
   ]
  },
  {
   "cell_type": "code",
   "execution_count": null,
   "id": "343f7592",
   "metadata": {},
   "outputs": [],
   "source": [
    "run_scenario(s , _scenario) "
   ]
  }
 ],
 "metadata": {
  "kernelspec": {
   "display_name": "Python 3 (ipykernel)",
   "language": "python",
   "name": "python3"
  },
  "language_info": {
   "codemirror_mode": {
    "name": "ipython",
    "version": 3
   },
   "file_extension": ".py",
   "mimetype": "text/x-python",
   "name": "python",
   "nbconvert_exporter": "python",
   "pygments_lexer": "ipython3",
   "version": "3.9.12"
  }
 },
 "nbformat": 4,
 "nbformat_minor": 5
}
