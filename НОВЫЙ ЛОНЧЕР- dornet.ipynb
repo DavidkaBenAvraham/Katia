{
 "cells": [
  {
   "cell_type": "code",
   "execution_count": 1,
   "metadata": {},
   "outputs": [
    {
     "name": "stdout",
     "output_type": "stream",
     "text": [
      "2020-10-16 16:53:18.542162 (delta = 0:00:00) \t : \t __init__->__init__->write: \n",
      "        LOG STR:  запустился класс Driver()  \n",
      "2020-10-16 16:53:25.065633 (delta = 0:00:06.523471) \t : \t run_supplier->__init__->write: \n",
      "        LOG STR:  запустился класс dornet \n",
      "2020-10-16 16:53:28.003306 (delta = 0:00:02.937673) \t : \t run->get_url->write: \n",
      "        LOG STR:        Успешный переход по адресу: https://www.cable.co.il/\n",
      "            Title : Cable - כבלי רשת, כבלי אודיו, כבלי וידאו    \n",
      "2020-10-16 16:53:30.111776 (delta = 0:00:02.108470) \t : \t run->logged_in->write: \n",
      "        LOG STR:  [<selenium.webdriver.firefox.webelement.FirefoxWebElement (session=\"4bff7ae9-0b7f-46eb-b70d-c8de4874215a\", element=\"0d7156bb-01ba-4a96-9dfa-126a6312835e\")>, <selenium.webdriver.firefox.webelement.FirefoxWebElement (session=\"4bff7ae9-0b7f-46eb-b70d-c8de4874215a\", element=\"1971ab43-546f-473f-b5b9-04f219440c25\")>] \n",
      "2020-10-16 16:53:30.112776 (delta = 0:00:00.001000) \t : \t run->logged_in->write: \n",
      "        LOG STR:  DORNET logged in \n",
      "2020-10-16 16:53:30.113776 (delta = 0:00:00.001000) \t : \t export_products_by_scenaries->execute_list_of_scenaries->write: \n",
      "        LOG STR:   -=OK!=-  \n",
      "2020-10-16 16:53:30.114776 (delta = 0:00:00.001000) \t : \t flush_p->flush_p->write: \n",
      "        LOG STR:   Пустой список продуктов. Нечего записыавть  \n"
     ]
    }
   ],
   "source": [
    "import main\n",
    "\n",
    "suppliers_names = ['cdata','mor','grand','vdg','dornet']\n",
    "one_supplier = ['dornet']\n",
    "\n",
    "for supplier_name in one_supplier:\n",
    "    supplier = main.run_supplier(supplier_name)\n",
    "    if supplier != False: main.run_scenario(supplier)"
   ]
  },
  {
   "cell_type": "code",
   "execution_count": null,
   "metadata": {},
   "outputs": [],
   "source": []
  },
  {
   "cell_type": "code",
   "execution_count": null,
   "metadata": {},
   "outputs": [],
   "source": []
  }
 ],
 "metadata": {
  "kernelspec": {
   "display_name": "Python 3",
   "language": "python",
   "name": "python3"
  },
  "language_info": {
   "codemirror_mode": {
    "name": "ipython",
    "version": 3
   },
   "file_extension": ".py",
   "mimetype": "text/x-python",
   "name": "python",
   "nbconvert_exporter": "python",
   "pygments_lexer": "ipython3",
   "version": "3.7.6"
  }
 },
 "nbformat": 4,
 "nbformat_minor": 4
}
